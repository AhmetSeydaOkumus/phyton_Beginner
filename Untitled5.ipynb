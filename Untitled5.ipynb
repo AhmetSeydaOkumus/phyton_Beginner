{
 "cells": [
  {
   "cell_type": "code",
   "execution_count": 1,
   "id": "4a497f0a",
   "metadata": {},
   "outputs": [],
   "source": [
    "import math"
   ]
  },
  {
   "cell_type": "code",
   "execution_count": 2,
   "id": "6e3ae772",
   "metadata": {},
   "outputs": [
    {
     "data": {
      "text/plain": [
       "4.0"
      ]
     },
     "execution_count": 2,
     "metadata": {},
     "output_type": "execute_result"
    }
   ],
   "source": [
    "math.sqrt(16) #karekok"
   ]
  },
  {
   "cell_type": "code",
   "execution_count": 3,
   "id": "aab6929e",
   "metadata": {},
   "outputs": [],
   "source": [
    "import os"
   ]
  },
  {
   "cell_type": "code",
   "execution_count": 4,
   "id": "e89e0b29",
   "metadata": {},
   "outputs": [
    {
     "data": {
      "text/plain": [
       "'C:\\\\Users\\\\Belgie\\\\Desktop\\\\Project\\\\Phyton Beginner\\\\Phton-Beginner\\\\Beginner\\\\phyton_Beginner'"
      ]
     },
     "execution_count": 4,
     "metadata": {},
     "output_type": "execute_result"
    }
   ],
   "source": [
    "os.getcwd() #hangi dizinde oldugunu gosterir"
   ]
  },
  {
   "cell_type": "code",
   "execution_count": 9,
   "id": "cf41dd32",
   "metadata": {},
   "outputs": [],
   "source": [
    "os.mkdir(\"deneme klasor\") #bulundugun dizinde kalsor olusturmaya yarar"
   ]
  },
  {
   "cell_type": "code",
   "execution_count": 10,
   "id": "ae3c01e5",
   "metadata": {},
   "outputs": [],
   "source": [
    "os.rmdir(\"deneme klasor\") #bulundugun dizinde klasor silme islemi"
   ]
  },
  {
   "cell_type": "code",
   "execution_count": 12,
   "id": "d24a2811",
   "metadata": {},
   "outputs": [],
   "source": [
    "import random"
   ]
  },
  {
   "cell_type": "code",
   "execution_count": 13,
   "id": "3d3b31a2",
   "metadata": {},
   "outputs": [
    {
     "data": {
      "text/plain": [
       "0.2115791078170628"
      ]
     },
     "execution_count": 13,
     "metadata": {},
     "output_type": "execute_result"
    }
   ],
   "source": [
    "random.random() #sifir ile bir arasinda rstgele bir deger verir"
   ]
  },
  {
   "cell_type": "code",
   "execution_count": 14,
   "id": "8833249c",
   "metadata": {},
   "outputs": [
    {
     "data": {
      "text/plain": [
       "25"
      ]
     },
     "execution_count": 14,
     "metadata": {},
     "output_type": "execute_result"
    }
   ],
   "source": [
    "random.randint(1,99) #bu sayilar rasinda rastgele bir deger verir"
   ]
  },
  {
   "cell_type": "code",
   "execution_count": 15,
   "id": "309391e2",
   "metadata": {},
   "outputs": [
    {
     "data": {
      "text/plain": [
       "6"
      ]
     },
     "execution_count": 15,
     "metadata": {},
     "output_type": "execute_result"
    }
   ],
   "source": [
    "random.randrange(1,10)  #rastgele bir sayi secer farkli olaraksonuda dahildir"
   ]
  },
  {
   "cell_type": "code",
   "execution_count": 16,
   "id": "83fbad56",
   "metadata": {},
   "outputs": [
    {
     "data": {
      "text/plain": [
       "'b'"
      ]
     },
     "execution_count": 16,
     "metadata": {},
     "output_type": "execute_result"
    }
   ],
   "source": [
    "random.choice(\"merhaba\")"
   ]
  },
  {
   "cell_type": "code",
   "execution_count": 17,
   "id": "65b3010a",
   "metadata": {},
   "outputs": [
    {
     "data": {
      "text/plain": [
       "'1'"
      ]
     },
     "execution_count": 17,
     "metadata": {},
     "output_type": "execute_result"
    }
   ],
   "source": [
    "random.choice([\"1\",2,True])"
   ]
  },
  {
   "cell_type": "code",
   "execution_count": 25,
   "id": "19749419",
   "metadata": {},
   "outputs": [],
   "source": [
    "with open(\"ilk dosyam.txt\",\"w\") as myDosya:    #ici bos olan dosyaya bir sey yazmak icin \"w\" kullaniliyor\n",
    "                                               #myDosya bu islemi nasil cagiracaginin atamasi\n",
    "    myString=\"merhaba\"\n",
    "    print(myString, file=myDosya)"
   ]
  },
  {
   "cell_type": "code",
   "execution_count": 26,
   "id": "92bb75c7",
   "metadata": {},
   "outputs": [
    {
     "data": {
      "text/plain": [
       "True"
      ]
     },
     "execution_count": 26,
     "metadata": {},
     "output_type": "execute_result"
    }
   ],
   "source": [
    "myDosya.closed  #dosyam kapalimi acik mi ona baktim kapaliymis"
   ]
  },
  {
   "cell_type": "code",
   "execution_count": 27,
   "id": "05a20bb2",
   "metadata": {},
   "outputs": [],
   "source": [
    "with open(\"ilk dosyam.txt\", \"r\")as a:  #dosyanin icini okumak icin \"r\" kullaniliyor\n",
    "    string=a.read()"
   ]
  },
  {
   "cell_type": "code",
   "execution_count": 28,
   "id": "a687404b",
   "metadata": {},
   "outputs": [
    {
     "data": {
      "text/plain": [
       "'merhaba\\n'"
      ]
     },
     "execution_count": 28,
     "metadata": {},
     "output_type": "execute_result"
    }
   ],
   "source": [
    "string"
   ]
  },
  {
   "cell_type": "code",
   "execution_count": 30,
   "id": "627ddf1c",
   "metadata": {},
   "outputs": [],
   "source": [
    "with open(\"ilk dosyam.txt\", \"a\") as f:  #icinde bir sey olan dosyaya yeni bir sey eklemek icin \"a\" kullaniliyor.\n",
    "    str2=\"yeni bir sey\"                 #as f ise onemli degil herhangi bir sey yazilabilir.\n",
    "    f.write(str2)"
   ]
  },
  {
   "cell_type": "code",
   "execution_count": 31,
   "id": "bdf8dc01",
   "metadata": {},
   "outputs": [],
   "source": [
    "with open(\"ilk dosyam.txt\", \"r\")as a:  #dosyanin icini okumak icin\n",
    "    string=a.read()"
   ]
  },
  {
   "cell_type": "code",
   "execution_count": 32,
   "id": "4bc46632",
   "metadata": {},
   "outputs": [
    {
     "data": {
      "text/plain": [
       "'merhaba\\nyeni bir sey'"
      ]
     },
     "execution_count": 32,
     "metadata": {},
     "output_type": "execute_result"
    }
   ],
   "source": [
    "string"
   ]
  },
  {
   "cell_type": "code",
   "execution_count": 67,
   "id": "576ebad3",
   "metadata": {},
   "outputs": [],
   "source": [
    "def marketekimgidecek():\n",
    "    import random\n",
    "    a=input(\"yanyana aralarina bosluk birakarak isimleri giriniz\")\n",
    "    newlist=list(a)\n",
    "    newwlist=\"\".join(newlist)\n",
    "    newwwlist=newwlist.split(\" \")\n",
    "    print(random.choice(newwwlist))\n",
    "    "
   ]
  },
  {
   "cell_type": "code",
   "execution_count": 64,
   "id": "b5ccfbfb",
   "metadata": {},
   "outputs": [
    {
     "name": "stdout",
     "output_type": "stream",
     "text": [
      "yanyana aralarina bosluk birakarak isimleri girinizahmet dilagul bedir\n",
      "ahmet\n"
     ]
    }
   ],
   "source": [
    "marketekimgidecek()"
   ]
  },
  {
   "cell_type": "code",
   "execution_count": 80,
   "id": "40bbc691",
   "metadata": {},
   "outputs": [
    {
     "name": "stdout",
     "output_type": "stream",
     "text": [
      "yanyana aralarina bosluk birakarak isimleri girinizahmet bedir ogun dila\n",
      "ogun\n"
     ]
    }
   ],
   "source": [
    "marketekimgidecek()"
   ]
  },
  {
   "cell_type": "code",
   "execution_count": 79,
   "id": "e6ee6daf",
   "metadata": {},
   "outputs": [],
   "source": [
    "def pasfonk():\n",
    "    pass"
   ]
  },
  {
   "cell_type": "code",
   "execution_count": 81,
   "id": "1b8895d4",
   "metadata": {},
   "outputs": [
    {
     "name": "stdout",
     "output_type": "stream",
     "text": [
      "None\n"
     ]
    }
   ],
   "source": [
    "import random\n",
    "print(random.shuffle([1,2,3,4,5,6,7])) #listeyi karistirarak sanuc verir\n"
   ]
  },
  {
   "cell_type": "code",
   "execution_count": null,
   "id": "753a5780",
   "metadata": {},
   "outputs": [],
   "source": []
  }
 ],
 "metadata": {
  "kernelspec": {
   "display_name": "Python 3 (ipykernel)",
   "language": "python",
   "name": "python3"
  },
  "language_info": {
   "codemirror_mode": {
    "name": "ipython",
    "version": 3
   },
   "file_extension": ".py",
   "mimetype": "text/x-python",
   "name": "python",
   "nbconvert_exporter": "python",
   "pygments_lexer": "ipython3",
   "version": "3.9.7"
  }
 },
 "nbformat": 4,
 "nbformat_minor": 5
}
