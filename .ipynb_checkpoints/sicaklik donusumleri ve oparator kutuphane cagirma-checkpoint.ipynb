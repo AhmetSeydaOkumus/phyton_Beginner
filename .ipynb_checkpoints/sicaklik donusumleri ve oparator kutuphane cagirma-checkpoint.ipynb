{
 "cells": [
  {
   "cell_type": "code",
   "execution_count": 4,
   "id": "a3926971",
   "metadata": {},
   "outputs": [
    {
     "name": "stdout",
     "output_type": "stream",
     "text": [
      "bir kelvin degeri giriniz373\n"
     ]
    },
    {
     "data": {
      "text/plain": [
       "'373 kelvin, 212.0 fahrenheit veya 100.0 santigrat eder.'"
      ]
     },
     "execution_count": 4,
     "metadata": {},
     "output_type": "execute_result"
    }
   ],
   "source": [
    "kelvin=input(\"bir kelvin degeri giriniz\")\n",
    "fahrenheit=int(kelvin)/373*212\n",
    "santigrat=int(fahrenheit)/212*100\n",
    "\"{} kelvin, {} fahrenheit veya {} santigrat eder.\".format(kelvin,fahrenheit,santigrat)"
   ]
  },
  {
   "cell_type": "code",
   "execution_count": 6,
   "id": "cb1dd5df",
   "metadata": {},
   "outputs": [
    {
     "data": {
      "text/plain": [
       "True"
      ]
     },
     "execution_count": 6,
     "metadata": {},
     "output_type": "execute_result"
    }
   ],
   "source": [
    "a=5\n",
    "y=5\n",
    "a is y"
   ]
  },
  {
   "cell_type": "code",
   "execution_count": 7,
   "id": "ab786f2c",
   "metadata": {},
   "outputs": [
    {
     "data": {
      "text/plain": [
       "1866805963184"
      ]
     },
     "execution_count": 7,
     "metadata": {},
     "output_type": "execute_result"
    }
   ],
   "source": [
    "id(a)"
   ]
  },
  {
   "cell_type": "code",
   "execution_count": 9,
   "id": "ce34fa32",
   "metadata": {},
   "outputs": [
    {
     "data": {
      "text/plain": [
       "1866805963184"
      ]
     },
     "execution_count": 9,
     "metadata": {},
     "output_type": "execute_result"
    }
   ],
   "source": [
    "id(y)"
   ]
  },
  {
   "cell_type": "code",
   "execution_count": 10,
   "id": "e7b47263",
   "metadata": {},
   "outputs": [],
   "source": [
    "a=y"
   ]
  },
  {
   "cell_type": "code",
   "execution_count": 11,
   "id": "650c49b6",
   "metadata": {},
   "outputs": [
    {
     "data": {
      "text/plain": [
       "1866805963184"
      ]
     },
     "execution_count": 11,
     "metadata": {},
     "output_type": "execute_result"
    }
   ],
   "source": [
    "id(a)"
   ]
  },
  {
   "cell_type": "code",
   "execution_count": 12,
   "id": "da910d74",
   "metadata": {},
   "outputs": [
    {
     "data": {
      "text/plain": [
       "1866805963184"
      ]
     },
     "execution_count": 12,
     "metadata": {},
     "output_type": "execute_result"
    }
   ],
   "source": [
    "id(y)"
   ]
  },
  {
   "cell_type": "code",
   "execution_count": 13,
   "id": "d639f7b0",
   "metadata": {},
   "outputs": [],
   "source": [
    "import operator"
   ]
  },
  {
   "cell_type": "code",
   "execution_count": 14,
   "id": "b7215182",
   "metadata": {},
   "outputs": [
    {
     "data": {
      "text/plain": [
       "16"
      ]
     },
     "execution_count": 14,
     "metadata": {},
     "output_type": "execute_result"
    }
   ],
   "source": [
    "operator.add(5,11)"
   ]
  },
  {
   "cell_type": "code",
   "execution_count": 15,
   "id": "1d8f974b",
   "metadata": {},
   "outputs": [],
   "source": [
    "nums=[2,5,6]"
   ]
  },
  {
   "cell_type": "code",
   "execution_count": 18,
   "id": "062c6690",
   "metadata": {},
   "outputs": [
    {
     "data": {
      "text/plain": [
       "True"
      ]
     },
     "execution_count": 18,
     "metadata": {},
     "output_type": "execute_result"
    }
   ],
   "source": [
    "operator.contains(nums,2)"
   ]
  },
  {
   "cell_type": "code",
   "execution_count": 19,
   "id": "7ca7817e",
   "metadata": {},
   "outputs": [
    {
     "data": {
      "text/plain": [
       "True"
      ]
     },
     "execution_count": 19,
     "metadata": {},
     "output_type": "execute_result"
    }
   ],
   "source": [
    "2 in nums #bir baska sorgulama yontemi"
   ]
  },
  {
   "cell_type": "code",
   "execution_count": 20,
   "id": "e4fff8eb",
   "metadata": {},
   "outputs": [],
   "source": [
    "thislist=[\"apple\",\"banana\",\"strawberry\"]\n",
    "thislist[1]=\"nut\""
   ]
  },
  {
   "cell_type": "code",
   "execution_count": 21,
   "id": "add24700",
   "metadata": {},
   "outputs": [
    {
     "data": {
      "text/plain": [
       "'nut'"
      ]
     },
     "execution_count": 21,
     "metadata": {},
     "output_type": "execute_result"
    }
   ],
   "source": [
    "thislist[1]"
   ]
  },
  {
   "cell_type": "code",
   "execution_count": 22,
   "id": "922d0b70",
   "metadata": {},
   "outputs": [
    {
     "data": {
      "text/plain": [
       "['apple', 'nut', 'strawberry']"
      ]
     },
     "execution_count": 22,
     "metadata": {},
     "output_type": "execute_result"
    }
   ],
   "source": [
    "thislist"
   ]
  },
  {
   "cell_type": "code",
   "execution_count": 35,
   "id": "de89dacd",
   "metadata": {},
   "outputs": [
    {
     "data": {
      "text/plain": [
       "['ahmet', 4, 132, 12, False, [1, 2, 'ahmet']]"
      ]
     },
     "execution_count": 35,
     "metadata": {},
     "output_type": "execute_result"
    }
   ],
   "source": [
    "myList=[\"ahmet\",4,132,12,bool(),[1,2,\"ahmet\"]]\n",
    "myList"
   ]
  },
  {
   "cell_type": "code",
   "execution_count": 36,
   "id": "4147179d",
   "metadata": {},
   "outputs": [],
   "source": [
    "myList3=list(\"hello\")"
   ]
  },
  {
   "cell_type": "code",
   "execution_count": 38,
   "id": "6a3fa6fd",
   "metadata": {},
   "outputs": [
    {
     "data": {
      "text/plain": [
       "['h', 'e', 'l', 'l', 'o']"
      ]
     },
     "execution_count": 38,
     "metadata": {},
     "output_type": "execute_result"
    }
   ],
   "source": [
    "myList3"
   ]
  },
  {
   "cell_type": "code",
   "execution_count": 41,
   "id": "43b60cac",
   "metadata": {},
   "outputs": [],
   "source": [
    "myList5=list({1,3,5,5}) #setler yani suslu parantez ile olusturulanlar duble girise izin ver mez bundan dolayi listede bir tane 5 gorunecektir.(no duplicate)"
   ]
  },
  {
   "cell_type": "code",
   "execution_count": 40,
   "id": "41f36033",
   "metadata": {},
   "outputs": [
    {
     "data": {
      "text/plain": [
       "[1, 3, 5]"
      ]
     },
     "execution_count": 40,
     "metadata": {},
     "output_type": "execute_result"
    }
   ],
   "source": [
    "myList5"
   ]
  },
  {
   "cell_type": "code",
   "execution_count": 47,
   "id": "fc1569d8",
   "metadata": {},
   "outputs": [
    {
     "data": {
      "text/plain": [
       "'2 merhaba 3'"
      ]
     },
     "execution_count": 47,
     "metadata": {},
     "output_type": "execute_result"
    }
   ],
   "source": [
    "numberlist=[1,2,3]\n",
    "\"{} merhaba {}\".format(numberlist [1], numberlist[2])"
   ]
  },
  {
   "cell_type": "code",
   "execution_count": 48,
   "id": "26996653",
   "metadata": {},
   "outputs": [
    {
     "data": {
      "text/plain": [
       "'[1, 2, 3]kere merhaba'"
      ]
     },
     "execution_count": 48,
     "metadata": {},
     "output_type": "execute_result"
    }
   ],
   "source": [
    "\"{}kere {}\".format(numberlist, \"merhaba\")"
   ]
  },
  {
   "cell_type": "code",
   "execution_count": 49,
   "id": "4b9a3a17",
   "metadata": {},
   "outputs": [
    {
     "data": {
      "text/plain": [
       "'3kere merhaba'"
      ]
     },
     "execution_count": 49,
     "metadata": {},
     "output_type": "execute_result"
    }
   ],
   "source": [
    "\"{}kere {}\".format(numberlist[2], \"merhaba\")"
   ]
  },
  {
   "cell_type": "code",
   "execution_count": 50,
   "id": "e434fe79",
   "metadata": {},
   "outputs": [
    {
     "data": {
      "text/plain": [
       "['merhaba', 'nasilsin', 'kardes']"
      ]
     },
     "execution_count": 50,
     "metadata": {},
     "output_type": "execute_result"
    }
   ],
   "source": [
    "myList=\"merhaba nasilsin kardes\"\n",
    "myList.split()"
   ]
  },
  {
   "cell_type": "code",
   "execution_count": 51,
   "id": "920b0f21",
   "metadata": {},
   "outputs": [
    {
     "data": {
      "text/plain": [
       "'merhaba nasilsin kardes'"
      ]
     },
     "execution_count": 51,
     "metadata": {},
     "output_type": "execute_result"
    }
   ],
   "source": [
    "\"\".join(myList) #splitin ters calistirilmasina yarar "
   ]
  },
  {
   "cell_type": "code",
   "execution_count": 52,
   "id": "84d7517e",
   "metadata": {},
   "outputs": [
    {
     "data": {
      "text/plain": [
       "[1, 5, 7, 1, 5, 7, 1, 5, 7, 1, 5, 7, 1, 5, 7]"
      ]
     },
     "execution_count": 52,
     "metadata": {},
     "output_type": "execute_result"
    }
   ],
   "source": [
    "liste=[1,5,7]\n",
    "liste*5"
   ]
  },
  {
   "cell_type": "code",
   "execution_count": 59,
   "id": "5c717e75",
   "metadata": {},
   "outputs": [],
   "source": [
    "liste[0]=\"1,9,8\""
   ]
  },
  {
   "cell_type": "code",
   "execution_count": 60,
   "id": "21207aa5",
   "metadata": {},
   "outputs": [
    {
     "data": {
      "text/plain": [
       "['1,9,8', 5, 7]"
      ]
     },
     "execution_count": 60,
     "metadata": {},
     "output_type": "execute_result"
    }
   ],
   "source": [
    "liste"
   ]
  },
  {
   "cell_type": "code",
   "execution_count": 61,
   "id": "de288dcb",
   "metadata": {},
   "outputs": [
    {
     "data": {
      "text/plain": [
       "'1,9,8'"
      ]
     },
     "execution_count": 61,
     "metadata": {},
     "output_type": "execute_result"
    }
   ],
   "source": [
    "liste[0] #listenin 0 inci elemani"
   ]
  },
  {
   "cell_type": "code",
   "execution_count": 63,
   "id": "2051f825",
   "metadata": {},
   "outputs": [
    {
     "data": {
      "text/plain": [
       "'1'"
      ]
     },
     "execution_count": 63,
     "metadata": {},
     "output_type": "execute_result"
    }
   ],
   "source": [
    "liste[0][0] #listenin 0 inci elamaninin 0 inci elamani"
   ]
  },
  {
   "cell_type": "code",
   "execution_count": 66,
   "id": "92836493",
   "metadata": {},
   "outputs": [
    {
     "data": {
      "text/plain": [
       "[10, 30, 50, 70, 90]"
      ]
     },
     "execution_count": 66,
     "metadata": {},
     "output_type": "execute_result"
    }
   ],
   "source": [
    "list(range(10,100,20))"
   ]
  },
  {
   "cell_type": "code",
   "execution_count": null,
   "id": "fcaed5a2",
   "metadata": {},
   "outputs": [],
   "source": []
  }
 ],
 "metadata": {
  "kernelspec": {
   "display_name": "Python 3 (ipykernel)",
   "language": "python",
   "name": "python3"
  },
  "language_info": {
   "codemirror_mode": {
    "name": "ipython",
    "version": 3
   },
   "file_extension": ".py",
   "mimetype": "text/x-python",
   "name": "python",
   "nbconvert_exporter": "python",
   "pygments_lexer": "ipython3",
   "version": "3.9.7"
  }
 },
 "nbformat": 4,
 "nbformat_minor": 5
}
