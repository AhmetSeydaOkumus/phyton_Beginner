{
 "cells": [
  {
   "cell_type": "code",
   "execution_count": 4,
   "id": "0a60b06f",
   "metadata": {},
   "outputs": [
    {
     "data": {
      "text/plain": [
       "'587numarali urunden 1 adetin fiyati 40 liradir.'"
      ]
     },
     "execution_count": 4,
     "metadata": {},
     "output_type": "execute_result"
    }
   ],
   "source": [
    "adet=1\n",
    "urun_No=587\n",
    "fiyat=40\n",
    "siparis=\"{}numarali urunden {} adetin fiyati {} liradir.\"\n",
    "siparis.format(urun_No,adet,fiyat)"
   ]
  },
  {
   "cell_type": "code",
   "execution_count": 5,
   "id": "fda3f6e9",
   "metadata": {},
   "outputs": [
    {
     "data": {
      "text/plain": [
       "'one year has 12 months, 52 weeks, 365 days.'"
      ]
     },
     "execution_count": 5,
     "metadata": {},
     "output_type": "execute_result"
    }
   ],
   "source": [
    "ay=12\n",
    "hafta=52\n",
    "gun=365\n",
    "\"one year has {} months, {} weeks, {} days.\".format(ay,hafta,gun)"
   ]
  },
  {
   "cell_type": "code",
   "execution_count": 6,
   "id": "2e409621",
   "metadata": {},
   "outputs": [
    {
     "name": "stdout",
     "output_type": "stream",
     "text": [
      "isminizi girinizahmet\n"
     ]
    },
    {
     "data": {
      "text/plain": [
       "'hello ahmet'"
      ]
     },
     "execution_count": 6,
     "metadata": {},
     "output_type": "execute_result"
    }
   ],
   "source": [
    "a=input(\"isminizi giriniz\")\n",
    "\"hello {}\".format(a)"
   ]
  },
  {
   "cell_type": "code",
   "execution_count": 8,
   "id": "90e3fc7d",
   "metadata": {},
   "outputs": [
    {
     "data": {
      "text/plain": [
       "0"
      ]
     },
     "execution_count": 8,
     "metadata": {},
     "output_type": "execute_result"
    }
   ],
   "source": [
    "a.index(a)"
   ]
  },
  {
   "cell_type": "code",
   "execution_count": 11,
   "id": "d63d3d5c",
   "metadata": {},
   "outputs": [
    {
     "data": {
      "text/plain": [
       "'Mr.hathaway@amymail.com'"
      ]
     },
     "execution_count": 11,
     "metadata": {},
     "output_type": "execute_result"
    }
   ],
   "source": [
    "adresses= (\"Mr.hathaway\",\"amymail.com\")\n",
    "\"@\".join(adresses)"
   ]
  },
  {
   "cell_type": "code",
   "execution_count": 20,
   "id": "f0ccfb42",
   "metadata": {},
   "outputs": [],
   "source": [
    "poem_lst=[\"Not enjoyment, and not sorrow,\", \"Is our destined end or way;\", \"But to act, that each tomorrow\", \"Find us farther than today.\"]"
   ]
  },
  {
   "cell_type": "code",
   "execution_count": 21,
   "id": "9167402e",
   "metadata": {},
   "outputs": [
    {
     "name": "stdout",
     "output_type": "stream",
     "text": [
      "Not enjoyment, and not sorrow,\n",
      "Is our destined end or way;\n",
      "But to act, that each tomorrow\n",
      "Find us farther than today.\n"
     ]
    }
   ],
   "source": [
    "print(\"\\n\".join(poem_lst))"
   ]
  },
  {
   "cell_type": "code",
   "execution_count": 27,
   "id": "85c7cc77",
   "metadata": {},
   "outputs": [
    {
     "name": "stdout",
     "output_type": "stream",
     "text": [
      "['1', '2', '3', '4', '5']\n",
      "1-2-3-4-5\n"
     ]
    }
   ],
   "source": [
    "lists=[1,2,3,4,5]\n",
    "b=[]\n",
    "for i in range(len(lists)):\n",
    "    a=str(lists[i])\n",
    "    b.append(a)\n",
    "print(b)\n",
    "print(\"-\".join(b))"
   ]
  },
  {
   "cell_type": "code",
   "execution_count": 24,
   "id": "e899304a",
   "metadata": {},
   "outputs": [
    {
     "data": {
      "text/plain": [
       "['hello', 'world']"
      ]
     },
     "execution_count": 24,
     "metadata": {},
     "output_type": "execute_result"
    }
   ],
   "source": [
    "x=\"hello world\"\n",
    "x.split(\" \")"
   ]
  },
  {
   "cell_type": "code",
   "execution_count": 25,
   "id": "758ddb3e",
   "metadata": {},
   "outputs": [
    {
     "data": {
      "text/plain": [
       "['101', '102', '102']"
      ]
     },
     "execution_count": 25,
     "metadata": {},
     "output_type": "execute_result"
    }
   ],
   "source": [
    "x=\"101:102:102\"\n",
    "x.split(\":\")"
   ]
  },
  {
   "cell_type": "code",
   "execution_count": 178,
   "id": "75d05e5e",
   "metadata": {},
   "outputs": [],
   "source": [
    "def birlesiklistt():\n",
    "    mylist1=[1,0,0,0,1,0,0,1]\n",
    "    mylist2=[1,1,0,0,0,1,1,0]\n",
    "    mylist3=[0,1,0,0,0,1,1,1]\n",
    "    mylist4=[1,1,0,1,0,0,1,0]\n",
    "    mylist5=[0,1,0,1,1,0,1,1]\n",
    "    mylist6=[1,1,0,1,0,0,1,0]\n",
    "\n",
    "    birlesiklist=mylist1+mylist2+mylist3+mylist4+mylist5+mylist6\n",
    "    dikeylist=[]\n",
    "    dikeylistson=[]\n",
    "    for i in range(0,48,8):\n",
    "        dikeylist+=str(birlesiklist[i])\n",
    "    for i in range(7,48,8):\n",
    "        dikeylistson+=str(birlesiklist[i])\n",
    "    for k in range(8,39,8):\n",
    "        if birlesiklist[k]==1 and birlesiklist[k+1]==1:\n",
    "            birlesiklist[k+1]=0\n",
    "    for r in range(7,48,8):\n",
    "        if birlesiklist[r]==1 and birlesiklist[r-1]==1:\n",
    "            birlesiklist[r-1]=0\n",
    "    for n in range(1,7):\n",
    "        if birlesiklist[n]==1 and birlesiklist[n+8]==1:\n",
    "            birlesiklist[n+8]=0\n",
    "            #if n==range(7,40,8) or n==range(8,40,8):\n",
    "            #continue\n",
    "    for p in range(41,48):        \n",
    "        if birlesiklist[p]==1 and birlesiklist[p-8]==1:\n",
    "            birlesiklist[p-8]=0\n",
    "    print(birlesiklist)\n",
    "\n"
   ]
  },
  {
   "cell_type": "code",
   "execution_count": 183,
   "id": "13a666c9",
   "metadata": {},
   "outputs": [
    {
     "name": "stdout",
     "output_type": "stream",
     "text": [
      "[1, 0, 0, 0, 1, 0, 0, 1, 1, 0, 0, 0, 0, 1, 1, 0, 0, 1, 0, 0, 0, 1, 0, 1, 1, 0, 0, 1, 0, 0, 1, 0, 0, 0, 0, 0, 1, 0, 0, 1, 1, 1, 0, 1, 0, 0, 1, 0]\n"
     ]
    }
   ],
   "source": [
    "birlesiklistt()"
   ]
  },
  {
   "cell_type": "code",
   "execution_count": null,
   "id": "c0824c3d",
   "metadata": {},
   "outputs": [],
   "source": []
  }
 ],
 "metadata": {
  "kernelspec": {
   "display_name": "Python 3 (ipykernel)",
   "language": "python",
   "name": "python3"
  },
  "language_info": {
   "codemirror_mode": {
    "name": "ipython",
    "version": 3
   },
   "file_extension": ".py",
   "mimetype": "text/x-python",
   "name": "python",
   "nbconvert_exporter": "python",
   "pygments_lexer": "ipython3",
   "version": "3.9.7"
  }
 },
 "nbformat": 4,
 "nbformat_minor": 5
}
