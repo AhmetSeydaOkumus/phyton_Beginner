{
 "cells": [
  {
   "cell_type": "code",
   "execution_count": 12,
   "id": "8e2f9e1f",
   "metadata": {},
   "outputs": [],
   "source": [
    "myList=([1,2,2],{1,2,3,2,5}) #setlerde yani (suslu parantez arasinda kalanlarda) tekrarlar yer almaz"
   ]
  },
  {
   "cell_type": "code",
   "execution_count": 18,
   "id": "ca0afd7f",
   "metadata": {},
   "outputs": [
    {
     "data": {
      "text/plain": [
       "([1, 2, 2], {1, 2, 3, 5})"
      ]
     },
     "execution_count": 18,
     "metadata": {},
     "output_type": "execute_result"
    }
   ],
   "source": [
    "myList"
   ]
  },
  {
   "cell_type": "code",
   "execution_count": 14,
   "id": "ce4455d4",
   "metadata": {},
   "outputs": [
    {
     "data": {
      "text/plain": [
       "[1, 2, 2]"
      ]
     },
     "execution_count": 14,
     "metadata": {},
     "output_type": "execute_result"
    }
   ],
   "source": [
    "myList[0]"
   ]
  },
  {
   "cell_type": "code",
   "execution_count": 15,
   "id": "5d84fbf2",
   "metadata": {},
   "outputs": [],
   "source": [
    "myString=\"hello\""
   ]
  },
  {
   "cell_type": "code",
   "execution_count": 16,
   "id": "4d682ffc",
   "metadata": {},
   "outputs": [
    {
     "data": {
      "text/plain": [
       "'hellohellohellohellohello'"
      ]
     },
     "execution_count": 16,
     "metadata": {},
     "output_type": "execute_result"
    }
   ],
   "source": [
    "myString*5"
   ]
  },
  {
   "cell_type": "code",
   "execution_count": 22,
   "id": "11928ca7",
   "metadata": {},
   "outputs": [
    {
     "data": {
      "text/plain": [
       "([1, 2, 2], {1, 2, 3, 5}, 1, 2, 2)"
      ]
     },
     "execution_count": 22,
     "metadata": {},
     "output_type": "execute_result"
    }
   ],
   "source": [
    "myList+tuple(myList[0])"
   ]
  },
  {
   "cell_type": "code",
   "execution_count": 23,
   "id": "533c0cb7",
   "metadata": {},
   "outputs": [
    {
     "data": {
      "text/plain": [
       "tuple"
      ]
     },
     "execution_count": 23,
     "metadata": {},
     "output_type": "execute_result"
    }
   ],
   "source": [
    "type(myList)"
   ]
  },
  {
   "cell_type": "code",
   "execution_count": 24,
   "id": "0803393a",
   "metadata": {},
   "outputs": [],
   "source": [
    "List=[0,1,0,1]"
   ]
  },
  {
   "cell_type": "code",
   "execution_count": 25,
   "id": "c06f38b4",
   "metadata": {},
   "outputs": [
    {
     "data": {
      "text/plain": [
       "True"
      ]
     },
     "execution_count": 25,
     "metadata": {},
     "output_type": "execute_result"
    }
   ],
   "source": [
    "any(List) #or davranisi gosterir yani icinde hic var mi demek"
   ]
  },
  {
   "cell_type": "code",
   "execution_count": 26,
   "id": "b47c7c35",
   "metadata": {},
   "outputs": [
    {
     "data": {
      "text/plain": [
       "False"
      ]
     },
     "execution_count": 26,
     "metadata": {},
     "output_type": "execute_result"
    }
   ],
   "source": [
    "all(List) #and davranisi gosterir hepsi oyle mi demek ama hepsi false ise yine false verir"
   ]
  },
  {
   "cell_type": "code",
   "execution_count": 27,
   "id": "1be8a90c",
   "metadata": {},
   "outputs": [
    {
     "data": {
      "text/plain": [
       "False"
      ]
     },
     "execution_count": 27,
     "metadata": {},
     "output_type": "execute_result"
    }
   ],
   "source": [
    "List2=[0,0,0]\n",
    "all(List2)"
   ]
  },
  {
   "cell_type": "code",
   "execution_count": 28,
   "id": "b93c6904",
   "metadata": {},
   "outputs": [],
   "source": [
    "List3=[0]"
   ]
  },
  {
   "cell_type": "code",
   "execution_count": 29,
   "id": "b6784487",
   "metadata": {},
   "outputs": [
    {
     "data": {
      "text/plain": [
       "False"
      ]
     },
     "execution_count": 29,
     "metadata": {},
     "output_type": "execute_result"
    }
   ],
   "source": [
    "any(List3)"
   ]
  },
  {
   "cell_type": "code",
   "execution_count": 30,
   "id": "e7c4c7ba",
   "metadata": {},
   "outputs": [],
   "source": [
    "List2.append(\"orange\") #listeye eleman eklemeye yarar"
   ]
  },
  {
   "cell_type": "code",
   "execution_count": 31,
   "id": "e8637ef9",
   "metadata": {},
   "outputs": [
    {
     "data": {
      "text/plain": [
       "[0, 0, 0, 'orange']"
      ]
     },
     "execution_count": 31,
     "metadata": {},
     "output_type": "execute_result"
    }
   ],
   "source": [
    "List2"
   ]
  },
  {
   "cell_type": "code",
   "execution_count": 36,
   "id": "3d66a232",
   "metadata": {},
   "outputs": [
    {
     "data": {
      "text/plain": [
       "0"
      ]
     },
     "execution_count": 36,
     "metadata": {},
     "output_type": "execute_result"
    }
   ],
   "source": [
    "List2.pop(1) #pop del clear sirasinda bulunani silme"
   ]
  },
  {
   "cell_type": "code",
   "execution_count": 35,
   "id": "2210af50",
   "metadata": {},
   "outputs": [
    {
     "data": {
      "text/plain": [
       "[0, 0, 'orange']"
      ]
     },
     "execution_count": 35,
     "metadata": {},
     "output_type": "execute_result"
    }
   ],
   "source": [
    "List2"
   ]
  },
  {
   "cell_type": "code",
   "execution_count": 40,
   "id": "51bbe905",
   "metadata": {},
   "outputs": [],
   "source": [
    "List10=5"
   ]
  },
  {
   "cell_type": "code",
   "execution_count": 68,
   "id": "ba863ee1",
   "metadata": {},
   "outputs": [],
   "source": [
    "List11=[1,2,3,4]\n",
    "kacadet=len(List11)\n",
    "Listtoplam=sum(List11)\n",
    "sonuc=Listtoplam/kacadet"
   ]
  },
  {
   "cell_type": "code",
   "execution_count": 69,
   "id": "1ca14c7e",
   "metadata": {},
   "outputs": [
    {
     "data": {
      "text/plain": [
       "2.5"
      ]
     },
     "execution_count": 69,
     "metadata": {},
     "output_type": "execute_result"
    }
   ],
   "source": [
    "sonuc"
   ]
  },
  {
   "cell_type": "markdown",
   "id": "448f1f6f",
   "metadata": {},
   "source": [
    "List11=input(\"sirali rakamlar giriniz\")\n",
    "list(List11)\n",
    "\n",
    "\n",
    "#a=len(List11)\n",
    "#b=sum(List11)\n",
    "#sonuc=b/a\n",
    "#print(sonuc)"
   ]
  },
  {
   "cell_type": "code",
   "execution_count": 80,
   "id": "a3cf6288",
   "metadata": {},
   "outputs": [],
   "source": [
    "myList6=[1,\"ahmet\"]\n",
    "myList7=[2,\"mehmet\"]\n",
    "myList6.extend(myList7)"
   ]
  },
  {
   "cell_type": "code",
   "execution_count": 92,
   "id": "3dffc5bc",
   "metadata": {},
   "outputs": [
    {
     "data": {
      "text/plain": [
       "[1, 'ahmet', 2, 'mehmet', 5, 5, 7, 9, 5, 7, 9, 5, 7, 9]"
      ]
     },
     "execution_count": 92,
     "metadata": {},
     "output_type": "execute_result"
    }
   ],
   "source": [
    "myList6"
   ]
  },
  {
   "cell_type": "code",
   "execution_count": 93,
   "id": "c9711a6f",
   "metadata": {},
   "outputs": [],
   "source": [
    "myList6.extend(range(5,10,2))"
   ]
  },
  {
   "cell_type": "code",
   "execution_count": 94,
   "id": "32d69493",
   "metadata": {},
   "outputs": [
    {
     "data": {
      "text/plain": [
       "[1, 'ahmet', 2, 'mehmet', 5, 5, 7, 9, 5, 7, 9, 5, 7, 9, 5, 7, 9]"
      ]
     },
     "execution_count": 94,
     "metadata": {},
     "output_type": "execute_result"
    }
   ],
   "source": [
    "myList6"
   ]
  },
  {
   "cell_type": "code",
   "execution_count": 96,
   "id": "798fa1eb",
   "metadata": {},
   "outputs": [
    {
     "data": {
      "text/plain": [
       "[1,\n",
       " 'ahmet',\n",
       " 2,\n",
       " 'mehmet',\n",
       " 5,\n",
       " 5,\n",
       " 7,\n",
       " 9,\n",
       " 5,\n",
       " 7,\n",
       " 9,\n",
       " 5,\n",
       " 7,\n",
       " 9,\n",
       " 5,\n",
       " 7,\n",
       " 9,\n",
       " [2, 'mehmet'],\n",
       " [2, 'mehmet']]"
      ]
     },
     "execution_count": 96,
     "metadata": {},
     "output_type": "execute_result"
    }
   ],
   "source": [
    "myList6.append(myList7) #liste olarak eklemeye yarar\n",
    "myList6"
   ]
  },
  {
   "cell_type": "code",
   "execution_count": 97,
   "id": "5a6bca2b",
   "metadata": {},
   "outputs": [],
   "source": [
    "myList6.insert(len(myList6),\"istanbul\")"
   ]
  },
  {
   "cell_type": "code",
   "execution_count": 98,
   "id": "e6fa389a",
   "metadata": {},
   "outputs": [
    {
     "data": {
      "text/plain": [
       "[1,\n",
       " 'ahmet',\n",
       " 2,\n",
       " 'mehmet',\n",
       " 5,\n",
       " 5,\n",
       " 7,\n",
       " 9,\n",
       " 5,\n",
       " 7,\n",
       " 9,\n",
       " 5,\n",
       " 7,\n",
       " 9,\n",
       " 5,\n",
       " 7,\n",
       " 9,\n",
       " [2, 'mehmet'],\n",
       " [2, 'mehmet'],\n",
       " 'istanbul']"
      ]
     },
     "execution_count": 98,
     "metadata": {},
     "output_type": "execute_result"
    }
   ],
   "source": [
    "myList6"
   ]
  },
  {
   "cell_type": "code",
   "execution_count": 103,
   "id": "adbf8d79",
   "metadata": {},
   "outputs": [
    {
     "name": "stdout",
     "output_type": "stream",
     "text": [
      "sirali rakamlar giriniz123\n"
     ]
    },
    {
     "ename": "TypeError",
     "evalue": "unsupported operand type(s) for +: 'int' and 'str'",
     "output_type": "error",
     "traceback": [
      "\u001b[1;31m---------------------------------------------------------------------------\u001b[0m",
      "\u001b[1;31mTypeError\u001b[0m                                 Traceback (most recent call last)",
      "\u001b[1;32m~\\AppData\\Local\\Temp/ipykernel_9912/2635306920.py\u001b[0m in \u001b[0;36m<module>\u001b[1;34m\u001b[0m\n\u001b[0;32m      2\u001b[0m \u001b[0mtuple\u001b[0m\u001b[1;33m(\u001b[0m\u001b[0mList11\u001b[0m\u001b[1;33m)\u001b[0m\u001b[1;33m\u001b[0m\u001b[1;33m\u001b[0m\u001b[0m\n\u001b[0;32m      3\u001b[0m \u001b[0ma\u001b[0m\u001b[1;33m=\u001b[0m\u001b[0mlen\u001b[0m\u001b[1;33m(\u001b[0m\u001b[0mList11\u001b[0m\u001b[1;33m)\u001b[0m\u001b[1;33m\u001b[0m\u001b[1;33m\u001b[0m\u001b[0m\n\u001b[1;32m----> 4\u001b[1;33m \u001b[0mb\u001b[0m\u001b[1;33m=\u001b[0m\u001b[0msum\u001b[0m\u001b[1;33m(\u001b[0m\u001b[0mList11\u001b[0m\u001b[1;33m)\u001b[0m\u001b[1;33m\u001b[0m\u001b[1;33m\u001b[0m\u001b[0m\n\u001b[0m\u001b[0;32m      5\u001b[0m \u001b[0msonuc\u001b[0m\u001b[1;33m=\u001b[0m\u001b[0mb\u001b[0m\u001b[1;33m/\u001b[0m\u001b[0ma\u001b[0m\u001b[1;33m\u001b[0m\u001b[1;33m\u001b[0m\u001b[0m\n\u001b[0;32m      6\u001b[0m \u001b[0mprint\u001b[0m\u001b[1;33m(\u001b[0m\u001b[0msonuc\u001b[0m\u001b[1;33m)\u001b[0m\u001b[1;33m\u001b[0m\u001b[1;33m\u001b[0m\u001b[0m\n",
      "\u001b[1;31mTypeError\u001b[0m: unsupported operand type(s) for +: 'int' and 'str'"
     ]
    }
   ],
   "source": [
    "List11=input(\"sirali rakamlar giriniz\")\n",
    "list(List11)\n",
    "a=len(List11)\n",
    "b=sum(List11)\n",
    "sonuc=b/a\n",
    "print(sonuc)"
   ]
  },
  {
   "cell_type": "code",
   "execution_count": 122,
   "id": "fc21da89",
   "metadata": {},
   "outputs": [],
   "source": [
    "myCity=[\"ankara\",\"istanbul\"]"
   ]
  },
  {
   "cell_type": "code",
   "execution_count": 123,
   "id": "2864fee2",
   "metadata": {},
   "outputs": [],
   "source": [
    "cikarilan=myCity.pop(1)"
   ]
  },
  {
   "cell_type": "code",
   "execution_count": 124,
   "id": "445be458",
   "metadata": {},
   "outputs": [
    {
     "data": {
      "text/plain": [
       "['ankara']"
      ]
     },
     "execution_count": 124,
     "metadata": {},
     "output_type": "execute_result"
    }
   ],
   "source": [
    "myCity"
   ]
  },
  {
   "cell_type": "code",
   "execution_count": 125,
   "id": "b91bec32",
   "metadata": {},
   "outputs": [
    {
     "data": {
      "text/plain": [
       "'istanbul'"
      ]
     },
     "execution_count": 125,
     "metadata": {},
     "output_type": "execute_result"
    }
   ],
   "source": [
    "cikarilan"
   ]
  },
  {
   "cell_type": "code",
   "execution_count": 115,
   "id": "b44d6fc3",
   "metadata": {},
   "outputs": [],
   "source": [
    "myCity.clear() #clear icini tamamen temizler listeyi ortadan kaldirmaz listeyi ortadan kaldirmak icin del yazmamiz gerek"
   ]
  },
  {
   "cell_type": "code",
   "execution_count": 126,
   "id": "fa143f78",
   "metadata": {},
   "outputs": [],
   "source": [
    "del myCity[0:1] #belli bri kismini silmiye yarar"
   ]
  },
  {
   "cell_type": "code",
   "execution_count": 127,
   "id": "ac590b25",
   "metadata": {},
   "outputs": [],
   "source": [
    "harfler=[\"a\",\"b\",\"c\",\"h\",\"d\"]"
   ]
  },
  {
   "cell_type": "code",
   "execution_count": 128,
   "id": "d7337832",
   "metadata": {},
   "outputs": [],
   "source": [
    "harfler.sort()"
   ]
  },
  {
   "cell_type": "code",
   "execution_count": 138,
   "id": "4381e6f9",
   "metadata": {},
   "outputs": [
    {
     "data": {
      "text/plain": [
       "['h', 'd', 'c', 'b', 'a']"
      ]
     },
     "execution_count": 138,
     "metadata": {},
     "output_type": "execute_result"
    }
   ],
   "source": [
    "harfler"
   ]
  },
  {
   "cell_type": "code",
   "execution_count": 131,
   "id": "2e04e009",
   "metadata": {},
   "outputs": [],
   "source": [
    "harfler.sort(reverse=-1) #tersten siralamaya yarar"
   ]
  },
  {
   "cell_type": "code",
   "execution_count": 132,
   "id": "8dce9211",
   "metadata": {},
   "outputs": [
    {
     "data": {
      "text/plain": [
       "['h', 'd', 'c', 'b', 'a']"
      ]
     },
     "execution_count": 132,
     "metadata": {},
     "output_type": "execute_result"
    }
   ],
   "source": [
    "harfler"
   ]
  },
  {
   "cell_type": "code",
   "execution_count": 133,
   "id": "cfa23061",
   "metadata": {},
   "outputs": [],
   "source": [
    "d=1\n",
    "e=1"
   ]
  },
  {
   "cell_type": "code",
   "execution_count": 134,
   "id": "6b92ebb0",
   "metadata": {},
   "outputs": [
    {
     "data": {
      "text/plain": [
       "2320425904432"
      ]
     },
     "execution_count": 134,
     "metadata": {},
     "output_type": "execute_result"
    }
   ],
   "source": [
    "id(d)"
   ]
  },
  {
   "cell_type": "code",
   "execution_count": 135,
   "id": "b235bbf9",
   "metadata": {},
   "outputs": [
    {
     "data": {
      "text/plain": [
       "2320425904432"
      ]
     },
     "execution_count": 135,
     "metadata": {},
     "output_type": "execute_result"
    }
   ],
   "source": [
    "id(e)"
   ]
  },
  {
   "cell_type": "code",
   "execution_count": 146,
   "id": "87888e43",
   "metadata": {},
   "outputs": [],
   "source": [
    "cities=[\"ankara\",\"istanbul\",\"izmir\"]"
   ]
  },
  {
   "cell_type": "code",
   "execution_count": 147,
   "id": "f9c635b3",
   "metadata": {},
   "outputs": [],
   "source": [
    "cities.sort()"
   ]
  },
  {
   "cell_type": "code",
   "execution_count": 148,
   "id": "c27a9596",
   "metadata": {},
   "outputs": [
    {
     "data": {
      "text/plain": [
       "['ankara', 'istanbul', 'izmir']"
      ]
     },
     "execution_count": 148,
     "metadata": {},
     "output_type": "execute_result"
    }
   ],
   "source": [
    "cities"
   ]
  },
  {
   "cell_type": "code",
   "execution_count": 149,
   "id": "55c8675e",
   "metadata": {},
   "outputs": [],
   "source": [
    "cities.sort(key=len) #karakter sayisina gore sirala demek"
   ]
  },
  {
   "cell_type": "code",
   "execution_count": 152,
   "id": "f9818849",
   "metadata": {},
   "outputs": [
    {
     "data": {
      "text/plain": [
       "['izmir', 'ankara', 'istanbul']"
      ]
     },
     "execution_count": 152,
     "metadata": {},
     "output_type": "execute_result"
    }
   ],
   "source": [
    "cities"
   ]
  },
  {
   "cell_type": "code",
   "execution_count": 153,
   "id": "b9dc2bce",
   "metadata": {},
   "outputs": [],
   "source": [
    "#reversed e bak"
   ]
  },
  {
   "cell_type": "code",
   "execution_count": 154,
   "id": "9d886ce0",
   "metadata": {},
   "outputs": [],
   "source": [
    "myNewnumber=cities.copy() #kopyalamaya yarar"
   ]
  },
  {
   "cell_type": "code",
   "execution_count": 155,
   "id": "9ee1c010",
   "metadata": {},
   "outputs": [
    {
     "data": {
      "text/plain": [
       "['izmir', 'ankara', 'istanbul']"
      ]
     },
     "execution_count": 155,
     "metadata": {},
     "output_type": "execute_result"
    }
   ],
   "source": [
    "myNewnumber"
   ]
  },
  {
   "cell_type": "code",
   "execution_count": 158,
   "id": "d5a17a77",
   "metadata": {},
   "outputs": [],
   "source": [
    "Mynumbers=[1,2,3,4,5,32,3,43,4312,12,1,12,32,31,12,321,2]"
   ]
  },
  {
   "cell_type": "code",
   "execution_count": 159,
   "id": "ef11af27",
   "metadata": {},
   "outputs": [
    {
     "data": {
      "text/plain": [
       "2"
      ]
     },
     "execution_count": 159,
     "metadata": {},
     "output_type": "execute_result"
    }
   ],
   "source": [
    "Mynumbers.count(2)"
   ]
  },
  {
   "cell_type": "code",
   "execution_count": 161,
   "id": "7a03d63a",
   "metadata": {},
   "outputs": [
    {
     "name": "stdout",
     "output_type": "stream",
     "text": [
      "isimleri girinizahmet mehmet ahmet\n",
      "hangi ismi aradinizahmet\n"
     ]
    },
    {
     "data": {
      "text/plain": [
       "2"
      ]
     },
     "execution_count": 161,
     "metadata": {},
     "output_type": "execute_result"
    }
   ],
   "source": [
    "Mylist=input(\"isimleri giriniz\")\n",
    "list(Mylist)\n",
    "Mylist.count(input(\"hangi ismi aradiniz\"))"
   ]
  },
  {
   "cell_type": "code",
   "execution_count": 164,
   "id": "adabab32",
   "metadata": {},
   "outputs": [
    {
     "data": {
      "text/plain": [
       "1"
      ]
     },
     "execution_count": 164,
     "metadata": {},
     "output_type": "execute_result"
    }
   ],
   "source": [
    "Mynumbers.index(2) #kacinci karakter oldugunu bulur"
   ]
  },
  {
   "cell_type": "code",
   "execution_count": 165,
   "id": "b07e9611",
   "metadata": {},
   "outputs": [
    {
     "data": {
      "text/plain": [
       "['__add__',\n",
       " '__class__',\n",
       " '__contains__',\n",
       " '__delattr__',\n",
       " '__dir__',\n",
       " '__doc__',\n",
       " '__eq__',\n",
       " '__format__',\n",
       " '__ge__',\n",
       " '__getattribute__',\n",
       " '__getitem__',\n",
       " '__getnewargs__',\n",
       " '__gt__',\n",
       " '__hash__',\n",
       " '__init__',\n",
       " '__init_subclass__',\n",
       " '__iter__',\n",
       " '__le__',\n",
       " '__len__',\n",
       " '__lt__',\n",
       " '__mod__',\n",
       " '__mul__',\n",
       " '__ne__',\n",
       " '__new__',\n",
       " '__reduce__',\n",
       " '__reduce_ex__',\n",
       " '__repr__',\n",
       " '__rmod__',\n",
       " '__rmul__',\n",
       " '__setattr__',\n",
       " '__sizeof__',\n",
       " '__str__',\n",
       " '__subclasshook__',\n",
       " 'capitalize',\n",
       " 'casefold',\n",
       " 'center',\n",
       " 'count',\n",
       " 'encode',\n",
       " 'endswith',\n",
       " 'expandtabs',\n",
       " 'find',\n",
       " 'format',\n",
       " 'format_map',\n",
       " 'index',\n",
       " 'isalnum',\n",
       " 'isalpha',\n",
       " 'isascii',\n",
       " 'isdecimal',\n",
       " 'isdigit',\n",
       " 'isidentifier',\n",
       " 'islower',\n",
       " 'isnumeric',\n",
       " 'isprintable',\n",
       " 'isspace',\n",
       " 'istitle',\n",
       " 'isupper',\n",
       " 'join',\n",
       " 'ljust',\n",
       " 'lower',\n",
       " 'lstrip',\n",
       " 'maketrans',\n",
       " 'partition',\n",
       " 'removeprefix',\n",
       " 'removesuffix',\n",
       " 'replace',\n",
       " 'rfind',\n",
       " 'rindex',\n",
       " 'rjust',\n",
       " 'rpartition',\n",
       " 'rsplit',\n",
       " 'rstrip',\n",
       " 'split',\n",
       " 'splitlines',\n",
       " 'startswith',\n",
       " 'strip',\n",
       " 'swapcase',\n",
       " 'title',\n",
       " 'translate',\n",
       " 'upper',\n",
       " 'zfill']"
      ]
     },
     "execution_count": 165,
     "metadata": {},
     "output_type": "execute_result"
    }
   ],
   "source": [
    "dir(\"hello\") #data tipi ile veri ve metodlara ulasmanin yolu"
   ]
  },
  {
   "cell_type": "code",
   "execution_count": 166,
   "id": "d77dd815",
   "metadata": {},
   "outputs": [],
   "source": [
    "myTuple=(\"apple\",\"banana\",True,12000)"
   ]
  },
  {
   "cell_type": "code",
   "execution_count": 167,
   "id": "78046d27",
   "metadata": {},
   "outputs": [],
   "source": [
    "nums=1,2,3#int #bu sekilde de tuple yapabiliyoruz"
   ]
  },
  {
   "cell_type": "code",
   "execution_count": 168,
   "id": "0dfc5ef2",
   "metadata": {},
   "outputs": [
    {
     "data": {
      "text/plain": [
       "(1, 2, 3)"
      ]
     },
     "execution_count": 168,
     "metadata": {},
     "output_type": "execute_result"
    }
   ],
   "source": [
    "nums"
   ]
  },
  {
   "cell_type": "code",
   "execution_count": 169,
   "id": "7f890ec0",
   "metadata": {},
   "outputs": [],
   "source": [
    "names=(\"ahmet\",) #virgulu kullanmak zorunlu tek elemanli bir tuple elde etmek icin"
   ]
  },
  {
   "cell_type": "code",
   "execution_count": 170,
   "id": "3de1d7ec",
   "metadata": {},
   "outputs": [
    {
     "data": {
      "text/plain": [
       "tuple"
      ]
     },
     "execution_count": 170,
     "metadata": {},
     "output_type": "execute_result"
    }
   ],
   "source": [
    "type(names)"
   ]
  },
  {
   "cell_type": "code",
   "execution_count": 171,
   "id": "9a621e90",
   "metadata": {},
   "outputs": [],
   "source": [
    "namess=(\"ahmet\")"
   ]
  },
  {
   "cell_type": "code",
   "execution_count": 172,
   "id": "fcf9891e",
   "metadata": {},
   "outputs": [
    {
     "data": {
      "text/plain": [
       "str"
      ]
     },
     "execution_count": 172,
     "metadata": {},
     "output_type": "execute_result"
    }
   ],
   "source": [
    "type(namess)"
   ]
  },
  {
   "cell_type": "code",
   "execution_count": null,
   "id": "faa55e52",
   "metadata": {},
   "outputs": [],
   "source": []
  }
 ],
 "metadata": {
  "kernelspec": {
   "display_name": "Python 3 (ipykernel)",
   "language": "python",
   "name": "python3"
  },
  "language_info": {
   "codemirror_mode": {
    "name": "ipython",
    "version": 3
   },
   "file_extension": ".py",
   "mimetype": "text/x-python",
   "name": "python",
   "nbconvert_exporter": "python",
   "pygments_lexer": "ipython3",
   "version": "3.9.7"
  }
 },
 "nbformat": 4,
 "nbformat_minor": 5
}
