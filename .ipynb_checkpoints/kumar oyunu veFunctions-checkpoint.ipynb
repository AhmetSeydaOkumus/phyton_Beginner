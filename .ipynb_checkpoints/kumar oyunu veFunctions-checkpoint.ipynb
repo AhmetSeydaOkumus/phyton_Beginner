{
 "cells": [
  {
   "cell_type": "code",
   "execution_count": 4,
   "id": "b6c660de",
   "metadata": {},
   "outputs": [
    {
     "name": "stdout",
     "output_type": "stream",
     "text": [
      "0\n",
      "1\n",
      "2\n",
      "3\n",
      "4\n",
      "5\n",
      "---\n"
     ]
    }
   ],
   "source": [
    "x=0\n",
    "while x<10:\n",
    "    print(x)\n",
    "    x+=1\n",
    "    if x==6:\n",
    "        break\n",
    "print(\"---\")"
   ]
  },
  {
   "cell_type": "code",
   "execution_count": 36,
   "id": "3acb1f13",
   "metadata": {},
   "outputs": [
    {
     "name": "stdout",
     "output_type": "stream",
     "text": [
      "rakamlari giriniz234123412\n",
      "22\n",
      "2.4444444444444446\n"
     ]
    }
   ],
   "source": [
    "a=input(\"rakamlari giriniz\")\n",
    "y=[]\n",
    "for i in a:\n",
    "    y.append(int(i))\n",
    "toplam=sum(y)\n",
    "print(toplam)\n",
    "ortalama=toplam/len(y)\n",
    "print(ortalama)"
   ]
  },
  {
   "cell_type": "code",
   "execution_count": 44,
   "id": "4efbed34",
   "metadata": {},
   "outputs": [
    {
     "name": "stdout",
     "output_type": "stream",
     "text": [
      "aklindan bir sayi tut1\n",
      "bilemediniz biraz daha buyuk soyleyin\n",
      "aklindan bir sayi tut5\n",
      "bilemediniz biraz daha buyuk soyleyin\n",
      "aklindan bir sayi tut7\n",
      "bilemediniz biraz kucuk soyleyin\n",
      "hakkinizi kaybettiniz\n"
     ]
    }
   ],
   "source": [
    "import random\n",
    "sayi=random.randint(1,10)\n",
    "\n",
    "\n",
    "hak=3\n",
    "while hak!=0:\n",
    "    a=int(input(\"aklindan bir sayi tut\"))\n",
    "    hak-=1\n",
    "    if a>sayi:\n",
    "        print(\"bilemediniz biraz kucuk soyleyin\")\n",
    "    elif a<sayi:\n",
    "        print(\"bilemediniz biraz daha buyuk soyleyin\")\n",
    "    else:\n",
    "        print(\"bildiniz\")\n",
    "else:\n",
    "    print(\"hakkinizi kaybettiniz\")\n",
    "\n"
   ]
  },
  {
   "cell_type": "code",
   "execution_count": 45,
   "id": "ccc6885a",
   "metadata": {},
   "outputs": [],
   "source": [
    "def selamver():\n",
    "    print(\"hello\")"
   ]
  },
  {
   "cell_type": "code",
   "execution_count": 46,
   "id": "3b4b8ff0",
   "metadata": {},
   "outputs": [
    {
     "name": "stdout",
     "output_type": "stream",
     "text": [
      "hello\n"
     ]
    }
   ],
   "source": [
    "selamver()\n"
   ]
  },
  {
   "cell_type": "code",
   "execution_count": 47,
   "id": "32c7cd5f",
   "metadata": {},
   "outputs": [],
   "source": [
    "def selamver(name):\n",
    "    print(\"hello\"+name)"
   ]
  },
  {
   "cell_type": "code",
   "execution_count": 49,
   "id": "87b1504a",
   "metadata": {},
   "outputs": [
    {
     "name": "stdout",
     "output_type": "stream",
     "text": [
      "helloahmet\n"
     ]
    }
   ],
   "source": [
    "selamver(\"ahmet\")"
   ]
  },
  {
   "cell_type": "code",
   "execution_count": 51,
   "id": "2795031a",
   "metadata": {},
   "outputs": [],
   "source": [
    "def ikiilecarp(sayi):\n",
    "    print(sayi*2)"
   ]
  },
  {
   "cell_type": "code",
   "execution_count": 54,
   "id": "dd651de2",
   "metadata": {},
   "outputs": [
    {
     "name": "stdout",
     "output_type": "stream",
     "text": [
      "4\n"
     ]
    }
   ],
   "source": [
    "ikiilecarp(2)"
   ]
  },
  {
   "cell_type": "code",
   "execution_count": 55,
   "id": "3234c5bf",
   "metadata": {},
   "outputs": [
    {
     "name": "stdout",
     "output_type": "stream",
     "text": [
      "ahmetahmet\n"
     ]
    }
   ],
   "source": [
    "ikiilecarp(\"ahmet\")"
   ]
  },
  {
   "cell_type": "code",
   "execution_count": 56,
   "id": "7b68c070",
   "metadata": {},
   "outputs": [],
   "source": [
    "def buyukharf(isim):\n",
    "    print(isim.upper())"
   ]
  },
  {
   "cell_type": "code",
   "execution_count": 58,
   "id": "b154c5b9",
   "metadata": {},
   "outputs": [
    {
     "name": "stdout",
     "output_type": "stream",
     "text": [
      "AHMET\n"
     ]
    }
   ],
   "source": [
    "buyukharf(\"ahmet\")"
   ]
  },
  {
   "cell_type": "code",
   "execution_count": 113,
   "id": "e56d6192",
   "metadata": {},
   "outputs": [],
   "source": [
    "def ikiparametre(isim,soyad):\n",
    "    print(\"merhaba {}{}\".format(isim,soyad))"
   ]
  },
  {
   "cell_type": "code",
   "execution_count": 114,
   "id": "2abd02c2",
   "metadata": {},
   "outputs": [
    {
     "name": "stdout",
     "output_type": "stream",
     "text": [
      "merhaba ahmetokumus\n"
     ]
    }
   ],
   "source": [
    "ikiparametre(\"ahmet\",\"okumus\")"
   ]
  },
  {
   "cell_type": "code",
   "execution_count": 115,
   "id": "60428775",
   "metadata": {},
   "outputs": [],
   "source": [
    "def topla(*sayilar):\n",
    "    for sayi in sayilar:\n",
    "        print(sum(sayilar))\n",
    "        if True:\n",
    "            break\n",
    "    "
   ]
  },
  {
   "cell_type": "code",
   "execution_count": 112,
   "id": "8509087f",
   "metadata": {},
   "outputs": [
    {
     "name": "stdout",
     "output_type": "stream",
     "text": [
      "29\n"
     ]
    }
   ],
   "source": [
    "topla(20,2,3,4)"
   ]
  },
  {
   "cell_type": "code",
   "execution_count": 131,
   "id": "fc1f74ff",
   "metadata": {},
   "outputs": [],
   "source": [
    "def sureklistring(*kelimeler):\n",
    "    for kelime in kelimeler:\n",
    "        kelimelerlist=list(kelimeler)\n",
    "        kelimelersplit=kelimelerlist[0].split()\n",
    "        print(kelimelersplit)\n",
    "        if True:\n",
    "            break"
   ]
  },
  {
   "cell_type": "code",
   "execution_count": 132,
   "id": "821de378",
   "metadata": {},
   "outputs": [
    {
     "name": "stdout",
     "output_type": "stream",
     "text": [
      "isimleri arasina bosluk birakarak girinizahmet mehmet\n",
      "['ahmet', 'mehmet']\n"
     ]
    }
   ],
   "source": [
    "sureklistring(input(\"isimleri arasina bosluk birakarak giriniz\"))"
   ]
  },
  {
   "cell_type": "code",
   "execution_count": null,
   "id": "391e1451",
   "metadata": {},
   "outputs": [],
   "source": []
  }
 ],
 "metadata": {
  "kernelspec": {
   "display_name": "Python 3 (ipykernel)",
   "language": "python",
   "name": "python3"
  },
  "language_info": {
   "codemirror_mode": {
    "name": "ipython",
    "version": 3
   },
   "file_extension": ".py",
   "mimetype": "text/x-python",
   "name": "python",
   "nbconvert_exporter": "python",
   "pygments_lexer": "ipython3",
   "version": "3.9.7"
  }
 },
 "nbformat": 4,
 "nbformat_minor": 5
}
