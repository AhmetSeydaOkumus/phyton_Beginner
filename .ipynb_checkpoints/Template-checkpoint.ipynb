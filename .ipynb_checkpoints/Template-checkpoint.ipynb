{
 "cells": [
  {
   "cell_type": "code",
   "execution_count": 2,
   "id": "39960abd",
   "metadata": {},
   "outputs": [],
   "source": [
    "from string import Template"
   ]
  },
  {
   "cell_type": "code",
   "execution_count": 4,
   "id": "4603b762",
   "metadata": {},
   "outputs": [],
   "source": [
    "t=Template(\"$name isimli basvurucu $mahkemesine yaptigi basvuruda $sonucu aldi.\")"
   ]
  },
  {
   "cell_type": "code",
   "execution_count": 5,
   "id": "2c27be91",
   "metadata": {},
   "outputs": [
    {
     "data": {
      "text/plain": [
       "'global isimli basvurucu ticaret mahkemesine yaptigi basvuruda olumlu sonucu aldi.'"
      ]
     },
     "execution_count": 5,
     "metadata": {},
     "output_type": "execute_result"
    }
   ],
   "source": [
    "t.substitute(name=\"global\", mahkemesine=\"ticaret mahkemesine\", sonucu=\"olumlu sonucu\" )"
   ]
  },
  {
   "cell_type": "code",
   "execution_count": 11,
   "id": "416abd58",
   "metadata": {},
   "outputs": [
    {
     "name": "stdout",
     "output_type": "stream",
     "text": [
      "isminizi girinizaa\n",
      "mahkeme adi girinizbb\n",
      "aldiginiz sonucu girinizcc\n"
     ]
    },
    {
     "data": {
      "text/plain": [
       "'bb isimli basvurucu cc yaptigi basvuruda cc aldi.'"
      ]
     },
     "execution_count": 11,
     "metadata": {},
     "output_type": "execute_result"
    }
   ],
   "source": [
    "\n",
    "t=\"{1} isimli basvurucu {2} yaptigi basvuruda {2} aldi.\"\n",
    "name=input(\"isminizi giriniz\")\n",
    "mahkeme=input(\"mahkeme adi giriniz\")\n",
    "sonuc=input(\"aldiginiz sonucu giriniz\")\n",
    "t.format(name,mahkeme,sonuc)\n"
   ]
  },
  {
   "cell_type": "code",
   "execution_count": 14,
   "id": "ad4df684",
   "metadata": {},
   "outputs": [],
   "source": [
    "from string import Template"
   ]
  },
  {
   "cell_type": "code",
   "execution_count": 15,
   "id": "5ba52199",
   "metadata": {},
   "outputs": [],
   "source": [
    "t=Template(\"$name isimli basvurucu $mahkemesine yaptigi basvuruda $sonucu aldi.\")"
   ]
  },
  {
   "cell_type": "code",
   "execution_count": 17,
   "id": "16e4c19a",
   "metadata": {},
   "outputs": [
    {
     "name": "stdout",
     "output_type": "stream",
     "text": [
      "adinizi girinizahmet \n",
      "mahkemenizi girinizticaret mahkemesine\n",
      "sonucu girinizolumlu\n"
     ]
    },
    {
     "data": {
      "text/plain": [
       "'ahmet  isimli basvurucu ticaret mahkemesine yaptigi basvuruda olumlu aldi.'"
      ]
     },
     "execution_count": 17,
     "metadata": {},
     "output_type": "execute_result"
    }
   ],
   "source": [
    "a=input(\"adinizi giriniz\")\n",
    "b=input(\"mahkemenizi giriniz\")\n",
    "c=input(\"sonucu giriniz\")\n",
    "t.substitute(name=a, mahkemesine=b, sonucu=c)"
   ]
  },
  {
   "cell_type": "code",
   "execution_count": null,
   "id": "13a28ce2",
   "metadata": {},
   "outputs": [],
   "source": []
  }
 ],
 "metadata": {
  "kernelspec": {
   "display_name": "Python 3 (ipykernel)",
   "language": "python",
   "name": "python3"
  },
  "language_info": {
   "codemirror_mode": {
    "name": "ipython",
    "version": 3
   },
   "file_extension": ".py",
   "mimetype": "text/x-python",
   "name": "python",
   "nbconvert_exporter": "python",
   "pygments_lexer": "ipython3",
   "version": "3.9.7"
  }
 },
 "nbformat": 4,
 "nbformat_minor": 5
}
