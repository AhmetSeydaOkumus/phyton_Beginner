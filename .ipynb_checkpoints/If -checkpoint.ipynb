{
 "cells": [
  {
   "cell_type": "code",
   "execution_count": 2,
   "id": "e7c80866",
   "metadata": {},
   "outputs": [
    {
     "data": {
      "text/plain": [
       "(1, 2, 3, 'ahmet')"
      ]
     },
     "execution_count": 2,
     "metadata": {},
     "output_type": "execute_result"
    }
   ],
   "source": [
    "(1,2,3)+(\"ahmet\",) #ikinci parantez kumesinde virgulu unutmamak lazim "
   ]
  },
  {
   "cell_type": "code",
   "execution_count": 12,
   "id": "703c492b",
   "metadata": {},
   "outputs": [],
   "source": [
    "a=False"
   ]
  },
  {
   "cell_type": "code",
   "execution_count": 13,
   "id": "e30cf4ed",
   "metadata": {},
   "outputs": [
    {
     "data": {
      "text/plain": [
       "False"
      ]
     },
     "execution_count": 13,
     "metadata": {},
     "output_type": "execute_result"
    }
   ],
   "source": [
    "bool(a)"
   ]
  },
  {
   "cell_type": "code",
   "execution_count": 14,
   "id": "b39da216",
   "metadata": {},
   "outputs": [],
   "source": [
    "b=True"
   ]
  },
  {
   "cell_type": "code",
   "execution_count": 15,
   "id": "2d23c7f5",
   "metadata": {},
   "outputs": [],
   "source": [
    "a=b"
   ]
  },
  {
   "cell_type": "code",
   "execution_count": 16,
   "id": "967dd88d",
   "metadata": {},
   "outputs": [
    {
     "data": {
      "text/plain": [
       "True"
      ]
     },
     "execution_count": 16,
     "metadata": {},
     "output_type": "execute_result"
    }
   ],
   "source": [
    "a"
   ]
  },
  {
   "cell_type": "code",
   "execution_count": 86,
   "id": "5efababf",
   "metadata": {},
   "outputs": [
    {
     "name": "stdout",
     "output_type": "stream",
     "text": [
      "bulundugunuz kati giriniz6\n",
      "cagiran kati giriniz8\n",
      "cagiran ikinci kati giriniz9\n",
      "8\n"
     ]
    }
   ],
   "source": [
    "kat_Kac=int(input(\"bulundugunuz kati giriniz\"))\n",
    "cagiran_Kat=int(input(\"cagiran kati giriniz\"))\n",
    "cagiran_2kat=int(input(\"cagiran ikinci kati giriniz\"))\n",
    "\n",
    "if kat_Kac-cagiran_Kat==kat_Kac-cagiran_2kat or -1*(kat_Kac-cagiran_Kat)==kat_Kac-cagiran_2kat or kat_Kac-cagiran_Kat==-1*(kat_Kac-cagiran_2kat) :\n",
    "    if cagiran_Kat>cagiran_2kat :\n",
    "        print(cagiran_Kat)\n",
    "    if cagiran_Kat<cagiran_2kat :\n",
    "        print(cagiran_2kat)\n",
    "\n",
    "elif kat_Kac-cagiran_Kat<0 and kat_Kac-cagiran_2kat<0  :\n",
    "    b=int(-1*(kat_Kac-cagiran_Kat))\n",
    "    c=int(-1*(kat_Kac-cagiran_2kat))\n",
    "    if b>c :\n",
    "        print(cagiran_2kat)\n",
    "    if b<c :\n",
    "        print(cagiran_Kat)\n",
    "    \n",
    "elif kat_Kac-cagiran_Kat>0 and kat_Kac-cagiran_2kat>0  :\n",
    "    d=int(kat_Kac-cagiran_Kat)\n",
    "    e=int(kat_Kac-cagiran_2kat)\n",
    "    if d>e :\n",
    "        print(cagiran_2kat)\n",
    "    if d<e :\n",
    "        print(cagiran_Kat)\n",
    "\n",
    "elif kat_Kac-cagiran_Kat<0 and kat_Kac-cagiran_2kat>0 :\n",
    "    f=int(-1*(kat_Kac-cagiran_Kat))\n",
    "    g=int(kat_Kac-cagiran_2kat)\n",
    "    if f>g :\n",
    "        print(cagiran_2kat)\n",
    "    if f<g :\n",
    "        print(cagiran_Kat)\n",
    "    \n",
    "elif kat_Kac-cagiran_Kat>0 and kat_Kac-cagiran_2kat<0 : \n",
    "    h=int(kat_Kac-cagiran_Kat)\n",
    "    i=int(-1*(kat_Kac-cagiran_2kat))\n",
    "    if h>i :\n",
    "        print(cagiran_2kat)\n",
    "    if h<i :\n",
    "        print(cagiran_Kat)\n"
   ]
  },
  {
   "cell_type": "code",
   "execution_count": 76,
   "id": "1080fe3a",
   "metadata": {},
   "outputs": [
    {
     "name": "stdout",
     "output_type": "stream",
     "text": [
      "rakam-1\n",
      "rakam 2-3\n"
     ]
    },
    {
     "data": {
      "text/plain": [
       "int"
      ]
     },
     "execution_count": 76,
     "metadata": {},
     "output_type": "execute_result"
    }
   ],
   "source": [
    "f=int(input(\"rakam\"))\n",
    "d=int(input(\"rakam 2\"))\n",
    "type(f-d)"
   ]
  },
  {
   "cell_type": "code",
   "execution_count": 60,
   "id": "cd2ddf5e",
   "metadata": {},
   "outputs": [
    {
     "name": "stdout",
     "output_type": "stream",
     "text": [
      "bulundugunuz kati giriniz4\n",
      "cagiran kati giriniz6\n",
      "cagiran ikinci kati giriniz8\n"
     ]
    },
    {
     "data": {
      "text/plain": [
       "True"
      ]
     },
     "execution_count": 60,
     "metadata": {},
     "output_type": "execute_result"
    }
   ],
   "source": [
    "kat_Kac=int(input(\"bulundugunuz kati giriniz\"))\n",
    "cagiran_Kat=int(input(\"cagiran kati giriniz\"))\n",
    "cagiran_2kat=int(input(\"cagiran ikinci kati giriniz\"))\n",
    "kat_Kac-cagiran_Kat<0 and kat_Kac-cagiran_2kat<0"
   ]
  },
  {
   "cell_type": "code",
   "execution_count": 61,
   "id": "abd5a929",
   "metadata": {},
   "outputs": [
    {
     "data": {
      "text/plain": [
       "False"
      ]
     },
     "execution_count": 61,
     "metadata": {},
     "output_type": "execute_result"
    }
   ],
   "source": [
    "False and False"
   ]
  },
  {
   "cell_type": "code",
   "execution_count": 71,
   "id": "f5dc3df7",
   "metadata": {},
   "outputs": [
    {
     "name": "stdout",
     "output_type": "stream",
     "text": [
      "gun degeri girinizdsfs\n",
      "bu bir gun degildiir\n"
     ]
    }
   ],
   "source": [
    "gun=input(\"gun degeri giriniz\").lower()\n",
    "haftaici_List=[\"pazartesi\",\"sali\",\"carsamba\",\"persembe\",\"cuma\"]\n",
    "haftasonu_List=[\"pazar\",\"cumartesi\"]\n",
    "if gun in haftaici_List :\n",
    "    print(\"bu hafta icidir\")\n",
    "elif gun in haftasonu_List :\n",
    "    print(\"bu hafta sonudur\")\n",
    "elif gun not in haftasonu_List + haftaici_List :\n",
    "    print(\"bu bir gun degildiir\")"
   ]
  },
  {
   "cell_type": "code",
   "execution_count": 88,
   "id": "877b8235",
   "metadata": {},
   "outputs": [
    {
     "name": "stdout",
     "output_type": "stream",
     "text": [
      "bir deger girin#\n",
      "bu bir sayi ile baslamis olabilir\n"
     ]
    }
   ],
   "source": [
    "kelime=input(\"bir deger girin\")\n",
    "if kelime[0].isdigit():\n",
    "    print(\"bu bir sayi ile baslamiyor\")\n",
    "else:\n",
    "    print(\"bu bir sayi ile baslamis olabilir\")"
   ]
  },
  {
   "cell_type": "code",
   "execution_count": null,
   "id": "d7a961ed",
   "metadata": {},
   "outputs": [],
   "source": []
  }
 ],
 "metadata": {
  "kernelspec": {
   "display_name": "Python 3 (ipykernel)",
   "language": "python",
   "name": "python3"
  },
  "language_info": {
   "codemirror_mode": {
    "name": "ipython",
    "version": 3
   },
   "file_extension": ".py",
   "mimetype": "text/x-python",
   "name": "python",
   "nbconvert_exporter": "python",
   "pygments_lexer": "ipython3",
   "version": "3.9.7"
  }
 },
 "nbformat": 4,
 "nbformat_minor": 5
}
