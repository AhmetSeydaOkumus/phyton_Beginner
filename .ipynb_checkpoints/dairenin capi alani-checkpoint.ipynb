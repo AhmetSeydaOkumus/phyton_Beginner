{
 "cells": [
  {
   "cell_type": "code",
   "execution_count": 1,
   "id": "8d5620cd",
   "metadata": {},
   "outputs": [],
   "source": [
    "myString=\"11111Hello World22222\""
   ]
  },
  {
   "cell_type": "code",
   "execution_count": 2,
   "id": "b3d1eba3",
   "metadata": {},
   "outputs": [
    {
     "data": {
      "text/plain": [
       "['11111Hello', 'World22222']"
      ]
     },
     "execution_count": 2,
     "metadata": {},
     "output_type": "execute_result"
    }
   ],
   "source": [
    "myString.split()"
   ]
  },
  {
   "cell_type": "code",
   "execution_count": 15,
   "id": "1a20ce08",
   "metadata": {},
   "outputs": [
    {
     "data": {
      "text/plain": [
       "['11111Hello', 'World']"
      ]
     },
     "execution_count": 15,
     "metadata": {},
     "output_type": "execute_result"
    }
   ],
   "source": [
    "myString.strip(\"2\").split() "
   ]
  },
  {
   "cell_type": "code",
   "execution_count": 17,
   "id": "da3987e6",
   "metadata": {},
   "outputs": [
    {
     "data": {
      "text/plain": [
       "'11merhaba'"
      ]
     },
     "execution_count": 17,
     "metadata": {},
     "output_type": "execute_result"
    }
   ],
   "source": [
    "\"{}{}{}\".format(\"1\",1,\"merhaba\")"
   ]
  },
  {
   "cell_type": "raw",
   "id": "77611a7b",
   "metadata": {},
   "source": [
    "myString.replace()"
   ]
  },
  {
   "cell_type": "code",
   "execution_count": 18,
   "id": "d5807af6",
   "metadata": {},
   "outputs": [
    {
     "data": {
      "text/plain": [
       "'11111Hello World22222'"
      ]
     },
     "execution_count": 18,
     "metadata": {},
     "output_type": "execute_result"
    }
   ],
   "source": [
    "myString"
   ]
  },
  {
   "cell_type": "code",
   "execution_count": 20,
   "id": "b070ca16",
   "metadata": {},
   "outputs": [
    {
     "data": {
      "text/plain": [
       "'22222Hello World22222'"
      ]
     },
     "execution_count": 20,
     "metadata": {},
     "output_type": "execute_result"
    }
   ],
   "source": [
    "myString.replace(\"1\",\"2\")"
   ]
  },
  {
   "cell_type": "code",
   "execution_count": 25,
   "id": "9bebfbca",
   "metadata": {},
   "outputs": [
    {
     "data": {
      "text/plain": [
       "'===========merhaba============2'"
      ]
     },
     "execution_count": 25,
     "metadata": {},
     "output_type": "execute_result"
    }
   ],
   "source": [
    "\"{:=^30}{}\".format(\"merhaba\",2)"
   ]
  },
  {
   "cell_type": "code",
   "execution_count": 26,
   "id": "ee702269",
   "metadata": {},
   "outputs": [],
   "source": [
    "number=45"
   ]
  },
  {
   "cell_type": "code",
   "execution_count": 27,
   "id": "da77d070",
   "metadata": {},
   "outputs": [
    {
     "data": {
      "text/plain": [
       "'numara 45'"
      ]
     },
     "execution_count": 27,
     "metadata": {},
     "output_type": "execute_result"
    }
   ],
   "source": [
    "\"numara %d\" %number"
   ]
  },
  {
   "cell_type": "code",
   "execution_count": 28,
   "id": "d516e7a9",
   "metadata": {},
   "outputs": [],
   "source": [
    "name= \"john\"\n",
    "age=23"
   ]
  },
  {
   "cell_type": "code",
   "execution_count": 29,
   "id": "222b830b",
   "metadata": {},
   "outputs": [
    {
     "data": {
      "text/plain": [
       "'john is 23 years old'"
      ]
     },
     "execution_count": 29,
     "metadata": {},
     "output_type": "execute_result"
    }
   ],
   "source": [
    "\"%s is %d years old\"%(name, age)"
   ]
  },
  {
   "cell_type": "code",
   "execution_count": 32,
   "id": "4854b6c5",
   "metadata": {},
   "outputs": [],
   "source": [
    "data={\"first\":\"hodor\",\"second\":\"hello\"}"
   ]
  },
  {
   "cell_type": "code",
   "execution_count": 33,
   "id": "d1a36521",
   "metadata": {},
   "outputs": [
    {
     "data": {
      "text/plain": [
       "'hodor hello'"
      ]
     },
     "execution_count": 33,
     "metadata": {},
     "output_type": "execute_result"
    }
   ],
   "source": [
    "\"{first} {second}\".format_map(data)"
   ]
  },
  {
   "cell_type": "code",
   "execution_count": 48,
   "id": "84a8216f",
   "metadata": {},
   "outputs": [
    {
     "data": {
      "text/plain": [
       "1"
      ]
     },
     "execution_count": 48,
     "metadata": {},
     "output_type": "execute_result"
    }
   ],
   "source": [
    "myString.count(\"lo\") #icinde kac tane var demek"
   ]
  },
  {
   "cell_type": "code",
   "execution_count": 39,
   "id": "be4a71be",
   "metadata": {},
   "outputs": [
    {
     "data": {
      "text/plain": [
       "'This is an banana'"
      ]
     },
     "execution_count": 39,
     "metadata": {},
     "output_type": "execute_result"
    }
   ],
   "source": [
    "\"this is an banana\".capitalize()"
   ]
  },
  {
   "cell_type": "code",
   "execution_count": 42,
   "id": "ec7414f2",
   "metadata": {},
   "outputs": [],
   "source": [
    "string=\"Hi\""
   ]
  },
  {
   "cell_type": "code",
   "execution_count": 43,
   "id": "8c4a8d25",
   "metadata": {},
   "outputs": [
    {
     "data": {
      "text/plain": [
       "'hi'"
      ]
     },
     "execution_count": 43,
     "metadata": {},
     "output_type": "execute_result"
    }
   ],
   "source": [
    "string.casefold()"
   ]
  },
  {
   "cell_type": "code",
   "execution_count": 49,
   "id": "5ce89d40",
   "metadata": {},
   "outputs": [],
   "source": [
    "myString= \"merhab nasilsin\"\n",
    "subString= \"na\""
   ]
  },
  {
   "cell_type": "code",
   "execution_count": 50,
   "id": "538a3793",
   "metadata": {},
   "outputs": [
    {
     "data": {
      "text/plain": [
       "1"
      ]
     },
     "execution_count": 50,
     "metadata": {},
     "output_type": "execute_result"
    }
   ],
   "source": [
    "myString.count(subString)"
   ]
  },
  {
   "cell_type": "code",
   "execution_count": 53,
   "id": "9f8130d5",
   "metadata": {},
   "outputs": [
    {
     "data": {
      "text/plain": [
       "1"
      ]
     },
     "execution_count": 53,
     "metadata": {},
     "output_type": "execute_result"
    }
   ],
   "source": [
    "myString.count(subString,0,14) #0 dan 14 e kadar olan karakterde subString var mi demek"
   ]
  },
  {
   "cell_type": "code",
   "execution_count": 54,
   "id": "35ad5478",
   "metadata": {},
   "outputs": [
    {
     "data": {
      "text/plain": [
       "True"
      ]
     },
     "execution_count": 54,
     "metadata": {},
     "output_type": "execute_result"
    }
   ],
   "source": [
    "myString.endswith(\"n\") #\"n \" ile bitiyor mu diye sorduk."
   ]
  },
  {
   "cell_type": "code",
   "execution_count": 56,
   "id": "f4527b90",
   "metadata": {},
   "outputs": [
    {
     "data": {
      "text/plain": [
       "'       merhab nasilsin        '"
      ]
     },
     "execution_count": 56,
     "metadata": {},
     "output_type": "execute_result"
    }
   ],
   "source": [
    "myString.center(30) #30 toplam karakter sayisidir."
   ]
  },
  {
   "cell_type": "code",
   "execution_count": 57,
   "id": "1ff47a56",
   "metadata": {},
   "outputs": [],
   "source": [
    "myString=\"#\""
   ]
  },
  {
   "cell_type": "code",
   "execution_count": 79,
   "id": "469523dc",
   "metadata": {},
   "outputs": [
    {
     "name": "stdout",
     "output_type": "stream",
     "text": [
      "--#--\n",
      "-###-\n",
      "#####\n",
      "-###-\n",
      "--#--\n"
     ]
    }
   ],
   "source": [
    "print(myString.center(5,\"-\"))\n",
    "print(((myString)*3).center(5,\"-\"))\n",
    "print(((myString)*5).center(5,\"-\"))\n",
    "print(((myString)*3).center(5,\"-\"))\n",
    "print(myString.center(5,\"-\"))\n"
   ]
  },
  {
   "cell_type": "code",
   "execution_count": 81,
   "id": "7f581506",
   "metadata": {},
   "outputs": [
    {
     "name": "stdout",
     "output_type": "stream",
     "text": [
      "#####\n"
     ]
    }
   ],
   "source": [
    "print(((myString)*5).center(5,\"-\"))"
   ]
  },
  {
   "cell_type": "code",
   "execution_count": 82,
   "id": "ad528596",
   "metadata": {},
   "outputs": [],
   "source": [
    "data=\" asdfwegdsvdver , murat.akca@gmail.com sdfwerwefsd\""
   ]
  },
  {
   "cell_type": "code",
   "execution_count": 115,
   "id": "cb72d81f",
   "metadata": {
    "scrolled": true
   },
   "outputs": [
    {
     "data": {
      "text/plain": [
       "'.akca@gmai'"
      ]
     },
     "execution_count": 115,
     "metadata": {},
     "output_type": "execute_result"
    }
   ],
   "source": [
    "data[int(data.find(\"@\"))-5:int(data.find(\"@\"))+5]"
   ]
  },
  {
   "cell_type": "code",
   "execution_count": 117,
   "id": "64854088",
   "metadata": {},
   "outputs": [],
   "source": [
    "x=2\n",
    "y=3"
   ]
  },
  {
   "cell_type": "code",
   "execution_count": 118,
   "id": "d4d886d9",
   "metadata": {},
   "outputs": [],
   "source": [
    "x**=y"
   ]
  },
  {
   "cell_type": "code",
   "execution_count": 119,
   "id": "d2aab9e1",
   "metadata": {},
   "outputs": [
    {
     "data": {
      "text/plain": [
       "8"
      ]
     },
     "execution_count": 119,
     "metadata": {},
     "output_type": "execute_result"
    }
   ],
   "source": [
    "x"
   ]
  },
  {
   "cell_type": "code",
   "execution_count": 120,
   "id": "d75daa95",
   "metadata": {},
   "outputs": [
    {
     "data": {
      "text/plain": [
       "False"
      ]
     },
     "execution_count": 120,
     "metadata": {},
     "output_type": "execute_result"
    }
   ],
   "source": [
    "x==y"
   ]
  },
  {
   "cell_type": "code",
   "execution_count": 121,
   "id": "d126c6b5",
   "metadata": {},
   "outputs": [
    {
     "data": {
      "text/plain": [
       "True"
      ]
     },
     "execution_count": 121,
     "metadata": {},
     "output_type": "execute_result"
    }
   ],
   "source": [
    "x!=y"
   ]
  },
  {
   "cell_type": "code",
   "execution_count": 122,
   "id": "8b8bf140",
   "metadata": {},
   "outputs": [
    {
     "data": {
      "text/plain": [
       "True"
      ]
     },
     "execution_count": 122,
     "metadata": {},
     "output_type": "execute_result"
    }
   ],
   "source": [
    "x>y and y>0"
   ]
  },
  {
   "cell_type": "code",
   "execution_count": 124,
   "id": "ef65cf4a",
   "metadata": {},
   "outputs": [
    {
     "data": {
      "text/plain": [
       "4"
      ]
     },
     "execution_count": 124,
     "metadata": {},
     "output_type": "execute_result"
    }
   ],
   "source": [
    "round(3.5)"
   ]
  },
  {
   "cell_type": "code",
   "execution_count": 125,
   "id": "1944c617",
   "metadata": {},
   "outputs": [],
   "source": [
    "myInteger=0"
   ]
  },
  {
   "cell_type": "code",
   "execution_count": 126,
   "id": "f97f5ca6",
   "metadata": {},
   "outputs": [
    {
     "data": {
      "text/plain": [
       "False"
      ]
     },
     "execution_count": 126,
     "metadata": {},
     "output_type": "execute_result"
    }
   ],
   "source": [
    "bool(myInteger)"
   ]
  },
  {
   "cell_type": "code",
   "execution_count": 142,
   "id": "b14e4e60",
   "metadata": {},
   "outputs": [
    {
     "name": "stdout",
     "output_type": "stream",
     "text": [
      "adiniz nedir?AHMET\n"
     ]
    },
    {
     "data": {
      "text/plain": [
       "'login olabilir: True'"
      ]
     },
     "execution_count": 142,
     "metadata": {},
     "output_type": "execute_result"
    }
   ],
   "source": [
    "x=input(\"adiniz nedir?\").lower()\n",
    "y=\"ahmet\"\n",
    "a=bool(x==y)\n",
    "\"login olabilir: {}\".format(a)"
   ]
  },
  {
   "cell_type": "code",
   "execution_count": 167,
   "id": "b9bdbdc9",
   "metadata": {},
   "outputs": [
    {
     "name": "stdout",
     "output_type": "stream",
     "text": [
      "yari cap degerini girin4\n"
     ]
    },
    {
     "data": {
      "text/plain": [
       "'dairenin cevresi 8pi,dairenin alani 16pi'"
      ]
     },
     "execution_count": 167,
     "metadata": {},
     "output_type": "execute_result"
    }
   ],
   "source": [
    "x=input(\"yari cap degerini girin\")\n",
    "a=int(x)*2\n",
    "b=int(x)**2\n",
    "y=\"dairenin cevresi {cevre}pi,dairenin alani {alan}pi\"\n",
    "y.format(cevre=a,alan=b)\n"
   ]
  },
  {
   "cell_type": "code",
   "execution_count": 168,
   "id": "a04983b6",
   "metadata": {},
   "outputs": [
    {
     "data": {
      "text/plain": [
       "'numara 5'"
      ]
     },
     "execution_count": 168,
     "metadata": {},
     "output_type": "execute_result"
    }
   ],
   "source": [
    "myint=5\n",
    "\"numara %d\" %myint"
   ]
  },
  {
   "cell_type": "code",
   "execution_count": 171,
   "id": "d51ef8bb",
   "metadata": {},
   "outputs": [],
   "source": [
    "data={\"first\":\"hodor\",\"second\":\"hello\"}"
   ]
  },
  {
   "cell_type": "code",
   "execution_count": 172,
   "id": "86fc0977",
   "metadata": {},
   "outputs": [
    {
     "data": {
      "text/plain": [
       "'hodor hello'"
      ]
     },
     "execution_count": 172,
     "metadata": {},
     "output_type": "execute_result"
    }
   ],
   "source": [
    "\"{first} {second}\".format_map(data)"
   ]
  },
  {
   "cell_type": "code",
   "execution_count": 173,
   "id": "51ffe507",
   "metadata": {},
   "outputs": [],
   "source": [
    "s=\"hHHH herkese merhaba\""
   ]
  },
  {
   "cell_type": "code",
   "execution_count": 178,
   "id": "54a99000",
   "metadata": {},
   "outputs": [
    {
     "data": {
      "text/plain": [
       "6"
      ]
     },
     "execution_count": 178,
     "metadata": {},
     "output_type": "execute_result"
    }
   ],
   "source": [
    "s.lower().count(\"h\") # `h` kucugude buyugude sorgulamak icin"
   ]
  },
  {
   "cell_type": "code",
   "execution_count": 180,
   "id": "297c641f",
   "metadata": {},
   "outputs": [],
   "source": [
    "mystring=\"hello\""
   ]
  },
  {
   "cell_type": "code",
   "execution_count": 184,
   "id": "fcb8a427",
   "metadata": {},
   "outputs": [
    {
     "data": {
      "text/plain": [
       "-1"
      ]
     },
     "execution_count": 184,
     "metadata": {},
     "output_type": "execute_result"
    }
   ],
   "source": [
    "mystring.find(\"a\")"
   ]
  },
  {
   "cell_type": "code",
   "execution_count": 185,
   "id": "93de8591",
   "metadata": {},
   "outputs": [],
   "source": [
    "data=\"sadfasdfecqw fcfef fwfe ahmet@gmail.com wqcewe\""
   ]
  },
  {
   "cell_type": "code",
   "execution_count": 190,
   "id": "a917fcb2",
   "metadata": {},
   "outputs": [
    {
     "data": {
      "text/plain": [
       "''"
      ]
     },
     "execution_count": 190,
     "metadata": {},
     "output_type": "execute_result"
    }
   ],
   "source": [
    "data[data.find(\"@\")+1:data.find(\"\",data.find(\"@\"))]"
   ]
  },
  {
   "cell_type": "code",
   "execution_count": 208,
   "id": "8af5f41a",
   "metadata": {},
   "outputs": [
    {
     "name": "stdout",
     "output_type": "stream",
     "text": [
      "lutfen bir deger giriniz9\n"
     ]
    },
    {
     "data": {
      "text/plain": [
       "'9bir cift sayisirFalse'"
      ]
     },
     "execution_count": 208,
     "metadata": {},
     "output_type": "execute_result"
    }
   ],
   "source": [
    "a=input(\"lutfen bir deger giriniz\")\n",
    "b=bool(int(a)%2==0)\n",
    "\"{}bir cift sayisir{}\".format(a,b)"
   ]
  },
  {
   "cell_type": "code",
   "execution_count": 205,
   "id": "9650e835",
   "metadata": {},
   "outputs": [
    {
     "data": {
      "text/plain": [
       "False"
      ]
     },
     "execution_count": 205,
     "metadata": {},
     "output_type": "execute_result"
    }
   ],
   "source": [
    "bool(0)"
   ]
  },
  {
   "cell_type": "code",
   "execution_count": 211,
   "id": "86d667d6",
   "metadata": {},
   "outputs": [
    {
     "data": {
      "text/plain": [
       "'213243290809345 saniye 3554054846822.4165 kadar dakika 59234247447.040276kadar saat eder'"
      ]
     },
     "execution_count": 211,
     "metadata": {},
     "output_type": "execute_result"
    }
   ],
   "source": [
    "a=213243290809345\n",
    "dakika=a/60\n",
    "saat=dakika/60\n",
    "\"{} saniye {} kadar dakika {}kadar saat eder\".format(a,dakika,saat)"
   ]
  },
  {
   "cell_type": "code",
   "execution_count": null,
   "id": "30a95af4",
   "metadata": {},
   "outputs": [],
   "source": []
  }
 ],
 "metadata": {
  "kernelspec": {
   "display_name": "Python 3 (ipykernel)",
   "language": "python",
   "name": "python3"
  },
  "language_info": {
   "codemirror_mode": {
    "name": "ipython",
    "version": 3
   },
   "file_extension": ".py",
   "mimetype": "text/x-python",
   "name": "python",
   "nbconvert_exporter": "python",
   "pygments_lexer": "ipython3",
   "version": "3.9.7"
  }
 },
 "nbformat": 4,
 "nbformat_minor": 5
}
