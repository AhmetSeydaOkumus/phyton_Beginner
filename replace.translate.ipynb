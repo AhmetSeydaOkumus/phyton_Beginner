{
 "cells": [
  {
   "cell_type": "code",
   "execution_count": 2,
   "id": "df676089",
   "metadata": {},
   "outputs": [],
   "source": [
    "myString=\"Hello World\""
   ]
  },
  {
   "cell_type": "code",
   "execution_count": 6,
   "id": "bd15a1b9",
   "metadata": {},
   "outputs": [
    {
     "data": {
      "text/plain": [
       "'Helliiii Wiiiirld'"
      ]
     },
     "execution_count": 6,
     "metadata": {},
     "output_type": "execute_result"
    }
   ],
   "source": [
    "myString.replace(\"o\", \"iiii\")"
   ]
  },
  {
   "cell_type": "code",
   "execution_count": 11,
   "id": "ef2b7946",
   "metadata": {},
   "outputs": [
    {
     "data": {
      "text/plain": [
       "'Hello World'"
      ]
     },
     "execution_count": 11,
     "metadata": {},
     "output_type": "execute_result"
    }
   ],
   "source": [
    "myString.replace(\"i\", \"o\")"
   ]
  },
  {
   "cell_type": "code",
   "execution_count": 14,
   "id": "bd20ace6",
   "metadata": {},
   "outputs": [
    {
     "name": "stdout",
     "output_type": "stream",
     "text": [
      "ac\bd\n"
     ]
    }
   ],
   "source": [
    "print(\"ac\\bd\")"
   ]
  },
  {
   "cell_type": "code",
   "execution_count": 18,
   "id": "56409fae",
   "metadata": {},
   "outputs": [],
   "source": [
    "kriptolayici=str.maketrans(\"aloune\",\"!@#$%^\")"
   ]
  },
  {
   "cell_type": "code",
   "execution_count": 19,
   "id": "d9928161",
   "metadata": {},
   "outputs": [],
   "source": [
    "newString=myString.translate(kriptolayici)"
   ]
  },
  {
   "cell_type": "code",
   "execution_count": 20,
   "id": "8580ce5f",
   "metadata": {},
   "outputs": [
    {
     "data": {
      "text/plain": [
       "'H^@@# W#r@d'"
      ]
     },
     "execution_count": 20,
     "metadata": {},
     "output_type": "execute_result"
    }
   ],
   "source": [
    "newString"
   ]
  },
  {
   "cell_type": "code",
   "execution_count": 21,
   "id": "f2a62889",
   "metadata": {},
   "outputs": [],
   "source": [
    "kriptocozucu=str.maketrans(\"!@#$%^\",\"aloune\")"
   ]
  },
  {
   "cell_type": "code",
   "execution_count": 22,
   "id": "3b25eaf9",
   "metadata": {},
   "outputs": [],
   "source": [
    "oldString=\"H^@@# W#r@d\""
   ]
  },
  {
   "cell_type": "code",
   "execution_count": 23,
   "id": "fc3a5f67",
   "metadata": {},
   "outputs": [],
   "source": [
    "oldString=newString.translate(kriptocozucu)"
   ]
  },
  {
   "cell_type": "code",
   "execution_count": 24,
   "id": "6b2736bb",
   "metadata": {},
   "outputs": [
    {
     "data": {
      "text/plain": [
       "'Hello World'"
      ]
     },
     "execution_count": 24,
     "metadata": {},
     "output_type": "execute_result"
    }
   ],
   "source": [
    "oldString"
   ]
  },
  {
   "cell_type": "code",
   "execution_count": 26,
   "id": "210ea714",
   "metadata": {},
   "outputs": [],
   "source": [
    "a=str.maketrans(\"aeiobklt\",\"!@#$%^&*\")"
   ]
  },
  {
   "cell_type": "code",
   "execution_count": 27,
   "id": "1e6a9873",
   "metadata": {},
   "outputs": [],
   "source": [
    "lastString= \"naber napiyon nasil gidiyor\""
   ]
  },
  {
   "cell_type": "code",
   "execution_count": 28,
   "id": "136c0cd7",
   "metadata": {},
   "outputs": [
    {
     "data": {
      "text/plain": [
       "'naber napiyon nasil gidiyor'"
      ]
     },
     "execution_count": 28,
     "metadata": {},
     "output_type": "execute_result"
    }
   ],
   "source": [
    "lastString"
   ]
  },
  {
   "cell_type": "code",
   "execution_count": 33,
   "id": "06369a6c",
   "metadata": {},
   "outputs": [],
   "source": [
    "a=str.maketrans(\"aeiobkltn\",\"!@#$%^&*+\")"
   ]
  },
  {
   "cell_type": "code",
   "execution_count": 34,
   "id": "9858c6be",
   "metadata": {},
   "outputs": [
    {
     "data": {
      "text/plain": [
       "'naber napiyon nasil gidiyor'"
      ]
     },
     "execution_count": 34,
     "metadata": {},
     "output_type": "execute_result"
    }
   ],
   "source": [
    "lastString"
   ]
  },
  {
   "cell_type": "code",
   "execution_count": 35,
   "id": "e72701f6",
   "metadata": {},
   "outputs": [],
   "source": [
    "b=lastString.translate(a)"
   ]
  },
  {
   "cell_type": "code",
   "execution_count": 36,
   "id": "6599350e",
   "metadata": {},
   "outputs": [
    {
     "data": {
      "text/plain": [
       "'+!%@r +!p#y$+ +!s#& g#d#y$r'"
      ]
     },
     "execution_count": 36,
     "metadata": {},
     "output_type": "execute_result"
    }
   ],
   "source": [
    "b"
   ]
  },
  {
   "cell_type": "code",
   "execution_count": 37,
   "id": "ad4dff87",
   "metadata": {},
   "outputs": [],
   "source": [
    "a=str.maketrans(\"!@#$%^&*+\",\"aeiobkltn\")"
   ]
  },
  {
   "cell_type": "code",
   "execution_count": 38,
   "id": "65f6ffe8",
   "metadata": {},
   "outputs": [],
   "source": [
    "c=b.translate(a)"
   ]
  },
  {
   "cell_type": "code",
   "execution_count": 39,
   "id": "df2d60a9",
   "metadata": {},
   "outputs": [
    {
     "data": {
      "text/plain": [
       "'naber napiyon nasil gidiyor'"
      ]
     },
     "execution_count": 39,
     "metadata": {},
     "output_type": "execute_result"
    }
   ],
   "source": [
    "c"
   ]
  },
  {
   "cell_type": "code",
   "execution_count": 1,
   "id": "742b131d",
   "metadata": {},
   "outputs": [],
   "source": [
    "my_String=\"Merhaba Nasilsin\""
   ]
  },
  {
   "cell_type": "code",
   "execution_count": 3,
   "id": "bad25e69",
   "metadata": {},
   "outputs": [],
   "source": [
    "y=my_String[::2]"
   ]
  },
  {
   "cell_type": "code",
   "execution_count": 4,
   "id": "7a319d8e",
   "metadata": {},
   "outputs": [
    {
     "data": {
      "text/plain": [
       "'MraaNsli'"
      ]
     },
     "execution_count": 4,
     "metadata": {},
     "output_type": "execute_result"
    }
   ],
   "source": [
    "y"
   ]
  },
  {
   "cell_type": "code",
   "execution_count": 13,
   "id": "27b645c8",
   "metadata": {},
   "outputs": [],
   "source": [
    "s1=slice(0,4)"
   ]
  },
  {
   "cell_type": "code",
   "execution_count": 14,
   "id": "9db73636",
   "metadata": {},
   "outputs": [
    {
     "data": {
      "text/plain": [
       "'Mraa'"
      ]
     },
     "execution_count": 14,
     "metadata": {},
     "output_type": "execute_result"
    }
   ],
   "source": [
    "y[s1]"
   ]
  },
  {
   "cell_type": "code",
   "execution_count": 15,
   "id": "4b99dd7b",
   "metadata": {},
   "outputs": [
    {
     "data": {
      "text/plain": [
       "'MRAANSLI'"
      ]
     },
     "execution_count": 15,
     "metadata": {},
     "output_type": "execute_result"
    }
   ],
   "source": [
    "y.upper()"
   ]
  },
  {
   "cell_type": "code",
   "execution_count": 17,
   "id": "8c23a348",
   "metadata": {},
   "outputs": [],
   "source": [
    "bosluklu_String=\"    M ,erhaba, Dunya !   \""
   ]
  },
  {
   "cell_type": "code",
   "execution_count": 18,
   "id": "3da7e69c",
   "metadata": {},
   "outputs": [
    {
     "data": {
      "text/plain": [
       "['    M ', 'erhaba', ' Dunya !   ']"
      ]
     },
     "execution_count": 18,
     "metadata": {},
     "output_type": "execute_result"
    }
   ],
   "source": [
    "bosluklu_String.split(\",\")"
   ]
  },
  {
   "cell_type": "code",
   "execution_count": 32,
   "id": "debbbf7b",
   "metadata": {},
   "outputs": [
    {
     "name": "stdout",
     "output_type": "stream",
     "text": [
      "adiniz nedir?mehmet\n"
     ]
    }
   ],
   "source": [
    "a=input(\"adiniz nedir?\")"
   ]
  },
  {
   "cell_type": "code",
   "execution_count": 34,
   "id": "a54f2f2f",
   "metadata": {},
   "outputs": [
    {
     "data": {
      "text/plain": [
       "'MEHMET'"
      ]
     },
     "execution_count": 34,
     "metadata": {},
     "output_type": "execute_result"
    }
   ],
   "source": [
    "a.upper()"
   ]
  },
  {
   "cell_type": "code",
   "execution_count": 49,
   "id": "45108fe0",
   "metadata": {},
   "outputs": [
    {
     "data": {
      "text/plain": [
       "'aaNsli'"
      ]
     },
     "execution_count": 49,
     "metadata": {},
     "output_type": "execute_result"
    }
   ],
   "source": [
    "y.strip(y[0:2])  #strip basindaki ve sonundaki girilen ifadeyi cikarmamiza yarar\n",
    "#ama burada y`nin 0 dan 2 ye kadarki kismi yerine 3 e kadarki kismi desek \n",
    "#iki tane a harfi oldugundan iki a harfini de atiyor"
   ]
  },
  {
   "cell_type": "code",
   "execution_count": 56,
   "id": "9185bd9c",
   "metadata": {},
   "outputs": [],
   "source": [
    "my_String=\"It's Halloween and Randy is dealing with his daughter's marijuana problem.\""
   ]
  },
  {
   "cell_type": "code",
   "execution_count": 57,
   "id": "ab021d6a",
   "metadata": {},
   "outputs": [
    {
     "data": {
      "text/plain": [
       "[\"It's Halloween and Randy is dealing with his daughter's marijuana problem.\"]"
      ]
     },
     "execution_count": 57,
     "metadata": {},
     "output_type": "execute_result"
    }
   ],
   "source": [
    "my_String.split(\"\\n\") #satir satir ayirir."
   ]
  },
  {
   "cell_type": "code",
   "execution_count": 58,
   "id": "40d9c815",
   "metadata": {},
   "outputs": [
    {
     "data": {
      "text/plain": [
       "74"
      ]
     },
     "execution_count": 58,
     "metadata": {},
     "output_type": "execute_result"
    }
   ],
   "source": [
    "len(my_String)"
   ]
  },
  {
   "cell_type": "code",
   "execution_count": 59,
   "id": "003f2f54",
   "metadata": {},
   "outputs": [],
   "source": [
    "age=36"
   ]
  },
  {
   "cell_type": "code",
   "execution_count": 60,
   "id": "935c4faf",
   "metadata": {},
   "outputs": [],
   "source": [
    "txt=\"My name is Mehmet, and iam {}\""
   ]
  },
  {
   "cell_type": "code",
   "execution_count": 61,
   "id": "fe5bf143",
   "metadata": {},
   "outputs": [
    {
     "data": {
      "text/plain": [
       "'My name is Mehmet, and iam 36'"
      ]
     },
     "execution_count": 61,
     "metadata": {},
     "output_type": "execute_result"
    }
   ],
   "source": [
    "txt.format(age)"
   ]
  },
  {
   "cell_type": "code",
   "execution_count": 62,
   "id": "65cd5865",
   "metadata": {},
   "outputs": [
    {
     "data": {
      "text/plain": [
       "'i want 3 pieces of item567for49.95 dollars'"
      ]
     },
     "execution_count": 62,
     "metadata": {},
     "output_type": "execute_result"
    }
   ],
   "source": [
    "quantity=3\n",
    "itemno=567\n",
    "price=49.95\n",
    "myorder=\"i want {} pieces of item{}for{} dollars\"\n",
    "myorder.format(quantity,itemno,price)"
   ]
  },
  {
   "cell_type": "code",
   "execution_count": 63,
   "id": "7166259b",
   "metadata": {},
   "outputs": [
    {
     "data": {
      "text/plain": [
       "'i want 567 pieces of item49.95for3 dollars'"
      ]
     },
     "execution_count": 63,
     "metadata": {},
     "output_type": "execute_result"
    }
   ],
   "source": [
    "quantity=3\n",
    "itemno=567\n",
    "price=49.95\n",
    "myorder=\"i want {1} pieces of item{2}for{0} dollars\"\n",
    "myorder.format(quantity,itemno,price)"
   ]
  },
  {
   "cell_type": "code",
   "execution_count": 66,
   "id": "0a966f84",
   "metadata": {},
   "outputs": [],
   "source": [
    "myString= \"Global Mensen\""
   ]
  },
  {
   "cell_type": "code",
   "execution_count": 68,
   "id": "ec56821d",
   "metadata": {},
   "outputs": [],
   "source": [
    "x=myString.count(\"al\") #bu ifade stringin icinde kac tane var?"
   ]
  },
  {
   "cell_type": "code",
   "execution_count": 69,
   "id": "6299adda",
   "metadata": {},
   "outputs": [
    {
     "data": {
      "text/plain": [
       "1"
      ]
     },
     "execution_count": 69,
     "metadata": {},
     "output_type": "execute_result"
    }
   ],
   "source": [
    "x"
   ]
  },
  {
   "cell_type": "code",
   "execution_count": 70,
   "id": "5ee5271e",
   "metadata": {},
   "outputs": [
    {
     "data": {
      "text/plain": [
       "b'Global Mensen'"
      ]
     },
     "execution_count": 70,
     "metadata": {},
     "output_type": "execute_result"
    }
   ],
   "source": [
    "myString.encode()"
   ]
  },
  {
   "cell_type": "code",
   "execution_count": 71,
   "id": "56285aee",
   "metadata": {},
   "outputs": [],
   "source": [
    "myString=\"gerektiğini\""
   ]
  },
  {
   "cell_type": "code",
   "execution_count": 72,
   "id": "f74fe117",
   "metadata": {},
   "outputs": [
    {
     "data": {
      "text/plain": [
       "b'gerekti\\xc4\\x9fini'"
      ]
     },
     "execution_count": 72,
     "metadata": {},
     "output_type": "execute_result"
    }
   ],
   "source": [
    "myString.encode()"
   ]
  },
  {
   "cell_type": "code",
   "execution_count": 74,
   "id": "495dc845",
   "metadata": {},
   "outputs": [
    {
     "data": {
      "text/plain": [
       "8"
      ]
     },
     "execution_count": 74,
     "metadata": {},
     "output_type": "execute_result"
    }
   ],
   "source": [
    "myString.index(\"ini\") # aradigim karakterin sekizinci karakter ile basladigini gosterir"
   ]
  },
  {
   "cell_type": "code",
   "execution_count": 76,
   "id": "30f46f4e",
   "metadata": {},
   "outputs": [
    {
     "data": {
      "text/plain": [
       "'hello ahmet paraniz 1450 dir'"
      ]
     },
     "execution_count": 76,
     "metadata": {},
     "output_type": "execute_result"
    }
   ],
   "source": [
    "\"hello {} paraniz {} dir\".format(\"ahmet\",1450)"
   ]
  },
  {
   "cell_type": "code",
   "execution_count": 77,
   "id": "71d65799",
   "metadata": {},
   "outputs": [
    {
     "data": {
      "text/plain": [
       "'hello 1450 paraniz ahmet dir'"
      ]
     },
     "execution_count": 77,
     "metadata": {},
     "output_type": "execute_result"
    }
   ],
   "source": [
    "\"hello {sayi} paraniz {name} dir\".format(name=\"ahmet\",sayi=1450)"
   ]
  },
  {
   "cell_type": "code",
   "execution_count": 82,
   "id": "6127ed83",
   "metadata": {},
   "outputs": [
    {
     "data": {
      "text/plain": [
       "'x:1;y:2;z:3'"
      ]
     },
     "execution_count": 82,
     "metadata": {},
     "output_type": "execute_result"
    }
   ],
   "source": [
    "\"x:{0[0]};y:{0[1]};z:{0[2]}\".format(\"123\")"
   ]
  },
  {
   "cell_type": "code",
   "execution_count": 83,
   "id": "a425bf5b",
   "metadata": {},
   "outputs": [
    {
     "data": {
      "text/plain": [
       "'                    saga yasla'"
      ]
     },
     "execution_count": 83,
     "metadata": {},
     "output_type": "execute_result"
    }
   ],
   "source": [
    "\"{:>30}\".format(\"saga yasla\")"
   ]
  },
  {
   "cell_type": "code",
   "execution_count": 86,
   "id": "a53da468",
   "metadata": {},
   "outputs": [
    {
     "data": {
      "text/plain": [
       "'            ortala            '"
      ]
     },
     "execution_count": 86,
     "metadata": {},
     "output_type": "execute_result"
    }
   ],
   "source": [
    "\"{:^30}\".format(\"ortala\")"
   ]
  },
  {
   "cell_type": "code",
   "execution_count": 87,
   "id": "1873a1bf",
   "metadata": {},
   "outputs": [
    {
     "data": {
      "text/plain": [
       "'!!!!!!!ortala unlem koy!!!!!!!'"
      ]
     },
     "execution_count": 87,
     "metadata": {},
     "output_type": "execute_result"
    }
   ],
   "source": [
    "\"{:!^30}\".format(\"ortala unlem koy\")"
   ]
  },
  {
   "cell_type": "code",
   "execution_count": null,
   "id": "34227538",
   "metadata": {},
   "outputs": [],
   "source": []
  }
 ],
 "metadata": {
  "kernelspec": {
   "display_name": "Python 3 (ipykernel)",
   "language": "python",
   "name": "python3"
  },
  "language_info": {
   "codemirror_mode": {
    "name": "ipython",
    "version": 3
   },
   "file_extension": ".py",
   "mimetype": "text/x-python",
   "name": "python",
   "nbconvert_exporter": "python",
   "pygments_lexer": "ipython3",
   "version": "3.9.7"
  }
 },
 "nbformat": 4,
 "nbformat_minor": 5
}
