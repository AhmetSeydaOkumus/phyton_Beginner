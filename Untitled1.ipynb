{
 "cells": [
  {
   "cell_type": "code",
   "execution_count": 28,
   "id": "8e4262d2",
   "metadata": {},
   "outputs": [],
   "source": [
    "x=800 "
   ]
  },
  {
   "cell_type": "code",
   "execution_count": 29,
   "id": "eca056e5",
   "metadata": {},
   "outputs": [],
   "source": [
    "y=\"merhaba\""
   ]
  },
  {
   "cell_type": "code",
   "execution_count": 30,
   "id": "b16920f4",
   "metadata": {},
   "outputs": [
    {
     "name": "stdout",
     "output_type": "stream",
     "text": [
      "800yyyymerhaba\n"
     ]
    }
   ],
   "source": [
    "print(x,y, sep=\"yyyy\")"
   ]
  },
  {
   "cell_type": "code",
   "execution_count": 43,
   "id": "0a87cbec",
   "metadata": {},
   "outputs": [
    {
     "name": "stdout",
     "output_type": "stream",
     "text": [
      "merhabamerhaba\n"
     ]
    }
   ],
   "source": [
    "print(\"merhaba\"+y)"
   ]
  },
  {
   "cell_type": "code",
   "execution_count": 39,
   "id": "8ccd4eb2",
   "metadata": {},
   "outputs": [
    {
     "name": "stdout",
     "output_type": "stream",
     "text": [
      "isminiz nedir?ahmet\n"
     ]
    }
   ],
   "source": [
    "name=input(\"isminiz nedir?\")"
   ]
  },
  {
   "cell_type": "code",
   "execution_count": 41,
   "id": "8e91dfb9",
   "metadata": {},
   "outputs": [
    {
     "name": "stdout",
     "output_type": "stream",
     "text": [
      "merhabaahmet\n"
     ]
    }
   ],
   "source": [
    "print(\"merhaba\"+name)"
   ]
  },
  {
   "cell_type": "code",
   "execution_count": 46,
   "id": "bcb87403",
   "metadata": {},
   "outputs": [
    {
     "name": "stdout",
     "output_type": "stream",
     "text": [
      "hello\n"
     ]
    }
   ],
   "source": [
    "if 5>2:\n",
    "    print(\"hello\")"
   ]
  },
  {
   "cell_type": "code",
   "execution_count": 47,
   "id": "5f4ea90f",
   "metadata": {},
   "outputs": [
    {
     "name": "stdout",
     "output_type": "stream",
     "text": [
      "x\n"
     ]
    }
   ],
   "source": [
    "#dsxxcv\n",
    "\"\"\"sadasdasdasd\n",
    "jhjh\"\"\"\n",
    "print(\"x\")"
   ]
  },
  {
   "cell_type": "code",
   "execution_count": 51,
   "id": "457a4422",
   "metadata": {},
   "outputs": [
    {
     "name": "stdout",
     "output_type": "stream",
     "text": [
      "banana\n",
      "y\n",
      "z\n"
     ]
    }
   ],
   "source": [
    "fruit=[\"banana\",\"strawberry\",\"lemon\"]\n",
    "x,y,z=fruit\n",
    "print(x)\n",
    "print(\"y\")\n",
    "print(\"z\")"
   ]
  },
  {
   "cell_type": "code",
   "execution_count": 52,
   "id": "f5c119ca",
   "metadata": {},
   "outputs": [],
   "source": [
    "n=300"
   ]
  },
  {
   "cell_type": "code",
   "execution_count": 53,
   "id": "9cee2519",
   "metadata": {},
   "outputs": [],
   "source": [
    "m=n"
   ]
  },
  {
   "cell_type": "code",
   "execution_count": 54,
   "id": "2579defe",
   "metadata": {},
   "outputs": [
    {
     "name": "stdout",
     "output_type": "stream",
     "text": [
      "300\n"
     ]
    }
   ],
   "source": [
    "print(m)"
   ]
  },
  {
   "cell_type": "code",
   "execution_count": 55,
   "id": "f7a01c5b",
   "metadata": {},
   "outputs": [],
   "source": [
    "x=\"abc\""
   ]
  },
  {
   "cell_type": "code",
   "execution_count": 56,
   "id": "abb4ea12",
   "metadata": {},
   "outputs": [],
   "source": [
    "y=x"
   ]
  },
  {
   "cell_type": "code",
   "execution_count": 58,
   "id": "8dbb1bb4",
   "metadata": {},
   "outputs": [
    {
     "name": "stdout",
     "output_type": "stream",
     "text": [
      "abc\n"
     ]
    }
   ],
   "source": [
    "print(y)"
   ]
  },
  {
   "cell_type": "code",
   "execution_count": 59,
   "id": "fbba7143",
   "metadata": {},
   "outputs": [
    {
     "data": {
      "text/plain": [
       "1678060737584"
      ]
     },
     "execution_count": 59,
     "metadata": {},
     "output_type": "execute_result"
    }
   ],
   "source": [
    "id(x)"
   ]
  },
  {
   "cell_type": "code",
   "execution_count": 60,
   "id": "dd009afe",
   "metadata": {},
   "outputs": [
    {
     "data": {
      "text/plain": [
       "1678060737584"
      ]
     },
     "execution_count": 60,
     "metadata": {},
     "output_type": "execute_result"
    }
   ],
   "source": [
    "id(y)"
   ]
  },
  {
   "cell_type": "code",
   "execution_count": 61,
   "id": "963a52d1",
   "metadata": {},
   "outputs": [
    {
     "data": {
      "text/plain": [
       "1678140889904"
      ]
     },
     "execution_count": 61,
     "metadata": {},
     "output_type": "execute_result"
    }
   ],
   "source": [
    "id(n)"
   ]
  },
  {
   "cell_type": "code",
   "execution_count": 62,
   "id": "9cc55b9b",
   "metadata": {},
   "outputs": [
    {
     "data": {
      "text/plain": [
       "1678140889904"
      ]
     },
     "execution_count": 62,
     "metadata": {},
     "output_type": "execute_result"
    }
   ],
   "source": [
    "id(m)"
   ]
  },
  {
   "cell_type": "code",
   "execution_count": 63,
   "id": "06a0e986",
   "metadata": {},
   "outputs": [],
   "source": [
    "x=\"abz\""
   ]
  },
  {
   "cell_type": "code",
   "execution_count": 64,
   "id": "bc465061",
   "metadata": {},
   "outputs": [
    {
     "name": "stdout",
     "output_type": "stream",
     "text": [
      "abc\n"
     ]
    }
   ],
   "source": [
    "print(y)"
   ]
  },
  {
   "cell_type": "code",
   "execution_count": 65,
   "id": "b44eb7fd",
   "metadata": {},
   "outputs": [],
   "source": [
    "n=\"400\""
   ]
  },
  {
   "cell_type": "code",
   "execution_count": 66,
   "id": "3efbddfb",
   "metadata": {},
   "outputs": [
    {
     "name": "stdout",
     "output_type": "stream",
     "text": [
      "300\n"
     ]
    }
   ],
   "source": [
    "print(m)"
   ]
  },
  {
   "cell_type": "code",
   "execution_count": 76,
   "id": "631f606c",
   "metadata": {},
   "outputs": [],
   "source": [
    "isim=\"ahmet\"\n",
    "soyisim=\"marti\"\n",
    "sehir=\"malatya\"\n"
   ]
  },
  {
   "cell_type": "code",
   "execution_count": 77,
   "id": "3242eb68",
   "metadata": {},
   "outputs": [
    {
     "name": "stdout",
     "output_type": "stream",
     "text": [
      "isim : ahmet \n",
      " soyisim : marti \n",
      " sehir : malatya\n"
     ]
    }
   ],
   "source": [
    "print(\"isim :\", isim, \"\\n\", \"soyisim :\" ,soyisim,\"\\n\", \"sehir :\",sehir)"
   ]
  },
  {
   "cell_type": "code",
   "execution_count": 79,
   "id": "3c557b12",
   "metadata": {},
   "outputs": [],
   "source": [
    "x,y,z=\"ahmet\",\"ayse\",\"mahmut\""
   ]
  },
  {
   "cell_type": "code",
   "execution_count": 80,
   "id": "0a022502",
   "metadata": {},
   "outputs": [
    {
     "name": "stdout",
     "output_type": "stream",
     "text": [
      "ahmet\n"
     ]
    }
   ],
   "source": [
    "print(x)"
   ]
  },
  {
   "cell_type": "code",
   "execution_count": 81,
   "id": "c698ef28",
   "metadata": {},
   "outputs": [
    {
     "data": {
      "text/plain": [
       "'ayse'"
      ]
     },
     "execution_count": 81,
     "metadata": {},
     "output_type": "execute_result"
    }
   ],
   "source": [
    "y"
   ]
  },
  {
   "cell_type": "code",
   "execution_count": 84,
   "id": "85512b17",
   "metadata": {},
   "outputs": [
    {
     "name": "stdout",
     "output_type": "stream",
     "text": [
      "bigger\n",
      "Finish\n"
     ]
    }
   ],
   "source": [
    "x=50\n",
    "if x<20:\n",
    "    print(\"smaller\")\n",
    "if x>40:\n",
    "    print(\"bigger\")\n",
    "print(\"Finish\")"
   ]
  },
  {
   "cell_type": "code",
   "execution_count": 96,
   "id": "41be8faa",
   "metadata": {},
   "outputs": [],
   "source": [
    "r=12"
   ]
  },
  {
   "cell_type": "code",
   "execution_count": 100,
   "id": "365de8cf",
   "metadata": {},
   "outputs": [
    {
     "name": "stdout",
     "output_type": "stream",
     "text": [
      "murekkep bitti\n"
     ]
    }
   ],
   "source": [
    "while r>10:\n",
    "    print(r)\n",
    "    r=r-1\n",
    "print (\"murekkep bitti\")"
   ]
  },
  {
   "cell_type": "code",
   "execution_count": 118,
   "id": "4b248208",
   "metadata": {},
   "outputs": [
    {
     "name": "stdout",
     "output_type": "stream",
     "text": [
      "yasinis kac?28\n",
      "annenizin yasi kac?50\n",
      "anne ve cocugun toplam yasi 78\n"
     ]
    }
   ],
   "source": [
    "name=int(input(\"yasinis kac?\"))\n",
    "name1=int(input(\"annenizin yasi kac?\"))\n",
    "print(\"anne ve cocugun toplam yasi\", name+name1)\n"
   ]
  },
  {
   "cell_type": "code",
   "execution_count": null,
   "id": "4f935867",
   "metadata": {},
   "outputs": [],
   "source": []
  },
  {
   "cell_type": "code",
   "execution_count": null,
   "id": "e176a29e",
   "metadata": {},
   "outputs": [],
   "source": []
  }
 ],
 "metadata": {
  "kernelspec": {
   "display_name": "Python 3 (ipykernel)",
   "language": "python",
   "name": "python3"
  },
  "language_info": {
   "codemirror_mode": {
    "name": "ipython",
    "version": 3
   },
   "file_extension": ".py",
   "mimetype": "text/x-python",
   "name": "python",
   "nbconvert_exporter": "python",
   "pygments_lexer": "ipython3",
   "version": "3.9.7"
  }
 },
 "nbformat": 4,
 "nbformat_minor": 5
}
