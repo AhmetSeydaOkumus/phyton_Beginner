{
 "cells": [
  {
   "cell_type": "code",
   "execution_count": 1,
   "id": "ee8488a2",
   "metadata": {},
   "outputs": [
    {
     "name": "stdout",
     "output_type": "stream",
     "text": [
      "6\n"
     ]
    }
   ],
   "source": [
    "list=[0,1,2,3]\n",
    "top=0\n",
    "for i in range(len(list)):\n",
    "    top+=list[i]\n",
    "print(top)"
   ]
  },
  {
   "cell_type": "code",
   "execution_count": 49,
   "id": "e9ed5175",
   "metadata": {},
   "outputs": [
    {
     "name": "stdout",
     "output_type": "stream",
     "text": [
      "ismin neahmet\n",
      "None isimleri hakkinda islemler yapildi.\n"
     ]
    }
   ],
   "source": [
    "def listem():\n",
    "    isim=input(\"ismin ne\")   \n",
    "print(\"{} isimleri hakkinda islemler yapildi.\".format(listem()))\n"
   ]
  },
  {
   "cell_type": "code",
   "execution_count": 97,
   "id": "b9b38aa0",
   "metadata": {},
   "outputs": [
    {
     "name": "stdout",
     "output_type": "stream",
     "text": [
      "ismin ne ahmet\n",
      "ahmet isimleri hakkinda islemler yapildi.\n"
     ]
    }
   ],
   "source": [
    "def listem():\n",
    "    isim=input(\"ismin ne \") #return yukaridaki ornekten farkli olarak bu ise yarar. sonucu disari cikarir.\n",
    "    return isim\n",
    "print(\"{} isimleri hakkinda islemler yapildi.\".format(listem()))\n"
   ]
  },
  {
   "cell_type": "code",
   "execution_count": 99,
   "id": "06515d8a",
   "metadata": {},
   "outputs": [
    {
     "name": "stdout",
     "output_type": "stream",
     "text": [
      "ismin ne ahmet\n",
      "ahmet isimleri hakkinda islemler yapildi.\n"
     ]
    }
   ],
   "source": [
    "print(\"{} isimleri hakkinda islemler yapildi.\".format(listem()))"
   ]
  },
  {
   "cell_type": "code",
   "execution_count": 194,
   "id": "08fbb032",
   "metadata": {},
   "outputs": [
    {
     "data": {
      "text/plain": [
       "{}"
      ]
     },
     "execution_count": 194,
     "metadata": {},
     "output_type": "execute_result"
    }
   ],
   "source": [
    "isimler"
   ]
  },
  {
   "cell_type": "code",
   "execution_count": null,
   "id": "3e94eed6",
   "metadata": {},
   "outputs": [],
   "source": []
  }
 ],
 "metadata": {
  "kernelspec": {
   "display_name": "Python 3 (ipykernel)",
   "language": "python",
   "name": "python3"
  },
  "language_info": {
   "codemirror_mode": {
    "name": "ipython",
    "version": 3
   },
   "file_extension": ".py",
   "mimetype": "text/x-python",
   "name": "python",
   "nbconvert_exporter": "python",
   "pygments_lexer": "ipython3",
   "version": "3.9.7"
  }
 },
 "nbformat": 4,
 "nbformat_minor": 5
}
