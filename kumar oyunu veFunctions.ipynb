{
 "cells": [
  {
   "cell_type": "code",
   "execution_count": 4,
   "id": "b6c660de",
   "metadata": {},
   "outputs": [
    {
     "name": "stdout",
     "output_type": "stream",
     "text": [
      "0\n",
      "1\n",
      "2\n",
      "3\n",
      "4\n",
      "5\n",
      "---\n"
     ]
    }
   ],
   "source": [
    "x=0\n",
    "while x<10:\n",
    "    print(x)\n",
    "    x+=1\n",
    "    if x==6:\n",
    "        break\n",
    "print(\"---\")"
   ]
  },
  {
   "cell_type": "code",
   "execution_count": 36,
   "id": "3acb1f13",
   "metadata": {},
   "outputs": [
    {
     "name": "stdout",
     "output_type": "stream",
     "text": [
      "rakamlari giriniz234123412\n",
      "22\n",
      "2.4444444444444446\n"
     ]
    }
   ],
   "source": [
    "a=input(\"rakamlari giriniz\")\n",
    "y=[]\n",
    "for i in a:\n",
    "    y.append(int(i))\n",
    "toplam=sum(y)\n",
    "print(toplam)\n",
    "ortalama=toplam/len(y)\n",
    "print(ortalama)"
   ]
  },
  {
   "cell_type": "code",
   "execution_count": 44,
   "id": "4efbed34",
   "metadata": {},
   "outputs": [
    {
     "name": "stdout",
     "output_type": "stream",
     "text": [
      "aklindan bir sayi tut1\n",
      "bilemediniz biraz daha buyuk soyleyin\n",
      "aklindan bir sayi tut5\n",
      "bilemediniz biraz daha buyuk soyleyin\n",
      "aklindan bir sayi tut7\n",
      "bilemediniz biraz kucuk soyleyin\n",
      "hakkinizi kaybettiniz\n"
     ]
    }
   ],
   "source": [
    "import random\n",
    "sayi=random.randint(1,10)\n",
    "\n",
    "\n",
    "hak=3\n",
    "while hak!=0:\n",
    "    a=int(input(\"aklindan bir sayi tut\"))\n",
    "    hak-=1\n",
    "    if a>sayi:\n",
    "        print(\"bilemediniz biraz kucuk soyleyin\")\n",
    "    elif a<sayi:\n",
    "        print(\"bilemediniz biraz daha buyuk soyleyin\")\n",
    "    else:\n",
    "        print(\"bildiniz\")\n",
    "else:\n",
    "    print(\"hakkinizi kaybettiniz\")\n",
    "\n"
   ]
  },
  {
   "cell_type": "code",
   "execution_count": 45,
   "id": "ccc6885a",
   "metadata": {},
   "outputs": [],
   "source": [
    "def selamver():\n",
    "    print(\"hello\")"
   ]
  },
  {
   "cell_type": "code",
   "execution_count": 46,
   "id": "3b4b8ff0",
   "metadata": {},
   "outputs": [
    {
     "name": "stdout",
     "output_type": "stream",
     "text": [
      "hello\n"
     ]
    }
   ],
   "source": [
    "selamver()\n"
   ]
  },
  {
   "cell_type": "code",
   "execution_count": 47,
   "id": "32c7cd5f",
   "metadata": {},
   "outputs": [],
   "source": [
    "def selamver(name):\n",
    "    print(\"hello\"+name)"
   ]
  },
  {
   "cell_type": "code",
   "execution_count": 49,
   "id": "87b1504a",
   "metadata": {},
   "outputs": [
    {
     "name": "stdout",
     "output_type": "stream",
     "text": [
      "helloahmet\n"
     ]
    }
   ],
   "source": [
    "selamver(\"ahmet\")"
   ]
  },
  {
   "cell_type": "code",
   "execution_count": 51,
   "id": "2795031a",
   "metadata": {},
   "outputs": [],
   "source": [
    "def ikiilecarp(sayi):\n",
    "    print(sayi*2)"
   ]
  },
  {
   "cell_type": "code",
   "execution_count": 54,
   "id": "dd651de2",
   "metadata": {},
   "outputs": [
    {
     "name": "stdout",
     "output_type": "stream",
     "text": [
      "4\n"
     ]
    }
   ],
   "source": [
    "ikiilecarp(2)"
   ]
  },
  {
   "cell_type": "code",
   "execution_count": 55,
   "id": "3234c5bf",
   "metadata": {},
   "outputs": [
    {
     "name": "stdout",
     "output_type": "stream",
     "text": [
      "ahmetahmet\n"
     ]
    }
   ],
   "source": [
    "ikiilecarp(\"ahmet\")"
   ]
  },
  {
   "cell_type": "code",
   "execution_count": 56,
   "id": "7b68c070",
   "metadata": {},
   "outputs": [],
   "source": [
    "def buyukharf(isim):\n",
    "    print(isim.upper())"
   ]
  },
  {
   "cell_type": "code",
   "execution_count": 58,
   "id": "b154c5b9",
   "metadata": {},
   "outputs": [
    {
     "name": "stdout",
     "output_type": "stream",
     "text": [
      "AHMET\n"
     ]
    }
   ],
   "source": [
    "buyukharf(\"ahmet\")"
   ]
  },
  {
   "cell_type": "code",
   "execution_count": 113,
   "id": "e56d6192",
   "metadata": {},
   "outputs": [],
   "source": [
    "def ikiparametre(isim,soyad):\n",
    "    print(\"merhaba {}{}\".format(isim,soyad))"
   ]
  },
  {
   "cell_type": "code",
   "execution_count": 114,
   "id": "2abd02c2",
   "metadata": {},
   "outputs": [
    {
     "name": "stdout",
     "output_type": "stream",
     "text": [
      "merhaba ahmetokumus\n"
     ]
    }
   ],
   "source": [
    "ikiparametre(\"ahmet\",\"okumus\")"
   ]
  },
  {
   "cell_type": "code",
   "execution_count": 115,
   "id": "60428775",
   "metadata": {},
   "outputs": [],
   "source": [
    "def topla(*sayilar):\n",
    "    for sayi in sayilar:\n",
    "        print(sum(sayilar))\n",
    "        if True:\n",
    "            break\n",
    "    "
   ]
  },
  {
   "cell_type": "code",
   "execution_count": 112,
   "id": "8509087f",
   "metadata": {},
   "outputs": [
    {
     "name": "stdout",
     "output_type": "stream",
     "text": [
      "29\n"
     ]
    }
   ],
   "source": [
    "topla(20,2,3,4)"
   ]
  },
  {
   "cell_type": "code",
   "execution_count": 131,
   "id": "fc1f74ff",
   "metadata": {},
   "outputs": [],
   "source": [
    "def sureklistring(*kelimeler):\n",
    "    for kelime in kelimeler:\n",
    "        kelimelerlist=list(kelimeler)\n",
    "        kelimelersplit=kelimelerlist[0].split()\n",
    "        print(kelimelersplit)\n",
    "        if True:\n",
    "            break"
   ]
  },
  {
   "cell_type": "code",
   "execution_count": 132,
   "id": "821de378",
   "metadata": {},
   "outputs": [
    {
     "name": "stdout",
     "output_type": "stream",
     "text": [
      "isimleri arasina bosluk birakarak girinizahmet mehmet\n",
      "['ahmet', 'mehmet']\n"
     ]
    }
   ],
   "source": [
    "sureklistring(input(\"isimleri arasina bosluk birakarak giriniz\"))"
   ]
  },
  {
   "cell_type": "code",
   "execution_count": 182,
   "id": "391e1451",
   "metadata": {},
   "outputs": [],
   "source": [
    "def listem(isim,ortaad,soyad):\n",
    "    a=[isim+\" \"+ortaad+\" \"+soyad]\n",
    "    print(a)\n",
    "    b=a[0].split(\" \")\n",
    "    print(b)\n",
    "    print(\"merhaba\"+b[0]+b[1]+b[2]+\"nasilsin\")"
   ]
  },
  {
   "cell_type": "code",
   "execution_count": 183,
   "id": "e32759cd",
   "metadata": {},
   "outputs": [
    {
     "name": "stdout",
     "output_type": "stream",
     "text": [
      "['ahmet seyda okumus']\n",
      "['ahmet', 'seyda', 'okumus']\n",
      "merhabaahmetseydaokumusnasilsin\n"
     ]
    }
   ],
   "source": [
    "listem(\"ahmet\",\"seyda\",\"okumus\")"
   ]
  },
  {
   "cell_type": "code",
   "execution_count": 201,
   "id": "63c1acd5",
   "metadata": {},
   "outputs": [],
   "source": [
    "def suresiz(*kelime): #tuple formatinda ne kadar yazarsan yaz getirir.\n",
    "        print(kelime)"
   ]
  },
  {
   "cell_type": "code",
   "execution_count": 202,
   "id": "b6d25989",
   "metadata": {},
   "outputs": [
    {
     "name": "stdout",
     "output_type": "stream",
     "text": [
      "('ahmet seyda', 'mehmet')\n"
     ]
    }
   ],
   "source": [
    "suresiz(\"ahmet seyda\",\"mehmet\")"
   ]
  },
  {
   "cell_type": "code",
   "execution_count": 205,
   "id": "230401aa",
   "metadata": {},
   "outputs": [],
   "source": [
    "def suresiz2(*kelime):\n",
    "    for i in kelime:\n",
    "        a=type(i)\n",
    "        print(a)\n",
    "        print(i)"
   ]
  },
  {
   "cell_type": "code",
   "execution_count": 206,
   "id": "bd247cb6",
   "metadata": {},
   "outputs": [
    {
     "name": "stdout",
     "output_type": "stream",
     "text": [
      "<class 'str'>\n",
      "ahmet\n",
      "<class 'str'>\n",
      "mehmet\n"
     ]
    }
   ],
   "source": [
    "suresiz2(\"ahmet\",\"mehmet\")"
   ]
  },
  {
   "cell_type": "code",
   "execution_count": 286,
   "id": "6b270104",
   "metadata": {},
   "outputs": [
    {
     "name": "stdout",
     "output_type": "stream",
     "text": [
      "<class 'int'>\n",
      "2\n",
      "<class 'int'>\n",
      "2\n"
     ]
    }
   ],
   "source": [
    "suresiz2(2,2)"
   ]
  },
  {
   "cell_type": "code",
   "execution_count": 211,
   "id": "dda0df8c",
   "metadata": {},
   "outputs": [],
   "source": [
    "def selam2(selammetni,isim=\"isimsiz\"): #default deger atama bu sekilde\n",
    "    print(selammetni+isim)"
   ]
  },
  {
   "cell_type": "code",
   "execution_count": 212,
   "id": "a69aa565",
   "metadata": {},
   "outputs": [
    {
     "name": "stdout",
     "output_type": "stream",
     "text": [
      "merhabaisimsiz\n"
     ]
    }
   ],
   "source": [
    "selam2(\"merhaba\",)"
   ]
  },
  {
   "cell_type": "code",
   "execution_count": 221,
   "id": "f778bc1b",
   "metadata": {},
   "outputs": [],
   "source": [
    "def hello(name,surname):\n",
    "    print(\"merhaba{}{}\".format(name,surname))"
   ]
  },
  {
   "cell_type": "code",
   "execution_count": 222,
   "id": "d1d8894c",
   "metadata": {},
   "outputs": [
    {
     "name": "stdout",
     "output_type": "stream",
     "text": [
      "merhabaahmetokumus\n"
     ]
    }
   ],
   "source": [
    "hello(surname=\"okumus\",name=\"ahmet\") #sozluk girilebilir cunku fonksiyon buna gore dizayn edilmis"
   ]
  },
  {
   "cell_type": "code",
   "execution_count": 233,
   "id": "9ee4dc07",
   "metadata": {},
   "outputs": [],
   "source": [
    "def sozluk(**degerler):             #key ve value barindiranlar icin ikisini ayri ayri yazmasi adina iki asteriks kullaniyorum.\n",
    "    print(degerler[\"trabzon\"])"
   ]
  },
  {
   "cell_type": "code",
   "execution_count": 234,
   "id": "9cc18f4c",
   "metadata": {},
   "outputs": [
    {
     "name": "stdout",
     "output_type": "stream",
     "text": [
      "ahmet\n"
     ]
    }
   ],
   "source": [
    "sozluk(trabzon=\"ahmet\",rize=\"ayse\")"
   ]
  },
  {
   "cell_type": "code",
   "execution_count": 235,
   "id": "3aa3d800",
   "metadata": {},
   "outputs": [],
   "source": [
    "def sozluk2(**degerler):\n",
    "    print(degerler)"
   ]
  },
  {
   "cell_type": "code",
   "execution_count": 237,
   "id": "2732580c",
   "metadata": {},
   "outputs": [
    {
     "name": "stdout",
     "output_type": "stream",
     "text": [
      "{'a': 'ahme', 'b': 'mehme'}\n"
     ]
    }
   ],
   "source": [
    "sozluk2(a=\"ahme\",b=\"mehme\")"
   ]
  },
  {
   "cell_type": "code",
   "execution_count": 273,
   "id": "291755a4",
   "metadata": {},
   "outputs": [],
   "source": [
    "def newlist(parametre, listem=[]): #normalde bu iki deger gir ikinci degere default deger atadim demek. Ama burada bos liste olusturularak return ile icine ekelemeler yepilyor .\n",
    "    listem.append(parametre)\n",
    "    return (listem)"
   ]
  },
  {
   "cell_type": "code",
   "execution_count": 274,
   "id": "1449d099",
   "metadata": {},
   "outputs": [
    {
     "data": {
      "text/plain": [
       "['ahmet']"
      ]
     },
     "execution_count": 274,
     "metadata": {},
     "output_type": "execute_result"
    }
   ],
   "source": [
    "newlist(\"ahmet\")"
   ]
  },
  {
   "cell_type": "code",
   "execution_count": 275,
   "id": "1efd4b8c",
   "metadata": {},
   "outputs": [
    {
     "data": {
      "text/plain": [
       "['ahmet', 'mehmet']"
      ]
     },
     "execution_count": 275,
     "metadata": {},
     "output_type": "execute_result"
    }
   ],
   "source": [
    "newlist(\"mehmet\")"
   ]
  },
  {
   "cell_type": "code",
   "execution_count": 282,
   "id": "16133761",
   "metadata": {},
   "outputs": [],
   "source": [
    "def newlist2(*parametre, listem=[]):  #coklu eleman ekleme\n",
    "    for i in parametre:\n",
    "        listem.append(i)\n",
    "    return (listem)"
   ]
  },
  {
   "cell_type": "code",
   "execution_count": 283,
   "id": "753c59a4",
   "metadata": {},
   "outputs": [
    {
     "data": {
      "text/plain": [
       "['ahmet', 'mehmet']"
      ]
     },
     "execution_count": 283,
     "metadata": {},
     "output_type": "execute_result"
    }
   ],
   "source": [
    "newlist2(\"ahmet\",\"mehmet\")"
   ]
  },
  {
   "cell_type": "code",
   "execution_count": 284,
   "id": "0bf7ee09",
   "metadata": {},
   "outputs": [],
   "source": [
    "selamla=lambda name : print(\"merhaba \"+ name)"
   ]
  },
  {
   "cell_type": "code",
   "execution_count": 285,
   "id": "fcc20395",
   "metadata": {},
   "outputs": [
    {
     "name": "stdout",
     "output_type": "stream",
     "text": [
      "merhaba ahmet\n"
     ]
    }
   ],
   "source": [
    "selamla(\"ahmet\")"
   ]
  },
  {
   "cell_type": "code",
   "execution_count": 289,
   "id": "85d5c451",
   "metadata": {},
   "outputs": [
    {
     "name": "stdout",
     "output_type": "stream",
     "text": [
      "0\n"
     ]
    }
   ],
   "source": [
    "lis=[]\n",
    "print(len(lis))"
   ]
  },
  {
   "cell_type": "code",
   "execution_count": null,
   "id": "de7bda9c",
   "metadata": {},
   "outputs": [],
   "source": []
  },
  {
   "cell_type": "code",
   "execution_count": null,
   "id": "d54222f7",
   "metadata": {},
   "outputs": [],
   "source": []
  },
  {
   "cell_type": "code",
   "execution_count": null,
   "id": "af8d4fe0",
   "metadata": {},
   "outputs": [],
   "source": []
  },
  {
   "cell_type": "code",
   "execution_count": null,
   "id": "049d1e12",
   "metadata": {},
   "outputs": [],
   "source": []
  }
 ],
 "metadata": {
  "kernelspec": {
   "display_name": "Python 3 (ipykernel)",
   "language": "python",
   "name": "python3"
  },
  "language_info": {
   "codemirror_mode": {
    "name": "ipython",
    "version": 3
   },
   "file_extension": ".py",
   "mimetype": "text/x-python",
   "name": "python",
   "nbconvert_exporter": "python",
   "pygments_lexer": "ipython3",
   "version": "3.9.7"
  }
 },
 "nbformat": 4,
 "nbformat_minor": 5
}
