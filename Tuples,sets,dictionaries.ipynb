{
 "cells": [
  {
   "cell_type": "code",
   "execution_count": 4,
   "id": "f826bbae",
   "metadata": {},
   "outputs": [],
   "source": [
    "myList=[\"ahmet\",\"seyda\"]\n",
    "myList1=[\"istanbul\",\"izmir\"]\n",
    "myList2=myList1.copy()"
   ]
  },
  {
   "cell_type": "code",
   "execution_count": 5,
   "id": "6784e18e",
   "metadata": {},
   "outputs": [
    {
     "data": {
      "text/plain": [
       "['istanbul', 'izmir']"
      ]
     },
     "execution_count": 5,
     "metadata": {},
     "output_type": "execute_result"
    }
   ],
   "source": [
    "myList2"
   ]
  },
  {
   "cell_type": "code",
   "execution_count": 10,
   "id": "cad98ec0",
   "metadata": {},
   "outputs": [],
   "source": [
    "nums= 1,2,3,4,\"ahmet\" # tuple olarak atama yapabilirim"
   ]
  },
  {
   "cell_type": "code",
   "execution_count": 16,
   "id": "c9fb5133",
   "metadata": {},
   "outputs": [],
   "source": [
    "tuple=\"ahmet\", #string degil tuple olmasi icin virgulu koymam gerek. "
   ]
  },
  {
   "cell_type": "code",
   "execution_count": 17,
   "id": "e529760c",
   "metadata": {},
   "outputs": [
    {
     "data": {
      "text/plain": [
       "tuple"
      ]
     },
     "execution_count": 17,
     "metadata": {},
     "output_type": "execute_result"
    }
   ],
   "source": [
    "type(tuple)"
   ]
  },
  {
   "cell_type": "code",
   "execution_count": 18,
   "id": "b80a5d7b",
   "metadata": {},
   "outputs": [],
   "source": [
    "a,b,c,d,e=nums"
   ]
  },
  {
   "cell_type": "code",
   "execution_count": 19,
   "id": "9618fa9c",
   "metadata": {},
   "outputs": [
    {
     "data": {
      "text/plain": [
       "1"
      ]
     },
     "execution_count": 19,
     "metadata": {},
     "output_type": "execute_result"
    }
   ],
   "source": [
    "a"
   ]
  },
  {
   "cell_type": "code",
   "execution_count": 27,
   "id": "a1c15cea",
   "metadata": {},
   "outputs": [
    {
     "data": {
      "text/plain": [
       "'ahmet'"
      ]
     },
     "execution_count": 27,
     "metadata": {},
     "output_type": "execute_result"
    }
   ],
   "source": [
    "e"
   ]
  },
  {
   "cell_type": "code",
   "execution_count": 71,
   "id": "d2be7fe3",
   "metadata": {},
   "outputs": [],
   "source": [
    "dictionary={\"a\":\"ahmet\",\"b\":3}"
   ]
  },
  {
   "cell_type": "code",
   "execution_count": 75,
   "id": "177db346",
   "metadata": {},
   "outputs": [
    {
     "data": {
      "text/plain": [
       "['a', 'b']"
      ]
     },
     "execution_count": 75,
     "metadata": {},
     "output_type": "execute_result"
    }
   ],
   "source": [
    "list({\"a\":\"ahmet\",\"b\":3}) #dictionarylerin sadece key degerlerini listeler"
   ]
  },
  {
   "cell_type": "code",
   "execution_count": 77,
   "id": "d44b5dce",
   "metadata": {},
   "outputs": [],
   "source": [
    "mySet={\"ahmet\",\"mehmet\"} #unindex ve change edilebilir ama frozen ile immutable yapilabilir. ayni veri tekrar yazilamaz"
   ]
  },
  {
   "cell_type": "code",
   "execution_count": 80,
   "id": "d824665b",
   "metadata": {},
   "outputs": [],
   "source": [
    "mySet.add(\"orange\") #rastgele bir yere ekler"
   ]
  },
  {
   "cell_type": "code",
   "execution_count": 81,
   "id": "2b08351d",
   "metadata": {},
   "outputs": [
    {
     "data": {
      "text/plain": [
       "{'ahmet', 'mehmet', 'orange'}"
      ]
     },
     "execution_count": 81,
     "metadata": {},
     "output_type": "execute_result"
    }
   ],
   "source": [
    "mySet"
   ]
  },
  {
   "cell_type": "code",
   "execution_count": 83,
   "id": "93800e47",
   "metadata": {},
   "outputs": [
    {
     "data": {
      "text/plain": [
       "['orange', 'ahmet', 'mehmet']"
      ]
     },
     "execution_count": 83,
     "metadata": {},
     "output_type": "execute_result"
    }
   ],
   "source": [
    "list(mySet)"
   ]
  },
  {
   "cell_type": "code",
   "execution_count": 91,
   "id": "21b3adbf",
   "metadata": {},
   "outputs": [],
   "source": [
    "mySet={\"ahmet\",\"mehmet\"}\n",
    "mySet1={\"izmir\",\"istanbul\"}\n",
    "mySet.update(mySet1)"
   ]
  },
  {
   "cell_type": "code",
   "execution_count": 92,
   "id": "d533c802",
   "metadata": {},
   "outputs": [
    {
     "data": {
      "text/plain": [
       "{'ahmet', 'istanbul', 'izmir', 'mehmet'}"
      ]
     },
     "execution_count": 92,
     "metadata": {},
     "output_type": "execute_result"
    }
   ],
   "source": [
    "mySet"
   ]
  },
  {
   "cell_type": "code",
   "execution_count": 93,
   "id": "f7cd8177",
   "metadata": {},
   "outputs": [
    {
     "data": {
      "text/plain": [
       "{'ahmet', 'izmir', 'mehmet'}"
      ]
     },
     "execution_count": 93,
     "metadata": {},
     "output_type": "execute_result"
    }
   ],
   "source": [
    "mySet.remove(\"istanbul\") #remove var olmayan bir seyi silmeye calisirsa hata verir\n",
    "mySet.discard(\"istanbul\") #discard var olmayan bir seyi silmeye calisirsa hata vermez\n",
    "mySet"
   ]
  },
  {
   "cell_type": "code",
   "execution_count": 94,
   "id": "f0a88972",
   "metadata": {},
   "outputs": [
    {
     "data": {
      "text/plain": [
       "'izmir'"
      ]
     },
     "execution_count": 94,
     "metadata": {},
     "output_type": "execute_result"
    }
   ],
   "source": [
    "mySet.pop() #rastgele bir sey cikar demek"
   ]
  },
  {
   "cell_type": "code",
   "execution_count": 95,
   "id": "5b8871b7",
   "metadata": {},
   "outputs": [
    {
     "data": {
      "text/plain": [
       "{'istanbul', 'izmir'}"
      ]
     },
     "execution_count": 95,
     "metadata": {},
     "output_type": "execute_result"
    }
   ],
   "source": [
    "mySet1"
   ]
  },
  {
   "cell_type": "code",
   "execution_count": 96,
   "id": "aaf222a5",
   "metadata": {},
   "outputs": [
    {
     "data": {
      "text/plain": [
       "{'ahmet', 'mehmet'}"
      ]
     },
     "execution_count": 96,
     "metadata": {},
     "output_type": "execute_result"
    }
   ],
   "source": [
    "mySet"
   ]
  },
  {
   "cell_type": "code",
   "execution_count": 97,
   "id": "87f3e033",
   "metadata": {},
   "outputs": [
    {
     "data": {
      "text/plain": [
       "{'ahmet', 'istanbul', 'izmir', 'mehmet'}"
      ]
     },
     "execution_count": 97,
     "metadata": {},
     "output_type": "execute_result"
    }
   ],
   "source": [
    "mySet.union(mySet1) #sonuna ekler. update den farkli olarak karisik degil sonuna ekler"
   ]
  },
  {
   "cell_type": "code",
   "execution_count": 98,
   "id": "316b3f03",
   "metadata": {},
   "outputs": [],
   "source": [
    "mySet.intersection_update(mySet1) #kesisimini almaya yarar tabi burada iki setde kesisen eleman olmadigindan bos bir sonuc cikti ve sonucu ilk setime atadi."
   ]
  },
  {
   "cell_type": "code",
   "execution_count": 99,
   "id": "6719d7b1",
   "metadata": {},
   "outputs": [
    {
     "data": {
      "text/plain": [
       "set()"
      ]
     },
     "execution_count": 99,
     "metadata": {},
     "output_type": "execute_result"
    }
   ],
   "source": [
    "mySet"
   ]
  },
  {
   "cell_type": "code",
   "execution_count": 120,
   "id": "f7e3b220",
   "metadata": {},
   "outputs": [],
   "source": [
    "mySetNew0={\"ahmet\",\"mehmet\",\"ceyhan\",\"seyhan\"}\n",
    "mySetNew1={\"ahmet\",\"seyda\",\"hayrola\"}\n",
    "mySetNew2={\"ahmet\",\"mehmet\",\"hayrola\",\"baybay\"}\n",
    "mySetNew3={\"ceyhan\",\"seyhan\"}\n",
    "sifirilebirkesisim=mySetNew0.intersection(mySetNew1)"
   ]
  },
  {
   "cell_type": "code",
   "execution_count": 121,
   "id": "c0c14c09",
   "metadata": {},
   "outputs": [
    {
     "data": {
      "text/plain": [
       "{'ahmet'}"
      ]
     },
     "execution_count": 121,
     "metadata": {},
     "output_type": "execute_result"
    }
   ],
   "source": [
    "sifirilebirkesisim"
   ]
  },
  {
   "cell_type": "code",
   "execution_count": 122,
   "id": "d03959d0",
   "metadata": {},
   "outputs": [],
   "source": [
    "ucununkesisimi=mySetNew0.intersection(mySetNew1.intersection(mySetNew2))"
   ]
  },
  {
   "cell_type": "code",
   "execution_count": 123,
   "id": "392ff9e6",
   "metadata": {},
   "outputs": [
    {
     "data": {
      "text/plain": [
       "{'ahmet'}"
      ]
     },
     "execution_count": 123,
     "metadata": {},
     "output_type": "execute_result"
    }
   ],
   "source": [
    "ucununkesisimi"
   ]
  },
  {
   "cell_type": "code",
   "execution_count": 124,
   "id": "95bee6c6",
   "metadata": {},
   "outputs": [],
   "source": [
    "sifirileikikesisim=mySetNew0.intersection(mySetNew2)"
   ]
  },
  {
   "cell_type": "code",
   "execution_count": 125,
   "id": "178da0b5",
   "metadata": {},
   "outputs": [
    {
     "data": {
      "text/plain": [
       "{'ahmet', 'mehmet'}"
      ]
     },
     "execution_count": 125,
     "metadata": {},
     "output_type": "execute_result"
    }
   ],
   "source": [
    "sifirileikikesisim"
   ]
  },
  {
   "cell_type": "code",
   "execution_count": 126,
   "id": "e23667f3",
   "metadata": {},
   "outputs": [
    {
     "data": {
      "text/plain": [
       "False"
      ]
     },
     "execution_count": 126,
     "metadata": {},
     "output_type": "execute_result"
    }
   ],
   "source": [
    "mySetNew3.issuperset(mySetNew0)"
   ]
  },
  {
   "cell_type": "code",
   "execution_count": 127,
   "id": "00c25ad6",
   "metadata": {},
   "outputs": [
    {
     "data": {
      "text/plain": [
       "True"
      ]
     },
     "execution_count": 127,
     "metadata": {},
     "output_type": "execute_result"
    }
   ],
   "source": [
    "mySetNew0.issuperset(mySetNew3) #3.kume 0@in alt kumesi mi demek"
   ]
  },
  {
   "cell_type": "code",
   "execution_count": 128,
   "id": "1c872b67",
   "metadata": {},
   "outputs": [
    {
     "data": {
      "text/plain": [
       "True"
      ]
     },
     "execution_count": 128,
     "metadata": {},
     "output_type": "execute_result"
    }
   ],
   "source": [
    "mySetNew3.issubset(mySetNew0) #kapsar mi demek"
   ]
  },
  {
   "cell_type": "code",
   "execution_count": 130,
   "id": "204e94c6",
   "metadata": {},
   "outputs": [],
   "source": [
    "bosset=set() #bos set tanimlamak icin basina set yazmamiz gerekir"
   ]
  },
  {
   "cell_type": "code",
   "execution_count": 131,
   "id": "fd52cac1",
   "metadata": {},
   "outputs": [],
   "source": [
    "a={}"
   ]
  },
  {
   "cell_type": "code",
   "execution_count": 132,
   "id": "8e449334",
   "metadata": {},
   "outputs": [
    {
     "data": {
      "text/plain": [
       "dict"
      ]
     },
     "execution_count": 132,
     "metadata": {},
     "output_type": "execute_result"
    }
   ],
   "source": [
    "type(a)"
   ]
  },
  {
   "cell_type": "code",
   "execution_count": 133,
   "id": "e40f7a4f",
   "metadata": {},
   "outputs": [],
   "source": [
    "#bir set bir dic ile update edilebilir"
   ]
  },
  {
   "cell_type": "code",
   "execution_count": 134,
   "id": "eb720ce1",
   "metadata": {},
   "outputs": [],
   "source": [
    "#  | pipe isaretiyle birlesim alinabilir  & ile kesisim alinabilir"
   ]
  },
  {
   "cell_type": "code",
   "execution_count": 136,
   "id": "05ba398d",
   "metadata": {},
   "outputs": [
    {
     "data": {
      "text/plain": [
       "{'ceyhan', 'mehmet', 'seyhan'}"
      ]
     },
     "execution_count": 136,
     "metadata": {},
     "output_type": "execute_result"
    }
   ],
   "source": [
    "mySetNew0.difference(mySetNew1) #bir kumeden diger kumeyi cikarmanin farkli yontemi"
   ]
  },
  {
   "cell_type": "code",
   "execution_count": 139,
   "id": "2c057ab6",
   "metadata": {},
   "outputs": [
    {
     "data": {
      "text/plain": [
       "{'ceyhan', 'hayrola', 'mehmet', 'seyda', 'seyhan'}"
      ]
     },
     "execution_count": 139,
     "metadata": {},
     "output_type": "execute_result"
    }
   ],
   "source": [
    "mySetNew0.symmetric_difference(mySetNew1) #ortak elemanlar haric diger elemanlari birlestirir"
   ]
  },
  {
   "cell_type": "code",
   "execution_count": 140,
   "id": "90c84b8a",
   "metadata": {},
   "outputs": [],
   "source": [
    "#dictionary lerde koseli parantezlerle degil key degerleri uzerinden erisim yapilir"
   ]
  },
  {
   "cell_type": "code",
   "execution_count": 2,
   "id": "9617ac55",
   "metadata": {},
   "outputs": [],
   "source": [
    "myDict={\"a\":1,\"b\":2,\"c\":3} #  3 sekilde de olusturulabilir\n",
    "myDict1=dict(a=1,b=2,c=3)\n",
    "myDict2=dict([(\"a\",5),(\"w\",10)])"
   ]
  },
  {
   "cell_type": "code",
   "execution_count": 157,
   "id": "0db490e6",
   "metadata": {},
   "outputs": [],
   "source": [
    "a={}"
   ]
  },
  {
   "cell_type": "code",
   "execution_count": 158,
   "id": "5b804e5b",
   "metadata": {},
   "outputs": [],
   "source": [
    "a[\"ahmet\"]=1 #dictionary icin veri bu sekilde girilir"
   ]
  },
  {
   "cell_type": "code",
   "execution_count": 159,
   "id": "dfeff0e4",
   "metadata": {},
   "outputs": [],
   "source": [
    "#dictionarylerde birden fazla ayni key olmaz ama value olabilir."
   ]
  },
  {
   "cell_type": "code",
   "execution_count": 160,
   "id": "4f44cd34",
   "metadata": {},
   "outputs": [
    {
     "data": {
      "text/plain": [
       "dict_keys(['a', 'b', 'c'])"
      ]
     },
     "execution_count": 160,
     "metadata": {},
     "output_type": "execute_result"
    }
   ],
   "source": [
    "myDict.keys()"
   ]
  },
  {
   "cell_type": "code",
   "execution_count": 162,
   "id": "f91b4d98",
   "metadata": {},
   "outputs": [
    {
     "data": {
      "text/plain": [
       "dict_values([1, 2, 3])"
      ]
     },
     "execution_count": 162,
     "metadata": {},
     "output_type": "execute_result"
    }
   ],
   "source": [
    "myDict.values()"
   ]
  },
  {
   "cell_type": "code",
   "execution_count": 163,
   "id": "17d0daa7",
   "metadata": {},
   "outputs": [
    {
     "data": {
      "text/plain": [
       "1"
      ]
     },
     "execution_count": 163,
     "metadata": {},
     "output_type": "execute_result"
    }
   ],
   "source": [
    "myDict.get(\"a\")"
   ]
  },
  {
   "cell_type": "code",
   "execution_count": 164,
   "id": "99399953",
   "metadata": {},
   "outputs": [
    {
     "data": {
      "text/plain": [
       "1"
      ]
     },
     "execution_count": 164,
     "metadata": {},
     "output_type": "execute_result"
    }
   ],
   "source": [
    "myDict.get(\"a\",\"bulunamadi\") #zaten 1 degerine sahip oldugu icin sonucu yine 1 verdi"
   ]
  },
  {
   "cell_type": "code",
   "execution_count": 165,
   "id": "44160463",
   "metadata": {},
   "outputs": [
    {
     "data": {
      "text/plain": [
       "'bulunamadi'"
      ]
     },
     "execution_count": 165,
     "metadata": {},
     "output_type": "execute_result"
    }
   ],
   "source": [
    "myDict.get(\"w\",\"bulunamadi\") #bulunamayanlar icin cikmasini istedigimiz ifadeyi ikinci parametreye yaziyoruz"
   ]
  },
  {
   "cell_type": "code",
   "execution_count": 166,
   "id": "11c86742",
   "metadata": {},
   "outputs": [],
   "source": [
    "nested={1:{\"a\":2,\"b\":3},2:{\"a\":2,\"b\":3}} #icice gecmis sozlukler demek"
   ]
  },
  {
   "cell_type": "code",
   "execution_count": 167,
   "id": "3847a552",
   "metadata": {},
   "outputs": [
    {
     "data": {
      "text/plain": [
       "{1: {'a': 2, 'b': 3}, 2: {'a': 2, 'b': 3}}"
      ]
     },
     "execution_count": 167,
     "metadata": {},
     "output_type": "execute_result"
    }
   ],
   "source": [
    "nested"
   ]
  },
  {
   "cell_type": "code",
   "execution_count": 168,
   "id": "cd716557",
   "metadata": {},
   "outputs": [
    {
     "data": {
      "text/plain": [
       "1"
      ]
     },
     "execution_count": 168,
     "metadata": {},
     "output_type": "execute_result"
    }
   ],
   "source": [
    "myDict.setdefault(\"a\",\"3\") #bu eger a icin bir deger atanmamissa yani bos ise bir deger bu degeri ata demek. "
   ]
  },
  {
   "cell_type": "code",
   "execution_count": 169,
   "id": "79625a74",
   "metadata": {},
   "outputs": [
    {
     "data": {
      "text/plain": [
       "{'a': 1, 'b': 2, 'c': 3}"
      ]
     },
     "execution_count": 169,
     "metadata": {},
     "output_type": "execute_result"
    }
   ],
   "source": [
    "myDict #gordugun gibi a bir degere sahip oldugundan bir degisiklik olmadi"
   ]
  },
  {
   "cell_type": "code",
   "execution_count": 3,
   "id": "daf1647a",
   "metadata": {},
   "outputs": [
    {
     "data": {
      "text/plain": [
       "dict_items([('a', 1), ('b', 2), ('c', 3)])"
      ]
     },
     "execution_count": 3,
     "metadata": {},
     "output_type": "execute_result"
    }
   ],
   "source": [
    "myDict.items() #sozlugu tuple haline getirir."
   ]
  },
  {
   "cell_type": "code",
   "execution_count": null,
   "id": "2aaa432f",
   "metadata": {},
   "outputs": [],
   "source": []
  }
 ],
 "metadata": {
  "kernelspec": {
   "display_name": "Python 3 (ipykernel)",
   "language": "python",
   "name": "python3"
  },
  "language_info": {
   "codemirror_mode": {
    "name": "ipython",
    "version": 3
   },
   "file_extension": ".py",
   "mimetype": "text/x-python",
   "name": "python",
   "nbconvert_exporter": "python",
   "pygments_lexer": "ipython3",
   "version": "3.9.7"
  }
 },
 "nbformat": 4,
 "nbformat_minor": 5
}
