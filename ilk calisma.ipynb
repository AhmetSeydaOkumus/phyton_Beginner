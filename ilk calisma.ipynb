{
 "cells": [
  {
   "cell_type": "code",
   "execution_count": 28,
   "id": "a7c6fc9a",
   "metadata": {},
   "outputs": [],
   "source": [
    "x=800 "
   ]
  },
  {
   "cell_type": "code",
   "execution_count": 29,
   "id": "fdb548c4",
   "metadata": {},
   "outputs": [],
   "source": [
    "y=\"merhaba\""
   ]
  },
  {
   "cell_type": "code",
   "execution_count": 30,
   "id": "1e989b46",
   "metadata": {},
   "outputs": [
    {
     "name": "stdout",
     "output_type": "stream",
     "text": [
      "800yyyymerhaba\n"
     ]
    }
   ],
   "source": [
    "print(x,y, sep=\"yyyy\")"
   ]
  },
  {
   "cell_type": "code",
   "execution_count": 43,
   "id": "0299965a",
   "metadata": {},
   "outputs": [
    {
     "name": "stdout",
     "output_type": "stream",
     "text": [
      "merhabamerhaba\n"
     ]
    }
   ],
   "source": [
    "print(\"merhaba\"+y)"
   ]
  },
  {
   "cell_type": "code",
   "execution_count": 39,
   "id": "a6a95e96",
   "metadata": {},
   "outputs": [
    {
     "name": "stdout",
     "output_type": "stream",
     "text": [
      "isminiz nedir?ahmet\n"
     ]
    }
   ],
   "source": [
    "name=input(\"isminiz nedir?\")"
   ]
  },
  {
   "cell_type": "code",
   "execution_count": 41,
   "id": "22b11135",
   "metadata": {},
   "outputs": [
    {
     "name": "stdout",
     "output_type": "stream",
     "text": [
      "merhabaahmet\n"
     ]
    }
   ],
   "source": [
    "print(\"merhaba\"+name)"
   ]
  },
  {
   "cell_type": "code",
   "execution_count": 46,
   "id": "61166116",
   "metadata": {},
   "outputs": [
    {
     "name": "stdout",
     "output_type": "stream",
     "text": [
      "hello\n"
     ]
    }
   ],
   "source": [
    "if 5>2:\n",
    "    print(\"hello\")"
   ]
  },
  {
   "cell_type": "code",
   "execution_count": 47,
   "id": "4a1cc8b4",
   "metadata": {},
   "outputs": [
    {
     "name": "stdout",
     "output_type": "stream",
     "text": [
      "x\n"
     ]
    }
   ],
   "source": [
    "#dsxxcv\n",
    "\"\"\"sadasdasdasd\n",
    "jhjh\"\"\"\n",
    "print(\"x\")"
   ]
  },
  {
   "cell_type": "code",
   "execution_count": 51,
   "id": "7cd42be6",
   "metadata": {},
   "outputs": [
    {
     "name": "stdout",
     "output_type": "stream",
     "text": [
      "banana\n",
      "y\n",
      "z\n"
     ]
    }
   ],
   "source": [
    "fruit=[\"banana\",\"strawberry\",\"lemon\"]\n",
    "x,y,z=fruit\n",
    "print(x)\n",
    "print(\"y\")\n",
    "print(\"z\")"
   ]
  },
  {
   "cell_type": "code",
   "execution_count": 52,
   "id": "e48ae1c1",
   "metadata": {},
   "outputs": [],
   "source": [
    "n=300"
   ]
  },
  {
   "cell_type": "code",
   "execution_count": 53,
   "id": "10d55446",
   "metadata": {},
   "outputs": [],
   "source": [
    "m=n"
   ]
  },
  {
   "cell_type": "code",
   "execution_count": 54,
   "id": "ee9355f7",
   "metadata": {},
   "outputs": [
    {
     "name": "stdout",
     "output_type": "stream",
     "text": [
      "300\n"
     ]
    }
   ],
   "source": [
    "print(m)"
   ]
  },
  {
   "cell_type": "code",
   "execution_count": 55,
   "id": "409eabb4",
   "metadata": {},
   "outputs": [],
   "source": [
    "x=\"abc\""
   ]
  },
  {
   "cell_type": "code",
   "execution_count": 56,
   "id": "a2f74040",
   "metadata": {},
   "outputs": [],
   "source": [
    "y=x"
   ]
  },
  {
   "cell_type": "code",
   "execution_count": 58,
   "id": "973ef185",
   "metadata": {},
   "outputs": [
    {
     "name": "stdout",
     "output_type": "stream",
     "text": [
      "abc\n"
     ]
    }
   ],
   "source": [
    "print(y)"
   ]
  },
  {
   "cell_type": "code",
   "execution_count": 59,
   "id": "4edd08aa",
   "metadata": {},
   "outputs": [
    {
     "data": {
      "text/plain": [
       "1678060737584"
      ]
     },
     "execution_count": 59,
     "metadata": {},
     "output_type": "execute_result"
    }
   ],
   "source": [
    "id(x)"
   ]
  },
  {
   "cell_type": "code",
   "execution_count": 60,
   "id": "9e941f32",
   "metadata": {},
   "outputs": [
    {
     "data": {
      "text/plain": [
       "1678060737584"
      ]
     },
     "execution_count": 60,
     "metadata": {},
     "output_type": "execute_result"
    }
   ],
   "source": [
    "id(y)"
   ]
  },
  {
   "cell_type": "code",
   "execution_count": 61,
   "id": "9c5426fc",
   "metadata": {},
   "outputs": [
    {
     "data": {
      "text/plain": [
       "1678140889904"
      ]
     },
     "execution_count": 61,
     "metadata": {},
     "output_type": "execute_result"
    }
   ],
   "source": [
    "id(n)"
   ]
  },
  {
   "cell_type": "code",
   "execution_count": 62,
   "id": "1b4db6ad",
   "metadata": {},
   "outputs": [
    {
     "data": {
      "text/plain": [
       "1678140889904"
      ]
     },
     "execution_count": 62,
     "metadata": {},
     "output_type": "execute_result"
    }
   ],
   "source": [
    "id(m)"
   ]
  },
  {
   "cell_type": "code",
   "execution_count": 63,
   "id": "a51eec24",
   "metadata": {},
   "outputs": [],
   "source": [
    "x=\"abz\""
   ]
  },
  {
   "cell_type": "code",
   "execution_count": 64,
   "id": "cf96d8f7",
   "metadata": {},
   "outputs": [
    {
     "name": "stdout",
     "output_type": "stream",
     "text": [
      "abc\n"
     ]
    }
   ],
   "source": [
    "print(y)"
   ]
  },
  {
   "cell_type": "code",
   "execution_count": 65,
   "id": "548838d8",
   "metadata": {},
   "outputs": [],
   "source": [
    "n=\"400\""
   ]
  },
  {
   "cell_type": "code",
   "execution_count": 66,
   "id": "e1c14192",
   "metadata": {},
   "outputs": [
    {
     "name": "stdout",
     "output_type": "stream",
     "text": [
      "300\n"
     ]
    }
   ],
   "source": [
    "print(m)"
   ]
  },
  {
   "cell_type": "code",
   "execution_count": 76,
   "id": "2a6fefed",
   "metadata": {},
   "outputs": [],
   "source": [
    "isim=\"ahmet\"\n",
    "soyisim=\"marti\"\n",
    "sehir=\"malatya\"\n"
   ]
  },
  {
   "cell_type": "code",
   "execution_count": 77,
   "id": "7fbdb448",
   "metadata": {},
   "outputs": [
    {
     "name": "stdout",
     "output_type": "stream",
     "text": [
      "isim : ahmet \n",
      " soyisim : marti \n",
      " sehir : malatya\n"
     ]
    }
   ],
   "source": [
    "print(\"isim :\", isim, \"\\n\", \"soyisim :\" ,soyisim,\"\\n\", \"sehir :\",sehir)"
   ]
  },
  {
   "cell_type": "code",
   "execution_count": 79,
   "id": "576225c0",
   "metadata": {},
   "outputs": [],
   "source": [
    "x,y,z=\"ahmet\",\"ayse\",\"mahmut\""
   ]
  },
  {
   "cell_type": "code",
   "execution_count": 80,
   "id": "75a5074d",
   "metadata": {},
   "outputs": [
    {
     "name": "stdout",
     "output_type": "stream",
     "text": [
      "ahmet\n"
     ]
    }
   ],
   "source": [
    "print(x)"
   ]
  },
  {
   "cell_type": "code",
   "execution_count": 81,
   "id": "2299a881",
   "metadata": {},
   "outputs": [
    {
     "data": {
      "text/plain": [
       "'ayse'"
      ]
     },
     "execution_count": 81,
     "metadata": {},
     "output_type": "execute_result"
    }
   ],
   "source": [
    "y"
   ]
  },
  {
   "cell_type": "code",
   "execution_count": 84,
   "id": "3138e5c4",
   "metadata": {},
   "outputs": [
    {
     "name": "stdout",
     "output_type": "stream",
     "text": [
      "bigger\n",
      "Finish\n"
     ]
    }
   ],
   "source": [
    "x=50\n",
    "if x<20:\n",
    "    print(\"smaller\")\n",
    "if x>40:\n",
    "    print(\"bigger\")\n",
    "print(\"Finish\")"
   ]
  },
  {
   "cell_type": "code",
   "execution_count": 96,
   "id": "b0a18b82",
   "metadata": {},
   "outputs": [],
   "source": [
    "r=12"
   ]
  },
  {
   "cell_type": "code",
   "execution_count": 100,
   "id": "41cbf3de",
   "metadata": {},
   "outputs": [
    {
     "name": "stdout",
     "output_type": "stream",
     "text": [
      "murekkep bitti\n"
     ]
    }
   ],
   "source": [
    "while r>10:\n",
    "    print(r)\n",
    "    r=r-1\n",
    "print (\"murekkep bitti\")"
   ]
  },
  {
   "cell_type": "code",
   "execution_count": 118,
   "id": "cbe9ce5b",
   "metadata": {},
   "outputs": [
    {
     "name": "stdout",
     "output_type": "stream",
     "text": [
      "yasinis kac?28\n",
      "annenizin yasi kac?50\n",
      "anne ve cocugun toplam yasi 78\n"
     ]
    }
   ],
   "source": [
    "name=int(input(\"yasinis kac?\"))\n",
    "name1=int(input(\"annenizin yasi kac?\"))\n",
    "print(\"anne ve cocugun toplam yasi\", name+name1)\n"
   ]
  },
  {
   "cell_type": "code",
   "execution_count": null,
   "id": "b981e4c8",
   "metadata": {},
   "outputs": [],
   "source": [
    "dfsdfsdf"
   ]
  },
  {
   "cell_type": "code",
   "execution_count": null,
   "id": "ddc78273",
   "metadata": {},
   "outputs": [],
   "source": []
  }
 ],
 "metadata": {
  "kernelspec": {
   "display_name": "Python 3 (ipykernel)",
   "language": "python",
   "name": "python3"
  },
  "language_info": {
   "codemirror_mode": {
    "name": "ipython",
    "version": 3
   },
   "file_extension": ".py",
   "mimetype": "text/x-python",
   "name": "python",
   "nbconvert_exporter": "python",
   "pygments_lexer": "ipython3",
   "version": "3.9.7"
  }
 },
 "nbformat": 4,
 "nbformat_minor": 5
}
