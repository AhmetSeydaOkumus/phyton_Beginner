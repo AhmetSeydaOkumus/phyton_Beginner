{
 "cells": [
  {
   "cell_type": "code",
   "execution_count": 2,
   "id": "16c429cd",
   "metadata": {
    "scrolled": true
   },
   "outputs": [
    {
     "name": "stdout",
     "output_type": "stream",
     "text": [
      "merhaba\n",
      "nasilsin\n",
      "iyi misin\n"
     ]
    }
   ],
   "source": [
    "print(\"merhaba\\nnasilsin\\niyi misin\")"
   ]
  },
  {
   "cell_type": "code",
   "execution_count": 8,
   "id": "b20b5871",
   "metadata": {},
   "outputs": [
    {
     "name": "stdout",
     "output_type": "stream",
     "text": [
      "lutfen sorulara cevap veriniz\n",
      "adinizi girinizasd\n",
      "soyadinizi girinizasd\n",
      "bransinizi girinizasd\n",
      "ogrenciniz asd asd, asd alaninda master yapmak istemektedir\n"
     ]
    }
   ],
   "source": [
    "print(\"lutfen sorulara cevap veriniz\")\n",
    "a=input(\"adinizi giriniz\")\n",
    "b=input(\"soyadinizi giriniz\")\n",
    "c=input(\"bransinizi giriniz\")\n",
    "print(\"ogrenciniz\"\" \"+a+\" \"+b+\",\"+\" \"+c+\" \"\"alaninda master yapmak istemektedir\")"
   ]
  },
  {
   "cell_type": "code",
   "execution_count": 9,
   "id": "145deb34",
   "metadata": {},
   "outputs": [
    {
     "data": {
      "text/plain": [
       "'MERHABA'"
      ]
     },
     "execution_count": 9,
     "metadata": {},
     "output_type": "execute_result"
    }
   ],
   "source": [
    "text=\"merhaba\"\n",
    "text.upper()"
   ]
  },
  {
   "cell_type": "code",
   "execution_count": 10,
   "id": "5131ddb6",
   "metadata": {},
   "outputs": [
    {
     "data": {
      "text/plain": [
       "'merhaba'"
      ]
     },
     "execution_count": 10,
     "metadata": {},
     "output_type": "execute_result"
    }
   ],
   "source": [
    "text.lower()"
   ]
  },
  {
   "cell_type": "code",
   "execution_count": 11,
   "id": "2be94580",
   "metadata": {
    "scrolled": true
   },
   "outputs": [
    {
     "data": {
      "text/plain": [
       "'neVER evER gIVE Up'"
      ]
     },
     "execution_count": 11,
     "metadata": {},
     "output_type": "execute_result"
    }
   ],
   "source": [
    "text1=\"Never Ever Give Up\"\n",
    "text1.swapcase()"
   ]
  },
  {
   "cell_type": "code",
   "execution_count": 12,
   "id": "1e8889d2",
   "metadata": {},
   "outputs": [
    {
     "data": {
      "text/plain": [
       "'Merhaba nasilsin'"
      ]
     },
     "execution_count": 12,
     "metadata": {},
     "output_type": "execute_result"
    }
   ],
   "source": [
    "text3=\"merhaba nasilsin\"\n",
    "text3.capitalize()"
   ]
  },
  {
   "cell_type": "code",
   "execution_count": 13,
   "id": "3ef9c5be",
   "metadata": {},
   "outputs": [
    {
     "data": {
      "text/plain": [
       "'Merhaba Nasilsin'"
      ]
     },
     "execution_count": 13,
     "metadata": {},
     "output_type": "execute_result"
    }
   ],
   "source": [
    "text3.title()"
   ]
  },
  {
   "cell_type": "code",
   "execution_count": 38,
   "id": "951b543f",
   "metadata": {},
   "outputs": [],
   "source": [
    "string=\"Stiyyyyyyy waters run to hiyyyyyyy\""
   ]
  },
  {
   "cell_type": "code",
   "execution_count": 39,
   "id": "c01e8224",
   "metadata": {},
   "outputs": [
    {
     "data": {
      "text/plain": [
       "'Still waters run to hill'"
      ]
     },
     "execution_count": 39,
     "metadata": {},
     "output_type": "execute_result"
    }
   ],
   "source": [
    "string.replace(\"yyyyyyy\",\"ll\",string.count(\"yyyyyyy\"))"
   ]
  },
  {
   "cell_type": "code",
   "execution_count": null,
   "id": "04014e64",
   "metadata": {},
   "outputs": [],
   "source": []
  },
  {
   "cell_type": "markdown",
   "id": "8172b1f9",
   "metadata": {},
   "source": []
  },
  {
   "cell_type": "code",
   "execution_count": null,
   "id": "ac36c75b",
   "metadata": {},
   "outputs": [],
   "source": []
  },
  {
   "cell_type": "code",
   "execution_count": 44,
   "id": "e18e0bb9",
   "metadata": {},
   "outputs": [
    {
     "name": "stdout",
     "output_type": "stream",
     "text": [
      "bir ifade girinizsakla samani\n",
      "bosluklar dahil girdiginiz ifadenin uzunlugu :12  karakterdir.\n"
     ]
    }
   ],
   "source": [
    "text=input(\"bir ifade giriniz\")\n",
    "print(\"bosluklar dahil girdiginiz ifadenin uzunlugu :\"+str(len(text))+\"  \"+\"karakterdir.\")"
   ]
  },
  {
   "cell_type": "code",
   "execution_count": null,
   "id": "87c6ff89",
   "metadata": {},
   "outputs": [],
   "source": []
  },
  {
   "cell_type": "code",
   "execution_count": null,
   "id": "193fe755",
   "metadata": {},
   "outputs": [],
   "source": []
  }
 ],
 "metadata": {
  "kernelspec": {
   "display_name": "Python 3 (ipykernel)",
   "language": "python",
   "name": "python3"
  },
  "language_info": {
   "codemirror_mode": {
    "name": "ipython",
    "version": 3
   },
   "file_extension": ".py",
   "mimetype": "text/x-python",
   "name": "python",
   "nbconvert_exporter": "python",
   "pygments_lexer": "ipython3",
   "version": "3.9.7"
  }
 },
 "nbformat": 4,
 "nbformat_minor": 5
}
