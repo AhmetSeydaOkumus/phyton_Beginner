{
 "cells": [
  {
   "cell_type": "code",
   "execution_count": 12,
   "id": "a67769e0",
   "metadata": {},
   "outputs": [],
   "source": [
    "x=10"
   ]
  },
  {
   "cell_type": "code",
   "execution_count": 13,
   "id": "bef01a0f",
   "metadata": {},
   "outputs": [
    {
     "name": "stdout",
     "output_type": "stream",
     "text": [
      "10\n",
      "9\n",
      "8\n",
      "7\n",
      "6\n",
      "yeter\n"
     ]
    }
   ],
   "source": [
    "while x>5:\n",
    "    print(x)\n",
    "    x=x-1\n",
    "print(\"yeter\")"
   ]
  },
  {
   "cell_type": "code",
   "execution_count": 14,
   "id": "b49c71ae",
   "metadata": {},
   "outputs": [
    {
     "data": {
      "text/plain": [
       "15"
      ]
     },
     "execution_count": 14,
     "metadata": {},
     "output_type": "execute_result"
    }
   ],
   "source": [
    "x+x+x"
   ]
  },
  {
   "cell_type": "code",
   "execution_count": 9,
   "id": "174be757",
   "metadata": {},
   "outputs": [
    {
     "name": "stdout",
     "output_type": "stream",
     "text": [
      "yasiniz giriniz28\n"
     ]
    }
   ],
   "source": [
    "name=int(input(\"yasiniz giriniz\"))"
   ]
  },
  {
   "cell_type": "code",
   "execution_count": 10,
   "id": "b6033f56",
   "metadata": {},
   "outputs": [
    {
     "data": {
      "text/plain": [
       "56"
      ]
     },
     "execution_count": 10,
     "metadata": {},
     "output_type": "execute_result"
    }
   ],
   "source": [
    "name+name"
   ]
  },
  {
   "cell_type": "code",
   "execution_count": 15,
   "id": "8221ecd3",
   "metadata": {},
   "outputs": [
    {
     "data": {
      "text/plain": [
       "5"
      ]
     },
     "execution_count": 15,
     "metadata": {},
     "output_type": "execute_result"
    }
   ],
   "source": [
    "x"
   ]
  },
  {
   "cell_type": "code",
   "execution_count": 21,
   "id": "5e547335",
   "metadata": {},
   "outputs": [],
   "source": [
    "w,z=1j,2j"
   ]
  },
  {
   "cell_type": "code",
   "execution_count": 22,
   "id": "7c834de3",
   "metadata": {},
   "outputs": [
    {
     "data": {
      "text/plain": [
       "3j"
      ]
     },
     "execution_count": 22,
     "metadata": {},
     "output_type": "execute_result"
    }
   ],
   "source": [
    "w+z"
   ]
  },
  {
   "cell_type": "code",
   "execution_count": 23,
   "id": "23e88266",
   "metadata": {},
   "outputs": [
    {
     "name": "stdout",
     "output_type": "stream",
     "text": [
      "<class 'set'>\n"
     ]
    }
   ],
   "source": [
    "x={\"name:ahmet\", \"yas:28\"}\n",
    "print(type(x))"
   ]
  },
  {
   "cell_type": "code",
   "execution_count": 24,
   "id": "7de97628",
   "metadata": {},
   "outputs": [],
   "source": [
    "myString1=\"hosgeldiniz\""
   ]
  },
  {
   "cell_type": "code",
   "execution_count": 25,
   "id": "a3f4d14d",
   "metadata": {},
   "outputs": [],
   "source": [
    "myString=\"merhaba\""
   ]
  },
  {
   "cell_type": "code",
   "execution_count": 26,
   "id": "143be231",
   "metadata": {},
   "outputs": [
    {
     "name": "stdout",
     "output_type": "stream",
     "text": [
      "hosgeldiniz      merhaba\n"
     ]
    }
   ],
   "source": [
    "print(myString1+\"      \"+myString)"
   ]
  },
  {
   "cell_type": "code",
   "execution_count": 27,
   "id": "690e4fc0",
   "metadata": {},
   "outputs": [
    {
     "data": {
      "text/plain": [
       "str"
      ]
     },
     "execution_count": 27,
     "metadata": {},
     "output_type": "execute_result"
    }
   ],
   "source": [
    "type(myString)"
   ]
  },
  {
   "cell_type": "code",
   "execution_count": 28,
   "id": "3a874198",
   "metadata": {},
   "outputs": [],
   "source": [
    "u=50"
   ]
  },
  {
   "cell_type": "code",
   "execution_count": 30,
   "id": "5350f803",
   "metadata": {},
   "outputs": [
    {
     "name": "stdout",
     "output_type": "stream",
     "text": [
      "yasiniz kac28\n"
     ]
    }
   ],
   "source": [
    "yas=input(\"yasiniz kac\")"
   ]
  },
  {
   "cell_type": "code",
   "execution_count": 31,
   "id": "7b87f547",
   "metadata": {},
   "outputs": [
    {
     "data": {
      "text/plain": [
       "28"
      ]
     },
     "execution_count": 31,
     "metadata": {},
     "output_type": "execute_result"
    }
   ],
   "source": [
    "int(yas)"
   ]
  },
  {
   "cell_type": "code",
   "execution_count": 33,
   "id": "7341a381",
   "metadata": {},
   "outputs": [
    {
     "data": {
      "text/plain": [
       "int"
      ]
     },
     "execution_count": 33,
     "metadata": {},
     "output_type": "execute_result"
    }
   ],
   "source": [
    "type(u)"
   ]
  },
  {
   "cell_type": "code",
   "execution_count": 34,
   "id": "0b1b5e72",
   "metadata": {},
   "outputs": [
    {
     "data": {
      "text/plain": [
       "str"
      ]
     },
     "execution_count": 34,
     "metadata": {},
     "output_type": "execute_result"
    }
   ],
   "source": [
    "type(yas)"
   ]
  },
  {
   "cell_type": "code",
   "execution_count": 35,
   "id": "0e49153c",
   "metadata": {},
   "outputs": [
    {
     "data": {
      "text/plain": [
       "28"
      ]
     },
     "execution_count": 35,
     "metadata": {},
     "output_type": "execute_result"
    }
   ],
   "source": [
    "int(yas)"
   ]
  },
  {
   "cell_type": "code",
   "execution_count": 37,
   "id": "546c438d",
   "metadata": {},
   "outputs": [
    {
     "data": {
      "text/plain": [
       "str"
      ]
     },
     "execution_count": 37,
     "metadata": {},
     "output_type": "execute_result"
    }
   ],
   "source": [
    "type(yas)"
   ]
  },
  {
   "cell_type": "code",
   "execution_count": 38,
   "id": "01c30031",
   "metadata": {},
   "outputs": [
    {
     "data": {
      "text/plain": [
       "78"
      ]
     },
     "execution_count": 38,
     "metadata": {},
     "output_type": "execute_result"
    }
   ],
   "source": [
    "int(yas)+u"
   ]
  },
  {
   "cell_type": "code",
   "execution_count": 41,
   "id": "3dac68c6",
   "metadata": {},
   "outputs": [],
   "source": [
    "yas=int(yas) #kalici tip degisikligi icin"
   ]
  },
  {
   "cell_type": "code",
   "execution_count": 42,
   "id": "b4494eb4",
   "metadata": {},
   "outputs": [],
   "source": [
    "myList=[\"merhaba\", 5, 6.5, [1, \"selam\"]]"
   ]
  },
  {
   "cell_type": "code",
   "execution_count": 43,
   "id": "4d66afbc",
   "metadata": {},
   "outputs": [],
   "source": [
    "myTuples=(\"hello\", 1, 10.6,[1,2,5])"
   ]
  },
  {
   "cell_type": "code",
   "execution_count": 44,
   "id": "2951127b",
   "metadata": {},
   "outputs": [
    {
     "data": {
      "text/plain": [
       "tuple"
      ]
     },
     "execution_count": 44,
     "metadata": {},
     "output_type": "execute_result"
    }
   ],
   "source": [
    "type(myTuples)"
   ]
  },
  {
   "cell_type": "code",
   "execution_count": 45,
   "id": "26f54da7",
   "metadata": {},
   "outputs": [],
   "source": [
    "o=10.5"
   ]
  },
  {
   "cell_type": "code",
   "execution_count": 46,
   "id": "b9b11421",
   "metadata": {},
   "outputs": [
    {
     "data": {
      "text/plain": [
       "float"
      ]
     },
     "execution_count": 46,
     "metadata": {},
     "output_type": "execute_result"
    }
   ],
   "source": [
    "type(o)"
   ]
  },
  {
   "cell_type": "code",
   "execution_count": 58,
   "id": "8103da8f",
   "metadata": {},
   "outputs": [],
   "source": [
    "myDictonary={\"key\":\"value\", \"y\":4, \"x\":\"hi\"}"
   ]
  },
  {
   "cell_type": "code",
   "execution_count": 59,
   "id": "4a7776bf",
   "metadata": {},
   "outputs": [],
   "source": [
    "mySet={\"apple\",\"banana\",\"strawberry\"}"
   ]
  },
  {
   "cell_type": "code",
   "execution_count": 60,
   "id": "b8759f83",
   "metadata": {},
   "outputs": [
    {
     "data": {
      "text/plain": [
       "set"
      ]
     },
     "execution_count": 60,
     "metadata": {},
     "output_type": "execute_result"
    }
   ],
   "source": [
    "type(mySet)"
   ]
  },
  {
   "cell_type": "code",
   "execution_count": 62,
   "id": "1f07b9a2",
   "metadata": {},
   "outputs": [],
   "source": [
    "myBool=True"
   ]
  },
  {
   "cell_type": "code",
   "execution_count": 63,
   "id": "61e81f39",
   "metadata": {},
   "outputs": [
    {
     "data": {
      "text/plain": [
       "bool"
      ]
     },
     "execution_count": 63,
     "metadata": {},
     "output_type": "execute_result"
    }
   ],
   "source": [
    "type(myBool)"
   ]
  },
  {
   "cell_type": "code",
   "execution_count": null,
   "id": "c5dccac2",
   "metadata": {},
   "outputs": [],
   "source": []
  }
 ],
 "metadata": {
  "kernelspec": {
   "display_name": "Python 3 (ipykernel)",
   "language": "python",
   "name": "python3"
  },
  "language_info": {
   "codemirror_mode": {
    "name": "ipython",
    "version": 3
   },
   "file_extension": ".py",
   "mimetype": "text/x-python",
   "name": "python",
   "nbconvert_exporter": "python",
   "pygments_lexer": "ipython3",
   "version": "3.9.7"
  }
 },
 "nbformat": 4,
 "nbformat_minor": 5
}
