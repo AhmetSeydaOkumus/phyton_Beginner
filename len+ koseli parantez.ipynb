{
 "cells": [
  {
   "cell_type": "code",
   "execution_count": 1,
   "id": "50371287",
   "metadata": {},
   "outputs": [],
   "source": [
    "myString=\"Hello\""
   ]
  },
  {
   "cell_type": "code",
   "execution_count": 3,
   "id": "5534e829",
   "metadata": {},
   "outputs": [],
   "source": [
    "x=100"
   ]
  },
  {
   "cell_type": "code",
   "execution_count": 4,
   "id": "a3f513f6",
   "metadata": {},
   "outputs": [
    {
     "data": {
      "text/plain": [
       "int"
      ]
     },
     "execution_count": 4,
     "metadata": {},
     "output_type": "execute_result"
    }
   ],
   "source": [
    "type(x)"
   ]
  },
  {
   "cell_type": "code",
   "execution_count": 5,
   "id": "196cd77d",
   "metadata": {},
   "outputs": [
    {
     "data": {
      "text/plain": [
       "str"
      ]
     },
     "execution_count": 5,
     "metadata": {},
     "output_type": "execute_result"
    }
   ],
   "source": [
    "type(myString)"
   ]
  },
  {
   "cell_type": "code",
   "execution_count": 9,
   "id": "f81a965b",
   "metadata": {},
   "outputs": [
    {
     "name": "stdout",
     "output_type": "stream",
     "text": [
      "98\n",
      "97\n",
      "bitti\n"
     ]
    }
   ],
   "source": [
    "while x>96:\n",
    "    print(x)\n",
    "    x=x-1\n",
    "print(\"bitti\")"
   ]
  },
  {
   "cell_type": "code",
   "execution_count": 10,
   "id": "565c47ca",
   "metadata": {},
   "outputs": [
    {
     "data": {
      "text/plain": [
       "int"
      ]
     },
     "execution_count": 10,
     "metadata": {},
     "output_type": "execute_result"
    }
   ],
   "source": [
    "type(x)"
   ]
  },
  {
   "cell_type": "code",
   "execution_count": 11,
   "id": "c7abd4ff",
   "metadata": {},
   "outputs": [
    {
     "data": {
      "text/plain": [
       "'96'"
      ]
     },
     "execution_count": 11,
     "metadata": {},
     "output_type": "execute_result"
    }
   ],
   "source": [
    "str(x)"
   ]
  },
  {
   "cell_type": "code",
   "execution_count": 12,
   "id": "13add46a",
   "metadata": {},
   "outputs": [
    {
     "data": {
      "text/plain": [
       "int"
      ]
     },
     "execution_count": 12,
     "metadata": {},
     "output_type": "execute_result"
    }
   ],
   "source": [
    "type(x)"
   ]
  },
  {
   "cell_type": "code",
   "execution_count": 13,
   "id": "b83804f2",
   "metadata": {},
   "outputs": [],
   "source": [
    "x=str(x)"
   ]
  },
  {
   "cell_type": "code",
   "execution_count": 14,
   "id": "d1c5dd59",
   "metadata": {},
   "outputs": [
    {
     "data": {
      "text/plain": [
       "str"
      ]
     },
     "execution_count": 14,
     "metadata": {},
     "output_type": "execute_result"
    }
   ],
   "source": [
    "type(x)"
   ]
  },
  {
   "cell_type": "code",
   "execution_count": 15,
   "id": "4ba52bca",
   "metadata": {},
   "outputs": [
    {
     "name": "stdout",
     "output_type": "stream",
     "text": [
      "2\n"
     ]
    }
   ],
   "source": [
    "print(len(x))"
   ]
  },
  {
   "cell_type": "code",
   "execution_count": 17,
   "id": "7f5f26b0",
   "metadata": {},
   "outputs": [
    {
     "data": {
      "text/plain": [
       "'96'"
      ]
     },
     "execution_count": 17,
     "metadata": {},
     "output_type": "execute_result"
    }
   ],
   "source": [
    "x"
   ]
  },
  {
   "cell_type": "code",
   "execution_count": 18,
   "id": "ad044674",
   "metadata": {},
   "outputs": [
    {
     "data": {
      "text/plain": [
       "'6'"
      ]
     },
     "execution_count": 18,
     "metadata": {},
     "output_type": "execute_result"
    }
   ],
   "source": [
    "x[1]"
   ]
  },
  {
   "cell_type": "code",
   "execution_count": 19,
   "id": "cc5cfaf0",
   "metadata": {},
   "outputs": [],
   "source": [
    "y=\"Merhaba!\""
   ]
  },
  {
   "cell_type": "code",
   "execution_count": 23,
   "id": "8c0e9352",
   "metadata": {},
   "outputs": [
    {
     "data": {
      "text/plain": [
       "'erh'"
      ]
     },
     "execution_count": 23,
     "metadata": {},
     "output_type": "execute_result"
    }
   ],
   "source": [
    "y[1:4] \n",
    "\n",
    "#sifirdan saymaya baslar\n",
    "#birinci nokta dahildir, son nokta dahil degildir.\n",
    "#(aradaki elemanlari almaya yarar)\n",
    "#negatif yone -1 den saymaya baslar \n",
    "#\"-\" bu sondaki degeri getirmeye yarar"
   ]
  },
  {
   "cell_type": "code",
   "execution_count": 24,
   "id": "79810d14",
   "metadata": {},
   "outputs": [
    {
     "data": {
      "text/plain": [
       "'Merhaba!'"
      ]
     },
     "execution_count": 24,
     "metadata": {},
     "output_type": "execute_result"
    }
   ],
   "source": [
    "y[0:]"
   ]
  },
  {
   "cell_type": "code",
   "execution_count": 26,
   "id": "2f07c11d",
   "metadata": {},
   "outputs": [
    {
     "data": {
      "text/plain": [
       "'aba'"
      ]
     },
     "execution_count": 26,
     "metadata": {},
     "output_type": "execute_result"
    }
   ],
   "source": [
    "y[-4:-1]"
   ]
  },
  {
   "cell_type": "code",
   "execution_count": 27,
   "id": "4c0f2bf8",
   "metadata": {},
   "outputs": [],
   "source": [
    "my_String=\"Hello World!\""
   ]
  },
  {
   "cell_type": "code",
   "execution_count": 29,
   "id": "589eb897",
   "metadata": {},
   "outputs": [
    {
     "name": "stdout",
     "output_type": "stream",
     "text": [
      "12\n"
     ]
    }
   ],
   "source": [
    "print(len(my_String))"
   ]
  },
  {
   "cell_type": "code",
   "execution_count": 30,
   "id": "a29a92d1",
   "metadata": {},
   "outputs": [
    {
     "data": {
      "text/plain": [
       "'loWrd'"
      ]
     },
     "execution_count": 30,
     "metadata": {},
     "output_type": "execute_result"
    }
   ],
   "source": [
    "my_String[2:11:2]"
   ]
  },
  {
   "cell_type": "code",
   "execution_count": 31,
   "id": "0adec9be",
   "metadata": {},
   "outputs": [
    {
     "data": {
      "text/plain": [
       "10"
      ]
     },
     "execution_count": 31,
     "metadata": {},
     "output_type": "execute_result"
    }
   ],
   "source": [
    "len(x)+len(y)"
   ]
  },
  {
   "cell_type": "code",
   "execution_count": 32,
   "id": "de7a3269",
   "metadata": {},
   "outputs": [
    {
     "data": {
      "text/plain": [
       "'M'"
      ]
     },
     "execution_count": 32,
     "metadata": {},
     "output_type": "execute_result"
    }
   ],
   "source": [
    "y[0]"
   ]
  },
  {
   "cell_type": "code",
   "execution_count": 33,
   "id": "a4e948a9",
   "metadata": {},
   "outputs": [
    {
     "data": {
      "text/plain": [
       "'H'"
      ]
     },
     "execution_count": 33,
     "metadata": {},
     "output_type": "execute_result"
    }
   ],
   "source": [
    "my_String[-len(my_String)]"
   ]
  },
  {
   "cell_type": "code",
   "execution_count": 34,
   "id": "8dc8417b",
   "metadata": {},
   "outputs": [
    {
     "data": {
      "text/plain": [
       "'!'"
      ]
     },
     "execution_count": 34,
     "metadata": {},
     "output_type": "execute_result"
    }
   ],
   "source": [
    "my_String[len(my_String)-1]"
   ]
  },
  {
   "cell_type": "code",
   "execution_count": 35,
   "id": "28d1e465",
   "metadata": {},
   "outputs": [
    {
     "data": {
      "text/plain": [
       "'Hello World!'"
      ]
     },
     "execution_count": 35,
     "metadata": {},
     "output_type": "execute_result"
    }
   ],
   "source": [
    "my_String"
   ]
  },
  {
   "cell_type": "code",
   "execution_count": 36,
   "id": "dd127a41",
   "metadata": {},
   "outputs": [
    {
     "data": {
      "text/plain": [
       "'Hello'"
      ]
     },
     "execution_count": 36,
     "metadata": {},
     "output_type": "execute_result"
    }
   ],
   "source": [
    "my_String[0:5]"
   ]
  },
  {
   "cell_type": "code",
   "execution_count": 37,
   "id": "836cedde",
   "metadata": {},
   "outputs": [],
   "source": [
    "z=my_String[0:5]"
   ]
  },
  {
   "cell_type": "code",
   "execution_count": 38,
   "id": "3b27a915",
   "metadata": {},
   "outputs": [
    {
     "data": {
      "text/plain": [
       "str"
      ]
     },
     "execution_count": 38,
     "metadata": {},
     "output_type": "execute_result"
    }
   ],
   "source": [
    "type(z)"
   ]
  },
  {
   "cell_type": "code",
   "execution_count": 39,
   "id": "6d8bd3b0",
   "metadata": {},
   "outputs": [
    {
     "name": "stdout",
     "output_type": "stream",
     "text": [
      "yas kac?45\n"
     ]
    }
   ],
   "source": [
    "yas=input(\"yas kac?\")"
   ]
  },
  {
   "cell_type": "code",
   "execution_count": 47,
   "id": "1a8b3087",
   "metadata": {
    "scrolled": true
   },
   "outputs": [
    {
     "data": {
      "text/plain": [
       "'World!'"
      ]
     },
     "execution_count": 47,
     "metadata": {},
     "output_type": "execute_result"
    }
   ],
   "source": [
    "my_String[-6:]"
   ]
  },
  {
   "cell_type": "code",
   "execution_count": 48,
   "id": "adf9c4e4",
   "metadata": {},
   "outputs": [
    {
     "data": {
      "text/plain": [
       "'Wo'"
      ]
     },
     "execution_count": 48,
     "metadata": {},
     "output_type": "execute_result"
    }
   ],
   "source": [
    "my_String[-6:-4]"
   ]
  },
  {
   "cell_type": "code",
   "execution_count": 49,
   "id": "21bfcd80",
   "metadata": {},
   "outputs": [
    {
     "data": {
      "text/plain": [
       "'Wo'"
      ]
     },
     "execution_count": 49,
     "metadata": {},
     "output_type": "execute_result"
    }
   ],
   "source": [
    "my_String[6:8]"
   ]
  },
  {
   "cell_type": "code",
   "execution_count": 50,
   "id": "d320c683",
   "metadata": {},
   "outputs": [
    {
     "data": {
      "text/plain": [
       "'Wo'"
      ]
     },
     "execution_count": 50,
     "metadata": {},
     "output_type": "execute_result"
    }
   ],
   "source": [
    "my_String[len(my_String)-6:len(my_String)-4]"
   ]
  },
  {
   "cell_type": "code",
   "execution_count": 51,
   "id": "8de00845",
   "metadata": {},
   "outputs": [],
   "source": [
    "string=\"muccratccakbbca\""
   ]
  },
  {
   "cell_type": "code",
   "execution_count": 63,
   "id": "41b9e967",
   "metadata": {},
   "outputs": [
    {
     "name": "stdout",
     "output_type": "stream",
     "text": [
      "murat   akca\n"
     ]
    }
   ],
   "source": [
    "print(string[0:2]+string[4:7]+\"   \"+string[9:11]+string[13:15])"
   ]
  },
  {
   "cell_type": "code",
   "execution_count": null,
   "id": "98fc0681",
   "metadata": {},
   "outputs": [],
   "source": []
  },
  {
   "cell_type": "code",
   "execution_count": null,
   "id": "ee1f994e",
   "metadata": {},
   "outputs": [],
   "source": []
  }
 ],
 "metadata": {
  "kernelspec": {
   "display_name": "Python 3 (ipykernel)",
   "language": "python",
   "name": "python3"
  },
  "language_info": {
   "codemirror_mode": {
    "name": "ipython",
    "version": 3
   },
   "file_extension": ".py",
   "mimetype": "text/x-python",
   "name": "python",
   "nbconvert_exporter": "python",
   "pygments_lexer": "ipython3",
   "version": "3.9.7"
  }
 },
 "nbformat": 4,
 "nbformat_minor": 5
}
